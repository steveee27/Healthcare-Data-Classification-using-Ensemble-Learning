{
 "cells": [
  {
   "cell_type": "markdown",
   "id": "481d8305",
   "metadata": {},
   "source": [
    "# **About Dataset**"
   ]
  },
  {
   "cell_type": "markdown",
   "id": "ae4ec903",
   "metadata": {},
   "source": [
    "This **synthetic healthcare dataset** has been meticulously curated to cater to data science, machine learning, and data analysis enthusiasts seeking a practical resource within the healthcare domain. Created to mirror real-world healthcare data, it serves as a platform for honing data manipulation and analytical skills, aiming to facilitate the development and demonstration of expertise in **healthcare analytics**. The dataset, inspired by the scarcity of diverse and accessible healthcare data for educational and research purposes, employs Python's Faker library to replicate the structure and attributes commonly found in healthcare records. \n",
    "\n",
    "By providing this synthetic yet comprehensive dataset, the intention is to **encourage innovation, learning, and knowledge exchange within the healthcare analytics field**. It offers a versatile range of applications, including the development and testing of predictive models, practicing data cleaning and analysis techniques, crafting data visualizations to unearth healthcare trends, and serving as a valuable educational resource for comprehending data science and machine learning concepts, particularly in the context of healthcare. Moreover, it can be treated as a **Multi-Class Classification Problem**, focusing on predicting outcomes in the **`Test Results`** category, encompassing three distinct classes: **'Normal,' 'Abnormal,' and 'Inconclusive.'**"
   ]
  },
  {
   "cell_type": "markdown",
   "id": "b9bd235c",
   "metadata": {},
   "source": [
    "Detailed Dataset Information comes from https://www.kaggle.com/datasets/prasad22/healthcare-dataset:\n",
    "1. **`Name`**: This column represents the name of the patient associated with the healthcare record.\n",
    "2. **`Age`**: The age of the patient at the time of admission, expressed in years.\n",
    "3. **`Gender`**: Indicates the gender of the patient, either \"Male\" or \"Female.\"\n",
    "4. **`Blood Type`**: The patient's blood type, which can be one of the common blood types (e.g., \"A+\", \"O-\", etc.).\n",
    "5. **`Medical Condition`**: This column specifies the primary medical condition or diagnosis associated with the patient, such as \"Diabetes,\" \"Hypertension,\" \"Asthma,\" and more.\n",
    "6. **`Date of Admission`**: The date on which the patient was admitted to the healthcare facility.\n",
    "7. **`Doctor`**: The name of the doctor responsible for the patient's care during their admission.\n",
    "8. **`Hospital`**: Identifies the healthcare facility or hospital where the patient was admitted.\n",
    "9. **`Insurance Provider`**: This column indicates the patient's insurance provider, which can be one of several options, including \"Aetna,\" \"Blue Cross,\" \"Cigna,\" \"UnitedHealthcare,\" and \"Medicare.\"\n",
    "10. **`Billing Amount`**: The amount of money billed for the patient's healthcare services during their admission. This is expressed as a floating-point number.\n",
    "11. **`Room Number`**: The room number where the patient was accommodated during their admission.\n",
    "12. **`Admission Type`**: Specifies the type of admission, which can be \"Emergency,\" \"Elective,\" or \"Urgent,\" reflecting the circumstances of the admission.\n",
    "13. **`Discharge Date`**: The date on which the patient was discharged from the healthcare facility, based on the admission date and a random number of days within a realistic range.\n",
    "14. **`Medication`**: Identifies a medication prescribed or administered to the patient during their admission. Examples include \"Aspirin,\" \"Ibuprofen,\" \"Penicillin,\" \"Paracetamol,\" and \"Lipitor.\"\n",
    "15. **`Test Results`**: Describes the results of a medical test conducted during the patient's admission. Possible values include \"Normal,\" \"Abnormal,\" or \"Inconclusive,\" indicating the outcome of the test."
   ]
  },
  {
   "cell_type": "markdown",
   "id": "f47dbf78",
   "metadata": {},
   "source": [
    "# **Data Understanding**"
   ]
  },
  {
   "cell_type": "code",
   "execution_count": 265,
   "id": "544793a8",
   "metadata": {},
   "outputs": [],
   "source": [
    "import pandas as pd\n",
    "import numpy as np\n",
    "import matplotlib.pyplot as plt\n",
    "import seaborn as sns"
   ]
  },
  {
   "cell_type": "code",
   "execution_count": 266,
   "id": "7b45c542",
   "metadata": {},
   "outputs": [],
   "source": [
    "df = pd.read_csv('healthcare_dataset.csv')"
   ]
  },
  {
   "cell_type": "code",
   "execution_count": 267,
   "id": "818f218e",
   "metadata": {
    "scrolled": false
   },
   "outputs": [
    {
     "data": {
      "text/html": [
       "<div>\n",
       "<style scoped>\n",
       "    .dataframe tbody tr th:only-of-type {\n",
       "        vertical-align: middle;\n",
       "    }\n",
       "\n",
       "    .dataframe tbody tr th {\n",
       "        vertical-align: top;\n",
       "    }\n",
       "\n",
       "    .dataframe thead th {\n",
       "        text-align: right;\n",
       "    }\n",
       "</style>\n",
       "<table border=\"1\" class=\"dataframe\">\n",
       "  <thead>\n",
       "    <tr style=\"text-align: right;\">\n",
       "      <th></th>\n",
       "      <th>Name</th>\n",
       "      <th>Age</th>\n",
       "      <th>Gender</th>\n",
       "      <th>Blood Type</th>\n",
       "      <th>Medical Condition</th>\n",
       "      <th>Date of Admission</th>\n",
       "      <th>Doctor</th>\n",
       "      <th>Hospital</th>\n",
       "      <th>Insurance Provider</th>\n",
       "      <th>Billing Amount</th>\n",
       "      <th>Room Number</th>\n",
       "      <th>Admission Type</th>\n",
       "      <th>Discharge Date</th>\n",
       "      <th>Medication</th>\n",
       "      <th>Test Results</th>\n",
       "    </tr>\n",
       "  </thead>\n",
       "  <tbody>\n",
       "    <tr>\n",
       "      <th>0</th>\n",
       "      <td>Tiffany Ramirez</td>\n",
       "      <td>81</td>\n",
       "      <td>Female</td>\n",
       "      <td>O-</td>\n",
       "      <td>Diabetes</td>\n",
       "      <td>2022-11-17</td>\n",
       "      <td>Patrick Parker</td>\n",
       "      <td>Wallace-Hamilton</td>\n",
       "      <td>Medicare</td>\n",
       "      <td>37490.983364</td>\n",
       "      <td>146</td>\n",
       "      <td>Elective</td>\n",
       "      <td>2022-12-01</td>\n",
       "      <td>Aspirin</td>\n",
       "      <td>Inconclusive</td>\n",
       "    </tr>\n",
       "    <tr>\n",
       "      <th>1</th>\n",
       "      <td>Ruben Burns</td>\n",
       "      <td>35</td>\n",
       "      <td>Male</td>\n",
       "      <td>O+</td>\n",
       "      <td>Asthma</td>\n",
       "      <td>2023-06-01</td>\n",
       "      <td>Diane Jackson</td>\n",
       "      <td>Burke, Griffin and Cooper</td>\n",
       "      <td>UnitedHealthcare</td>\n",
       "      <td>47304.064845</td>\n",
       "      <td>404</td>\n",
       "      <td>Emergency</td>\n",
       "      <td>2023-06-15</td>\n",
       "      <td>Lipitor</td>\n",
       "      <td>Normal</td>\n",
       "    </tr>\n",
       "    <tr>\n",
       "      <th>2</th>\n",
       "      <td>Chad Byrd</td>\n",
       "      <td>61</td>\n",
       "      <td>Male</td>\n",
       "      <td>B-</td>\n",
       "      <td>Obesity</td>\n",
       "      <td>2019-01-09</td>\n",
       "      <td>Paul Baker</td>\n",
       "      <td>Walton LLC</td>\n",
       "      <td>Medicare</td>\n",
       "      <td>36874.896997</td>\n",
       "      <td>292</td>\n",
       "      <td>Emergency</td>\n",
       "      <td>2019-02-08</td>\n",
       "      <td>Lipitor</td>\n",
       "      <td>Normal</td>\n",
       "    </tr>\n",
       "    <tr>\n",
       "      <th>3</th>\n",
       "      <td>Antonio Frederick</td>\n",
       "      <td>49</td>\n",
       "      <td>Male</td>\n",
       "      <td>B-</td>\n",
       "      <td>Asthma</td>\n",
       "      <td>2020-05-02</td>\n",
       "      <td>Brian Chandler</td>\n",
       "      <td>Garcia Ltd</td>\n",
       "      <td>Medicare</td>\n",
       "      <td>23303.322092</td>\n",
       "      <td>480</td>\n",
       "      <td>Urgent</td>\n",
       "      <td>2020-05-03</td>\n",
       "      <td>Penicillin</td>\n",
       "      <td>Abnormal</td>\n",
       "    </tr>\n",
       "    <tr>\n",
       "      <th>4</th>\n",
       "      <td>Mrs. Brandy Flowers</td>\n",
       "      <td>51</td>\n",
       "      <td>Male</td>\n",
       "      <td>O-</td>\n",
       "      <td>Arthritis</td>\n",
       "      <td>2021-07-09</td>\n",
       "      <td>Dustin Griffin</td>\n",
       "      <td>Jones, Brown and Murray</td>\n",
       "      <td>UnitedHealthcare</td>\n",
       "      <td>18086.344184</td>\n",
       "      <td>477</td>\n",
       "      <td>Urgent</td>\n",
       "      <td>2021-08-02</td>\n",
       "      <td>Paracetamol</td>\n",
       "      <td>Normal</td>\n",
       "    </tr>\n",
       "  </tbody>\n",
       "</table>\n",
       "</div>"
      ],
      "text/plain": [
       "                  Name  Age  Gender Blood Type Medical Condition  \\\n",
       "0      Tiffany Ramirez   81  Female         O-          Diabetes   \n",
       "1          Ruben Burns   35    Male         O+            Asthma   \n",
       "2            Chad Byrd   61    Male         B-           Obesity   \n",
       "3    Antonio Frederick   49    Male         B-            Asthma   \n",
       "4  Mrs. Brandy Flowers   51    Male         O-         Arthritis   \n",
       "\n",
       "  Date of Admission          Doctor                   Hospital  \\\n",
       "0        2022-11-17  Patrick Parker           Wallace-Hamilton   \n",
       "1        2023-06-01   Diane Jackson  Burke, Griffin and Cooper   \n",
       "2        2019-01-09      Paul Baker                 Walton LLC   \n",
       "3        2020-05-02  Brian Chandler                 Garcia Ltd   \n",
       "4        2021-07-09  Dustin Griffin    Jones, Brown and Murray   \n",
       "\n",
       "  Insurance Provider  Billing Amount  Room Number Admission Type  \\\n",
       "0           Medicare    37490.983364          146       Elective   \n",
       "1   UnitedHealthcare    47304.064845          404      Emergency   \n",
       "2           Medicare    36874.896997          292      Emergency   \n",
       "3           Medicare    23303.322092          480         Urgent   \n",
       "4   UnitedHealthcare    18086.344184          477         Urgent   \n",
       "\n",
       "  Discharge Date   Medication  Test Results  \n",
       "0     2022-12-01      Aspirin  Inconclusive  \n",
       "1     2023-06-15      Lipitor        Normal  \n",
       "2     2019-02-08      Lipitor        Normal  \n",
       "3     2020-05-03   Penicillin      Abnormal  \n",
       "4     2021-08-02  Paracetamol        Normal  "
      ]
     },
     "execution_count": 267,
     "metadata": {},
     "output_type": "execute_result"
    }
   ],
   "source": [
    "df.head()"
   ]
  },
  {
   "cell_type": "code",
   "execution_count": 268,
   "id": "6507be90",
   "metadata": {},
   "outputs": [
    {
     "data": {
      "text/plain": [
       "(10000, 15)"
      ]
     },
     "execution_count": 268,
     "metadata": {},
     "output_type": "execute_result"
    }
   ],
   "source": [
    "df.shape"
   ]
  },
  {
   "cell_type": "markdown",
   "id": "0c7e73bd",
   "metadata": {},
   "source": [
    "There are **10,000** observations or data points, each characterized by **15** different features or variables."
   ]
  },
  {
   "cell_type": "code",
   "execution_count": 269,
   "id": "0ba4e4fd",
   "metadata": {},
   "outputs": [
    {
     "data": {
      "text/plain": [
       "Index(['Name', 'Age', 'Gender', 'Blood Type', 'Medical Condition',\n",
       "       'Date of Admission', 'Doctor', 'Hospital', 'Insurance Provider',\n",
       "       'Billing Amount', 'Room Number', 'Admission Type', 'Discharge Date',\n",
       "       'Medication', 'Test Results'],\n",
       "      dtype='object')"
      ]
     },
     "execution_count": 269,
     "metadata": {},
     "output_type": "execute_result"
    }
   ],
   "source": [
    "df.columns"
   ]
  },
  {
   "cell_type": "code",
   "execution_count": 270,
   "id": "89f568c5",
   "metadata": {},
   "outputs": [
    {
     "name": "stdout",
     "output_type": "stream",
     "text": [
      "<class 'pandas.core.frame.DataFrame'>\n",
      "RangeIndex: 10000 entries, 0 to 9999\n",
      "Data columns (total 15 columns):\n",
      " #   Column              Non-Null Count  Dtype  \n",
      "---  ------              --------------  -----  \n",
      " 0   Name                10000 non-null  object \n",
      " 1   Age                 10000 non-null  int64  \n",
      " 2   Gender              10000 non-null  object \n",
      " 3   Blood Type          10000 non-null  object \n",
      " 4   Medical Condition   10000 non-null  object \n",
      " 5   Date of Admission   10000 non-null  object \n",
      " 6   Doctor              10000 non-null  object \n",
      " 7   Hospital            10000 non-null  object \n",
      " 8   Insurance Provider  10000 non-null  object \n",
      " 9   Billing Amount      10000 non-null  float64\n",
      " 10  Room Number         10000 non-null  int64  \n",
      " 11  Admission Type      10000 non-null  object \n",
      " 12  Discharge Date      10000 non-null  object \n",
      " 13  Medication          10000 non-null  object \n",
      " 14  Test Results        10000 non-null  object \n",
      "dtypes: float64(1), int64(2), object(12)\n",
      "memory usage: 1.1+ MB\n"
     ]
    }
   ],
   "source": [
    "df.info()"
   ]
  },
  {
   "cell_type": "code",
   "execution_count": 271,
   "id": "91bb794e",
   "metadata": {},
   "outputs": [
    {
     "data": {
      "text/plain": [
       "Name                  0\n",
       "Age                   0\n",
       "Gender                0\n",
       "Blood Type            0\n",
       "Medical Condition     0\n",
       "Date of Admission     0\n",
       "Doctor                0\n",
       "Hospital              0\n",
       "Insurance Provider    0\n",
       "Billing Amount        0\n",
       "Room Number           0\n",
       "Admission Type        0\n",
       "Discharge Date        0\n",
       "Medication            0\n",
       "Test Results          0\n",
       "dtype: int64"
      ]
     },
     "execution_count": 271,
     "metadata": {},
     "output_type": "execute_result"
    }
   ],
   "source": [
    "df.isna().sum()"
   ]
  },
  {
   "cell_type": "markdown",
   "id": "d4616f97",
   "metadata": {},
   "source": [
    "The **absence of null values** within the dataset signifies a **high-quality** and **well-maintained dataset**, contributing to its cleanliness and reliability for analytical purposes. The lack of null values or missing data points across the observations ensures that each data point contains complete information for all variables. This aspect is fundamental in data analysis and modeling as it allows for a comprehensive exploration of relationships between variables and facilitates the application of machine learning algorithms **without** the need for **imputation** or **handling missing data** strategies. "
   ]
  },
  {
   "cell_type": "markdown",
   "id": "91597c6d",
   "metadata": {},
   "source": [
    "### Numerical Data "
   ]
  },
  {
   "cell_type": "markdown",
   "id": "b7c56124",
   "metadata": {},
   "source": [
    "For numerical columns such as **`Age`, `Billing Amount`, and `Room Number`**, various data preprocessing steps can be applied:\n",
    "\n",
    "**1. Handling Outliers:** To identify outliers, statistical techniques like calculating summary statistics (mean, median, standard deviation, quartiles) and visual methods like box plots can be used."
   ]
  },
  {
   "cell_type": "code",
   "execution_count": 272,
   "id": "966825a9",
   "metadata": {},
   "outputs": [
    {
     "data": {
      "text/html": [
       "<div>\n",
       "<style scoped>\n",
       "    .dataframe tbody tr th:only-of-type {\n",
       "        vertical-align: middle;\n",
       "    }\n",
       "\n",
       "    .dataframe tbody tr th {\n",
       "        vertical-align: top;\n",
       "    }\n",
       "\n",
       "    .dataframe thead th {\n",
       "        text-align: right;\n",
       "    }\n",
       "</style>\n",
       "<table border=\"1\" class=\"dataframe\">\n",
       "  <thead>\n",
       "    <tr style=\"text-align: right;\">\n",
       "      <th></th>\n",
       "      <th>Age</th>\n",
       "      <th>Billing Amount</th>\n",
       "      <th>Room Number</th>\n",
       "    </tr>\n",
       "  </thead>\n",
       "  <tbody>\n",
       "    <tr>\n",
       "      <th>count</th>\n",
       "      <td>10000.000000</td>\n",
       "      <td>10000.000000</td>\n",
       "      <td>10000.000000</td>\n",
       "    </tr>\n",
       "    <tr>\n",
       "      <th>mean</th>\n",
       "      <td>51.452200</td>\n",
       "      <td>25516.806778</td>\n",
       "      <td>300.082000</td>\n",
       "    </tr>\n",
       "    <tr>\n",
       "      <th>std</th>\n",
       "      <td>19.588974</td>\n",
       "      <td>14067.292709</td>\n",
       "      <td>115.806027</td>\n",
       "    </tr>\n",
       "    <tr>\n",
       "      <th>min</th>\n",
       "      <td>18.000000</td>\n",
       "      <td>1000.180837</td>\n",
       "      <td>101.000000</td>\n",
       "    </tr>\n",
       "    <tr>\n",
       "      <th>25%</th>\n",
       "      <td>35.000000</td>\n",
       "      <td>13506.523967</td>\n",
       "      <td>199.000000</td>\n",
       "    </tr>\n",
       "    <tr>\n",
       "      <th>50%</th>\n",
       "      <td>52.000000</td>\n",
       "      <td>25258.112566</td>\n",
       "      <td>299.000000</td>\n",
       "    </tr>\n",
       "    <tr>\n",
       "      <th>75%</th>\n",
       "      <td>68.000000</td>\n",
       "      <td>37733.913727</td>\n",
       "      <td>400.000000</td>\n",
       "    </tr>\n",
       "    <tr>\n",
       "      <th>max</th>\n",
       "      <td>85.000000</td>\n",
       "      <td>49995.902283</td>\n",
       "      <td>500.000000</td>\n",
       "    </tr>\n",
       "  </tbody>\n",
       "</table>\n",
       "</div>"
      ],
      "text/plain": [
       "                Age  Billing Amount   Room Number\n",
       "count  10000.000000    10000.000000  10000.000000\n",
       "mean      51.452200    25516.806778    300.082000\n",
       "std       19.588974    14067.292709    115.806027\n",
       "min       18.000000     1000.180837    101.000000\n",
       "25%       35.000000    13506.523967    199.000000\n",
       "50%       52.000000    25258.112566    299.000000\n",
       "75%       68.000000    37733.913727    400.000000\n",
       "max       85.000000    49995.902283    500.000000"
      ]
     },
     "execution_count": 272,
     "metadata": {},
     "output_type": "execute_result"
    }
   ],
   "source": [
    "df.describe()"
   ]
  },
  {
   "cell_type": "markdown",
   "id": "be19388f",
   "metadata": {},
   "source": [
    "1. **Age:**\n",
    "   - The average age of patients in this dataset is approximately 51.45 years, with a standard deviation of about 19.59 years.\n",
    "   - The youngest patient is 18 years old, while the oldest patient is 85 years old.\n",
    "   - The majority of patients fall within the range of 35 to 68 years old, as indicated by the interquartile range (25th to 75th percentile).\n",
    "   \n",
    "   \n",
    "2. **Billing Amount:**\n",
    "   - The average billing amount for healthcare services during admission is around 25,516.81 monetary units.\n",
    "   - The standard deviation of approximately 14,067.29 suggests a considerable variation in the billed amounts.\n",
    "   - The minimum billed amount is 1000.18, while the maximum billed amount is 49,995.90.\n",
    "   - The range of billed amounts spans from a minimum of 1000.18 to a maximum of 49,995.90, reflecting diverse costs for healthcare services among patients.\n",
    "   \n",
    "   \n",
    "3. **Room Number:**\n",
    "   - Room numbers range from 101 to 500, indicating a diverse range of accommodations utilized during patients' admissions."
   ]
  },
  {
   "cell_type": "code",
   "execution_count": 273,
   "id": "87e9adca",
   "metadata": {},
   "outputs": [
    {
     "data": {
      "image/png": "[encoded data removed]",
      "text/plain": [
       "<Figure size 576x432 with 3 Axes>"
      ]
     },
     "metadata": {
      "needs_background": "light"
     },
     "output_type": "display_data"
    }
   ],
   "source": [
    "plt.figure(figsize = (8, 6))\n",
    "\n",
    "plt.subplot(1, 3, 1)\n",
    "plt.boxplot(df['Age'])\n",
    "plt.title('Age Boxplot')\n",
    "\n",
    "plt.subplot(1, 3, 2)\n",
    "plt.boxplot(df['Billing Amount'])\n",
    "plt.title('Billing Amount Boxplot')\n",
    "\n",
    "plt.subplot(1, 3, 3)\n",
    "plt.boxplot(df['Room Number'])\n",
    "plt.title('Room Number Boxplot')\n",
    "\n",
    "plt.tight_layout()\n",
    "plt.show()"
   ]
  },
  {
   "cell_type": "markdown",
   "id": "aa6f5c0b",
   "metadata": {},
   "source": [
    "The boxplots for **'Age,' 'Billing Amount,' and 'Room Number'** columns display **no visible outliers**, indicating that there are no data points significantly distant from the central distribution of the data. In each boxplot, the absence of individual data points beyond the whiskers (the lines extending from the boxes) suggests that there are no extreme values lying outside the typical range of the data. This absence of outliers implies a more consistent and less skewed distribution within these numerical columns, contributing to a **more stable and reliable dataset** for subsequent analysis or modeling tasks."
   ]
  },
  {
   "cell_type": "markdown",
   "id": "c3ce4445",
   "metadata": {},
   "source": [
    "**2. Assessing Data Spread:** Histograms provide a visual representation of the distribution of numerical data. Histograms help in understanding the range, distribution shape (normal, skewed), and concentration of data points within different value ranges."
   ]
  },
  {
   "cell_type": "code",
   "execution_count": 274,
   "id": "ea003f5c",
   "metadata": {},
   "outputs": [
    {
     "data": {
      "image/png": "[encoded data removed]",
      "text/plain": [
       "<Figure size 1080x360 with 3 Axes>"
      ]
     },
     "metadata": {
      "needs_background": "light"
     },
     "output_type": "display_data"
    }
   ],
   "source": [
    "fig, axes = plt.subplots(nrows = 1, ncols = 3, figsize = (15, 5))\n",
    "\n",
    "axes[0].hist(df['Age'], bins = 10, color = 'skyblue', edgecolor = 'black')\n",
    "axes[0].set_title('Age Histogram')\n",
    "axes[0].set_xlabel('Age')\n",
    "axes[0].set_ylabel('Frequency')\n",
    "\n",
    "axes[1].hist(df['Billing Amount'], bins = 20, color = 'salmon', edgecolor = 'black')\n",
    "axes[1].set_title('Billing Amount Histogram')\n",
    "axes[1].set_xlabel('Billing Amount')\n",
    "axes[1].set_ylabel('Frequency')\n",
    "\n",
    "axes[2].hist(df['Room Number'], bins = 20, color = 'lightgreen', edgecolor = 'black')\n",
    "axes[2].set_title('Room Number Histogram')\n",
    "axes[2].set_xlabel('Room Number')\n",
    "axes[2].set_ylabel('Frequency')\n",
    "\n",
    "plt.tight_layout()\n",
    "plt.show()"
   ]
  },
  {
   "cell_type": "markdown",
   "id": "461bdc73",
   "metadata": {},
   "source": [
    "The histograms for **`Age`**, **`Billing Amount`**, and **`Room Number`** columns exhibit a **symmetric** and **bell-shaped pattern**, suggesting an approximate **normal distribution** without noticeable skewness. This observation implies a balanced distribution around the mean, indicating a lack of significant outliers or extreme values within the data."
   ]
  },
  {
   "cell_type": "markdown",
   "id": "490d416f",
   "metadata": {},
   "source": [
    "### Categorical Data "
   ]
  },
  {
   "cell_type": "markdown",
   "id": "b9d776be",
   "metadata": {},
   "source": [
    "The `value_counts()` method provides a quick summary of unique categories in a categorical feature along with their respective frequencies. It helps understand the distribution, prevalence, and balance of different categories within the dataset. This insight aids in detecting biases, outliers, and guiding preprocessing or modeling decisions for categorical data."
   ]
  },
  {
   "cell_type": "code",
   "execution_count": 275,
   "id": "357c268b",
   "metadata": {},
   "outputs": [
    {
     "data": {
      "text/plain": [
       "Michael Johnson        7\n",
       "James Johnson          6\n",
       "Michael Miller         4\n",
       "Michelle Williams      4\n",
       "Scott Smith            4\n",
       "                      ..\n",
       "Sharon Rose            1\n",
       "Stephanie Knox         1\n",
       "Anthony Jones          1\n",
       "Melissa Perkins DVM    1\n",
       "Eric King              1\n",
       "Name: Name, Length: 9378, dtype: int64"
      ]
     },
     "execution_count": 275,
     "metadata": {},
     "output_type": "execute_result"
    }
   ],
   "source": [
    "df['Name'].value_counts()"
   ]
  },
  {
   "cell_type": "markdown",
   "id": "fbea2643",
   "metadata": {},
   "source": [
    "The provided data shows the count of occurrences for each unique name listed in the `Name` column of the dataset. It reveals that certain names like **\"Michael Johnson,\" \"James Johnson,\" \"Michael Miller,\" \"Michelle Williams,\" and \"Scott Smith\"** appear more frequently than others, with \"Michael Johnson\" being the most common, occurring seven times. This indicates that some names are more prevalent, while others appear only once in the dataset."
   ]
  },
  {
   "cell_type": "code",
   "execution_count": 276,
   "id": "1e8ba806",
   "metadata": {},
   "outputs": [
    {
     "data": {
      "text/plain": [
       "Female    5075\n",
       "Male      4925\n",
       "Name: Gender, dtype: int64"
      ]
     },
     "execution_count": 276,
     "metadata": {},
     "output_type": "execute_result"
    }
   ],
   "source": [
    "df['Gender'].value_counts()"
   ]
  },
  {
   "cell_type": "code",
   "execution_count": 277,
   "id": "f35b0857",
   "metadata": {},
   "outputs": [
    {
     "data": {
      "image/png": "[encoded data removed]",
      "text/plain": [
       "<Figure size 576x432 with 1 Axes>"
      ]
     },
     "metadata": {},
     "output_type": "display_data"
    }
   ],
   "source": [
    "gender_counts = df['Gender'].value_counts()\n",
    "plt.figure(figsize=(8, 6))\n",
    "plt.pie(gender_counts, labels=gender_counts.index, autopct='%1.1f%%', startangle=140)\n",
    "plt.title('Distribution of Gender') \n",
    "plt.axis('equal') \n",
    "plt.show()"
   ]
  },
  {
   "cell_type": "markdown",
   "id": "4b64e2cc",
   "metadata": {},
   "source": [
    "The **`Gender`** column in the healthcare dataset shows a near-even split between **'Female'** and **'Male'** categories, with approximately **5,075** instances classified as **'Female'** and **4,925** instances classified as **'Male.'** This balanced distribution indicates an equitable representation of genders within the dataset, providing a well-rounded basis for analyses and modeling in healthcare."
   ]
  },
  {
   "cell_type": "code",
   "execution_count": 278,
   "id": "610b2752",
   "metadata": {},
   "outputs": [
    {
     "data": {
      "text/plain": [
       "AB-    1275\n",
       "AB+    1258\n",
       "B-     1252\n",
       "O+     1248\n",
       "O-     1244\n",
       "B+     1244\n",
       "A+     1241\n",
       "A-     1238\n",
       "Name: Blood Type, dtype: int64"
      ]
     },
     "execution_count": 278,
     "metadata": {},
     "output_type": "execute_result"
    }
   ],
   "source": [
    "df['Blood Type'].value_counts()"
   ]
  },
  {
   "cell_type": "code",
   "execution_count": 279,
   "id": "5bcc114e",
   "metadata": {},
   "outputs": [
    {
     "data": {
      "image/png": "[encoded data removed]",
      "text/plain": [
       "<Figure size 576x576 with 1 Axes>"
      ]
     },
     "metadata": {},
     "output_type": "display_data"
    }
   ],
   "source": [
    "blood_type_counts = df['Blood Type'].value_counts()\n",
    "plt.figure(figsize=(8, 8))\n",
    "plt.pie(blood_type_counts, labels=blood_type_counts.index, autopct='%1.1f%%', startangle=140)\n",
    "plt.title('Distribution of Blood Types')\n",
    "plt.axis('equal')\n",
    "plt.show()"
   ]
  },
  {
   "cell_type": "markdown",
   "id": "d3ff303d",
   "metadata": {},
   "source": [
    "Collectively, these **`blood types`** together encompass the entire dataset, each contributing almost **equally** to the overall distribution of blood types. The counts and percentages illustrate a relatively balanced representation of different blood types within the healthcare dataset, indicating a **diverse population** or **sample concerning blood type variations**. This information is essential in various medical contexts, such as blood transfusions, compatibility assessments, and understanding blood-related conditions, where the prevalence of specific blood types could be significant."
   ]
  },
  {
   "cell_type": "code",
   "execution_count": 280,
   "id": "01ad741f",
   "metadata": {},
   "outputs": [
    {
     "data": {
      "text/plain": [
       "Asthma          1708\n",
       "Cancer          1703\n",
       "Hypertension    1688\n",
       "Arthritis       1650\n",
       "Obesity         1628\n",
       "Diabetes        1623\n",
       "Name: Medical Condition, dtype: int64"
      ]
     },
     "execution_count": 280,
     "metadata": {},
     "output_type": "execute_result"
    }
   ],
   "source": [
    "df['Medical Condition'].value_counts()"
   ]
  },
  {
   "cell_type": "code",
   "execution_count": 281,
   "id": "83a00dca",
   "metadata": {},
   "outputs": [
    {
     "data": {
      "image/png": "[encoded data removed]",
      "text/plain": [
       "<Figure size 576x576 with 1 Axes>"
      ]
     },
     "metadata": {},
     "output_type": "display_data"
    }
   ],
   "source": [
    "medical_condition_counts = df['Medical Condition'].value_counts()\n",
    "plt.figure(figsize=(8, 8))\n",
    "plt.pie(medical_condition_counts, labels=medical_condition_counts.index, autopct='%1.1f%%', startangle=140)\n",
    "plt.title('Distribution of Medical Conditions')\n",
    "plt.axis('equal')\n",
    "plt.show()"
   ]
  },
  {
   "cell_type": "markdown",
   "id": "341ea2a2",
   "metadata": {},
   "source": [
    "These counts and percentages elucidate the distribution and prevalence of various medical conditions within the dataset. The data showcases a **fairly close occurrence** of different medical conditions, **none substantially dominating** the dataset. This insight is crucial for healthcare analytics, as it presents a diverse array of prevalent medical conditions, aiding in identifying key health concerns or patterns within the studied population."
   ]
  },
  {
   "cell_type": "code",
   "execution_count": 282,
   "id": "179d0374",
   "metadata": {},
   "outputs": [
    {
     "data": {
      "text/plain": [
       "2019-04-12    15\n",
       "2022-04-27    15\n",
       "2021-10-23    14\n",
       "2023-03-27    14\n",
       "2022-10-01    14\n",
       "              ..\n",
       "2022-07-16     1\n",
       "2022-06-15     1\n",
       "2022-12-11     1\n",
       "2022-10-28     1\n",
       "2019-09-23     1\n",
       "Name: Date of Admission, Length: 1815, dtype: int64"
      ]
     },
     "execution_count": 282,
     "metadata": {},
     "output_type": "execute_result"
    }
   ],
   "source": [
    "df['Date of Admission'].value_counts()"
   ]
  },
  {
   "cell_type": "markdown",
   "id": "0203a4dd",
   "metadata": {},
   "source": [
    "The **`Date of Admission`** column showcases various admission dates with differing frequencies. For instance:\n",
    "- **April 12, 2019, and April 27, 2022:** These dates have the highest number of admissions, each with 15 occurrences, indicating days with notably higher patient intake compared to other days.\n",
    "- **October 23, 2021, March 27, 2023, October 1, 2022:** These dates also exhibit a relatively high number of admissions, each having 14 occurrences, suggesting days with increased patient admissions.\n",
    "- **Diverse Admission Frequency:** The dataset encompasses 1815 unique admission dates, ranging from days with a substantial number of admissions to dates with only one recorded admission.\n",
    "\n",
    "This insight portrays the variability in admission frequency across different dates. Some dates experienced notably higher patient admissions, potentially indicating peaks or specific events affecting hospital admissions, while others had relatively lower or singular admissions throughout the dataset. Understanding these variations can be crucial for hospital management in resource allocation and planning based on peak admission days or identifying trends in patient intake."
   ]
  },
  {
   "cell_type": "code",
   "execution_count": 283,
   "id": "423aa3a9",
   "metadata": {},
   "outputs": [
    {
     "data": {
      "image/png": "[encoded data removed]",
      "text/plain": [
       "<Figure size 864x432 with 1 Axes>"
      ]
     },
     "metadata": {
      "needs_background": "light"
     },
     "output_type": "display_data"
    },
    {
     "data": {
      "image/png": "[encoded data removed]",
      "text/plain": [
       "<Figure size 864x432 with 1 Axes>"
      ]
     },
     "metadata": {
      "needs_background": "light"
     },
     "output_type": "display_data"
    }
   ],
   "source": [
    "df['Date of Admission'] = pd.to_datetime(df['Date of Admission'])\n",
    "admission_dates_monthly = df['Date of Admission'].groupby(df['Date of Admission'].dt.to_period('M')).agg('count')\n",
    "admission_dates_yearly = df['Date of Admission'].groupby(df['Date of Admission'].dt.to_period('Y')).agg('count')\n",
    "\n",
    "plt.figure(figsize=(12, 6))\n",
    "admission_dates_monthly.plot(kind='line', marker='o', color='blue')\n",
    "plt.title('Number of Admissions per Month')\n",
    "plt.xlabel('Month')\n",
    "plt.ylabel('Count')\n",
    "plt.xticks(rotation=45)\n",
    "plt.tight_layout()\n",
    "plt.show()\n",
    "\n",
    "plt.figure(figsize=(12, 6))\n",
    "admission_dates_yearly.plot(kind='line', marker='o', color='green')\n",
    "plt.title('Number of Admissions per Year')\n",
    "plt.xlabel('Year')\n",
    "plt.ylabel('Count')\n",
    "plt.xticks(rotation=45)\n",
    "plt.tight_layout()\n",
    "plt.show()"
   ]
  },
  {
   "cell_type": "code",
   "execution_count": 284,
   "id": "0f28e5a5",
   "metadata": {},
   "outputs": [
    {
     "data": {
      "text/plain": [
       "Michael Johnson      7\n",
       "Robert Brown         5\n",
       "Michelle Anderson    5\n",
       "Matthew Smith        5\n",
       "Jennifer Smith       5\n",
       "                    ..\n",
       "Sandra Howard        1\n",
       "Steven Fuller        1\n",
       "Benjamin Lawson      1\n",
       "Allison Woods        1\n",
       "Tasha Avila          1\n",
       "Name: Doctor, Length: 9416, dtype: int64"
      ]
     },
     "execution_count": 284,
     "metadata": {},
     "output_type": "execute_result"
    }
   ],
   "source": [
    "df['Doctor'].value_counts()"
   ]
  },
  {
   "cell_type": "markdown",
   "id": "67c41331",
   "metadata": {},
   "source": [
    "The data reveals the distribution of patient records among various **`doctors`** in the dataset. **Michael Johnson** holds the highest number of patient records, totaling **7** instances, suggesting a prominent association with patient care. **Doctors Robert Brown, Michelle Anderson, Matthew Smith, and Jennifer Smith** each have **5** patient records, indicating substantial involvement but fewer patient records compared to Michael Johnson. The dataset includes **9416 unique doctors**, displaying a range from those handling several patient records to others with only one record attributed to them. This diverse distribution sheds light on varying levels of involvement among doctors, providing insight into their patient caseloads within the healthcare dataset."
   ]
  },
  {
   "cell_type": "code",
   "execution_count": 285,
   "id": "8eaef9cf",
   "metadata": {},
   "outputs": [
    {
     "data": {
      "text/plain": [
       "Smith PLC                        19\n",
       "Smith and Sons                   17\n",
       "Smith Ltd                        14\n",
       "Smith Inc                        14\n",
       "Johnson PLC                      13\n",
       "                                 ..\n",
       "Daniel-Benton                     1\n",
       "Franco, Hicks and Anderson        1\n",
       "Berry PLC                         1\n",
       "Martinez, Johnson and Carlson     1\n",
       "Torres, Young and Stewart         1\n",
       "Name: Hospital, Length: 8639, dtype: int64"
      ]
     },
     "execution_count": 285,
     "metadata": {},
     "output_type": "execute_result"
    }
   ],
   "source": [
    "df['Hospital'].value_counts()"
   ]
  },
  {
   "cell_type": "markdown",
   "id": "c025dc10",
   "metadata": {},
   "source": [
    "The data presents the distribution of patient records among various **`hospitals`** in the dataset. Hospitals like **Smith PLC, Smith and Sons, Smith Ltd, and Smith Inc** exhibit relatively higher counts of patient records, ranging from **14 to 19** instances, indicating a more significant association with patient admissions or healthcare services within the dataset. **Johnson PLC** follows closely with **13** patient records. However, there are **8639 unique hospitals** represented in the dataset, showcasing diverse counts of patient records attributed to each. This variability suggests varying levels of activity or patient admissions across different hospitals, where some have a more substantial presence with higher patient record counts, while others show fewer instances associated with them, reflecting differing levels of engagement within the healthcare dataset."
   ]
  },
  {
   "cell_type": "code",
   "execution_count": 286,
   "id": "c1ee1acc",
   "metadata": {},
   "outputs": [
    {
     "data": {
      "text/plain": [
       "Cigna               2040\n",
       "Blue Cross          2032\n",
       "Aetna               2025\n",
       "UnitedHealthcare    1978\n",
       "Medicare            1925\n",
       "Name: Insurance Provider, dtype: int64"
      ]
     },
     "execution_count": 286,
     "metadata": {},
     "output_type": "execute_result"
    }
   ],
   "source": [
    "df['Insurance Provider'].value_counts()"
   ]
  },
  {
   "cell_type": "code",
   "execution_count": 287,
   "id": "1000d12a",
   "metadata": {},
   "outputs": [
    {
     "data": {
      "image/png": "[encoded data removed]",
      "text/plain": [
       "<Figure size 576x576 with 1 Axes>"
      ]
     },
     "metadata": {},
     "output_type": "display_data"
    }
   ],
   "source": [
    "insurance_provider_counts = df['Insurance Provider'].value_counts()\n",
    "plt.figure(figsize=(8, 8))\n",
    "plt.pie(insurance_provider_counts, labels=insurance_provider_counts.index, autopct='%1.1f%%', startangle=140)\n",
    "plt.title('Distribution of Insurance Providers')\n",
    "plt.axis('equal')\n",
    "plt.show()"
   ]
  },
  {
   "cell_type": "markdown",
   "id": "8a096554",
   "metadata": {},
   "source": [
    "The data reflects a relatively balanced distribution among these major **`insurance providers`** within the dataset. **Cigna, Blue Cross, and Aetna** lead with a **similar percentage** of representation, followed closely by **UnitedHealthcare and Medicare**, suggesting a **fairly even distribution** of patients among these key insurance providers."
   ]
  },
  {
   "cell_type": "code",
   "execution_count": 288,
   "id": "8a86e5eb",
   "metadata": {
    "scrolled": true
   },
   "outputs": [
    {
     "data": {
      "text/plain": [
       "Urgent       3391\n",
       "Emergency    3367\n",
       "Elective     3242\n",
       "Name: Admission Type, dtype: int64"
      ]
     },
     "execution_count": 288,
     "metadata": {},
     "output_type": "execute_result"
    }
   ],
   "source": [
    "df['Admission Type'].value_counts()"
   ]
  },
  {
   "cell_type": "code",
   "execution_count": 289,
   "id": "66ba4812",
   "metadata": {},
   "outputs": [
    {
     "data": {
      "image/png": "[encoded data removed]",
      "text/plain": [
       "<Figure size 576x576 with 1 Axes>"
      ]
     },
     "metadata": {},
     "output_type": "display_data"
    }
   ],
   "source": [
    "admission_type_counts = df['Admission Type'].value_counts()\n",
    "plt.figure(figsize=(8, 8))\n",
    "plt.pie(admission_type_counts, labels=admission_type_counts.index, autopct='%1.1f%%', startangle=140)\n",
    "plt.title('Distribution of Admission Types')\n",
    "plt.axis('equal')\n",
    "plt.show()"
   ]
  },
  {
   "cell_type": "markdown",
   "id": "39c97bdf",
   "metadata": {},
   "source": [
    "The data reflects a relatively **balanced distribution** among these major **`admission types`** within the dataset. **Urgent and Emergency** admissions hold **similar** percentages, with **Elective** admissions **slightly behind** but still maintaining a notable representation. This insight showcases the relative frequency of different admission types, portraying the diversity in reasons for patient admissions recorded in the dataset."
   ]
  },
  {
   "cell_type": "code",
   "execution_count": 290,
   "id": "4d2e4994",
   "metadata": {},
   "outputs": [
    {
     "data": {
      "text/plain": [
       "2021-11-28    14\n",
       "2020-10-08    13\n",
       "2020-10-18    13\n",
       "2022-08-17    13\n",
       "2021-03-23    13\n",
       "              ..\n",
       "2018-11-16     1\n",
       "2019-02-19     1\n",
       "2018-12-27     1\n",
       "2020-12-25     1\n",
       "2023-11-27     1\n",
       "Name: Discharge Date, Length: 1834, dtype: int64"
      ]
     },
     "execution_count": 290,
     "metadata": {},
     "output_type": "execute_result"
    }
   ],
   "source": [
    "df['Discharge Date'].value_counts()"
   ]
  },
  {
   "cell_type": "markdown",
   "id": "e2791cb0",
   "metadata": {},
   "source": [
    "The provided data illustrates the count of patient discharge dates within the dataset. Here's a concise overview:\n",
    "- **November 28, 2021:** Represents the discharge date with the highest frequency of occurrences, noted 14 times in the dataset, indicating a notable number of patients discharged on this specific date.\n",
    "- **October 8, 2020, October 18, 2020, August 17, 2022, March 23, 2021:** These dates also demonstrate a relatively high frequency of patient discharges, each recorded 13 times in the dataset, suggesting days with a substantial number of patients discharged.\n",
    "- **Diverse Discharge Dates:** The dataset encompasses 1834 unique discharge dates, showcasing varying occurrences for each date, ranging from dates with a high number of patient discharges to those with only one recorded discharge.\n",
    "\n",
    "This data insight provides an overview of the distribution of patient discharges across different dates. It highlights specific dates where a notable number of patients were discharged, potentially indicating peaks in discharge activities or significant events related to patient care within the healthcare dataset."
   ]
  },
  {
   "cell_type": "code",
   "execution_count": 291,
   "id": "fccd35f1",
   "metadata": {},
   "outputs": [
    {
     "data": {
      "image/png": "[encoded data removed]",
      "text/plain": [
       "<Figure size 864x432 with 1 Axes>"
      ]
     },
     "metadata": {
      "needs_background": "light"
     },
     "output_type": "display_data"
    },
    {
     "data": {
      "image/png": "[encoded data removed]",
      "text/plain": [
       "<Figure size 864x432 with 1 Axes>"
      ]
     },
     "metadata": {
      "needs_background": "light"
     },
     "output_type": "display_data"
    }
   ],
   "source": [
    "df['Discharge Date'] = pd.to_datetime(df['Discharge Date'])\n",
    "discharge_dates_monthly = df['Discharge Date'].groupby(df['Discharge Date'].dt.to_period('M')).agg('count')\n",
    "discharge_dates_yearly = df['Discharge Date'].groupby(df['Discharge Date'].dt.to_period('Y')).agg('count')\n",
    "\n",
    "plt.figure(figsize=(12, 6))\n",
    "discharge_dates_monthly.plot(kind='line', marker='o', color='blue')\n",
    "plt.title('Number of Discharges per Month')\n",
    "plt.xlabel('Month')\n",
    "plt.ylabel('Count')\n",
    "plt.xticks(rotation=45)\n",
    "plt.tight_layout()\n",
    "plt.show()\n",
    "\n",
    "plt.figure(figsize=(12, 6))\n",
    "discharge_dates_yearly.plot(kind='line', marker='o', color='green')\n",
    "plt.title('Number of Discharges per Year')\n",
    "plt.xlabel('Year')\n",
    "plt.ylabel('Count')\n",
    "plt.xticks(rotation=45)\n",
    "plt.tight_layout()\n",
    "plt.show()"
   ]
  },
  {
   "cell_type": "code",
   "execution_count": 292,
   "id": "b23fbee0",
   "metadata": {},
   "outputs": [
    {
     "data": {
      "text/plain": [
       "Penicillin     2079\n",
       "Lipitor        2015\n",
       "Ibuprofen      1976\n",
       "Aspirin        1968\n",
       "Paracetamol    1962\n",
       "Name: Medication, dtype: int64"
      ]
     },
     "execution_count": 292,
     "metadata": {},
     "output_type": "execute_result"
    }
   ],
   "source": [
    "df['Medication'].value_counts()"
   ]
  },
  {
   "cell_type": "code",
   "execution_count": 293,
   "id": "f6e5bf9d",
   "metadata": {},
   "outputs": [
    {
     "data": {
      "image/png": "[encoded data removed]",
      "text/plain": [
       "<Figure size 576x576 with 1 Axes>"
      ]
     },
     "metadata": {},
     "output_type": "display_data"
    }
   ],
   "source": [
    "medication_counts = df['Medication'].value_counts()\n",
    "plt.figure(figsize=(8, 8))\n",
    "plt.pie(medication_counts, labels=medication_counts.index, autopct='%1.1f%%', startangle=140)\n",
    "plt.title('Distribution of Medications')\n",
    "plt.axis('equal')\n",
    "plt.show()"
   ]
  },
  {
   "cell_type": "markdown",
   "id": "4453327d",
   "metadata": {},
   "source": [
    "The data showcases a **balanced distribution** among these major **`medications`** within the dataset. **Penicillin, Lipitor, Ibuprofen, Aspirin, and Paracetamol** all hold comparable percentages, indicating **similar** frequencies of administration or prescription. Understanding these percentages aids in recognizing the prevalence of specific medications in the dataset, providing insights into their usage frequency among the recorded medication instances."
   ]
  },
  {
   "cell_type": "code",
   "execution_count": 294,
   "id": "3004ac3b",
   "metadata": {},
   "outputs": [
    {
     "data": {
      "text/plain": [
       "Abnormal        3456\n",
       "Inconclusive    3277\n",
       "Normal          3267\n",
       "Name: Test Results, dtype: int64"
      ]
     },
     "execution_count": 294,
     "metadata": {},
     "output_type": "execute_result"
    }
   ],
   "source": [
    "df['Test Results'].value_counts()"
   ]
  },
  {
   "cell_type": "code",
   "execution_count": 295,
   "id": "d8d51a39",
   "metadata": {},
   "outputs": [
    {
     "data": {
      "image/png": "[encoded data removed]",
      "text/plain": [
       "<Figure size 576x576 with 1 Axes>"
      ]
     },
     "metadata": {},
     "output_type": "display_data"
    }
   ],
   "source": [
    "test_results_counts = df['Test Results'].value_counts()\n",
    "plt.figure(figsize=(8, 8))\n",
    "plt.pie(test_results_counts, labels=test_results_counts.index, autopct='%1.1f%%', startangle=140)\n",
    "plt.title('Distribution of Test Results')\n",
    "plt.axis('equal')\n",
    "plt.show()"
   ]
  },
  {
   "cell_type": "markdown",
   "id": "a82c10ff",
   "metadata": {},
   "source": [
    "These **`Test Results`** demonstrate a **relatively balanced** distribution among **Abnormal, Inconclusive, and Normal** outcomes within the dataset. Abnormal Test Results lead with the highest frequency, followed closely by Inconclusive, and then Normal results. Understanding these percentages provides insights into the prevalence and distribution of various Test Result outcomes, offering a view of their relative occurrence among the recorded instances of Test Results."
   ]
  },
  {
   "cell_type": "markdown",
   "id": "d830958a",
   "metadata": {},
   "source": [
    "# **Feature Selection and Manipulation**"
   ]
  },
  {
   "cell_type": "markdown",
   "id": "88178c65",
   "metadata": {},
   "source": [
    "In the process of preparing data for predictive modeling, it's crucial to identify and retain only the columns (features) that are directly relevant to the prediction task while excluding those that do not contribute meaningful information or context to the outcome variable of interest. In this specific dataset scenario, columns such as **`Name`, `Doctor`, `Hospital`, `Insurance Provider`, and `Room Number`** are considered **irrelevant** or **non-informative** in predicting the 'Test Results.' These columns contain information that doesn't inherently influence or provide insight into the medical condition or outcome being predicted.\n",
    "\n",
    "Consequently, dropping these columns before modeling is a necessary step to streamline the dataset, reduce noise, improve model efficiency, and ensure that the predictive model focuses solely on relevant information associated with the 'Test Results' while disregarding extraneous or unrelated factors. This practice adheres to the principle of feature selection or column exclusion based on their lack of direct impact on the target variable, ultimately enhancing the model's accuracy and interpretability."
   ]
  },
  {
   "cell_type": "code",
   "execution_count": 296,
   "id": "741b5c7d",
   "metadata": {},
   "outputs": [
    {
     "data": {
      "text/html": [
       "<div>\n",
       "<style scoped>\n",
       "    .dataframe tbody tr th:only-of-type {\n",
       "        vertical-align: middle;\n",
       "    }\n",
       "\n",
       "    .dataframe tbody tr th {\n",
       "        vertical-align: top;\n",
       "    }\n",
       "\n",
       "    .dataframe thead th {\n",
       "        text-align: right;\n",
       "    }\n",
       "</style>\n",
       "<table border=\"1\" class=\"dataframe\">\n",
       "  <thead>\n",
       "    <tr style=\"text-align: right;\">\n",
       "      <th></th>\n",
       "      <th>Age</th>\n",
       "      <th>Gender</th>\n",
       "      <th>Blood Type</th>\n",
       "      <th>Medical Condition</th>\n",
       "      <th>Date of Admission</th>\n",
       "      <th>Billing Amount</th>\n",
       "      <th>Admission Type</th>\n",
       "      <th>Discharge Date</th>\n",
       "      <th>Medication</th>\n",
       "      <th>Test Results</th>\n",
       "    </tr>\n",
       "  </thead>\n",
       "  <tbody>\n",
       "    <tr>\n",
       "      <th>0</th>\n",
       "      <td>81</td>\n",
       "      <td>Female</td>\n",
       "      <td>O-</td>\n",
       "      <td>Diabetes</td>\n",
       "      <td>2022-11-17</td>\n",
       "      <td>37490.983364</td>\n",
       "      <td>Elective</td>\n",
       "      <td>2022-12-01</td>\n",
       "      <td>Aspirin</td>\n",
       "      <td>Inconclusive</td>\n",
       "    </tr>\n",
       "    <tr>\n",
       "      <th>1</th>\n",
       "      <td>35</td>\n",
       "      <td>Male</td>\n",
       "      <td>O+</td>\n",
       "      <td>Asthma</td>\n",
       "      <td>2023-06-01</td>\n",
       "      <td>47304.064845</td>\n",
       "      <td>Emergency</td>\n",
       "      <td>2023-06-15</td>\n",
       "      <td>Lipitor</td>\n",
       "      <td>Normal</td>\n",
       "    </tr>\n",
       "    <tr>\n",
       "      <th>2</th>\n",
       "      <td>61</td>\n",
       "      <td>Male</td>\n",
       "      <td>B-</td>\n",
       "      <td>Obesity</td>\n",
       "      <td>2019-01-09</td>\n",
       "      <td>36874.896997</td>\n",
       "      <td>Emergency</td>\n",
       "      <td>2019-02-08</td>\n",
       "      <td>Lipitor</td>\n",
       "      <td>Normal</td>\n",
       "    </tr>\n",
       "    <tr>\n",
       "      <th>3</th>\n",
       "      <td>49</td>\n",
       "      <td>Male</td>\n",
       "      <td>B-</td>\n",
       "      <td>Asthma</td>\n",
       "      <td>2020-05-02</td>\n",
       "      <td>23303.322092</td>\n",
       "      <td>Urgent</td>\n",
       "      <td>2020-05-03</td>\n",
       "      <td>Penicillin</td>\n",
       "      <td>Abnormal</td>\n",
       "    </tr>\n",
       "    <tr>\n",
       "      <th>4</th>\n",
       "      <td>51</td>\n",
       "      <td>Male</td>\n",
       "      <td>O-</td>\n",
       "      <td>Arthritis</td>\n",
       "      <td>2021-07-09</td>\n",
       "      <td>18086.344184</td>\n",
       "      <td>Urgent</td>\n",
       "      <td>2021-08-02</td>\n",
       "      <td>Paracetamol</td>\n",
       "      <td>Normal</td>\n",
       "    </tr>\n",
       "  </tbody>\n",
       "</table>\n",
       "</div>"
      ],
      "text/plain": [
       "   Age  Gender Blood Type Medical Condition Date of Admission  Billing Amount  \\\n",
       "0   81  Female         O-          Diabetes        2022-11-17    37490.983364   \n",
       "1   35    Male         O+            Asthma        2023-06-01    47304.064845   \n",
       "2   61    Male         B-           Obesity        2019-01-09    36874.896997   \n",
       "3   49    Male         B-            Asthma        2020-05-02    23303.322092   \n",
       "4   51    Male         O-         Arthritis        2021-07-09    18086.344184   \n",
       "\n",
       "  Admission Type Discharge Date   Medication  Test Results  \n",
       "0       Elective     2022-12-01      Aspirin  Inconclusive  \n",
       "1      Emergency     2023-06-15      Lipitor        Normal  \n",
       "2      Emergency     2019-02-08      Lipitor        Normal  \n",
       "3         Urgent     2020-05-03   Penicillin      Abnormal  \n",
       "4         Urgent     2021-08-02  Paracetamol        Normal  "
      ]
     },
     "execution_count": 296,
     "metadata": {},
     "output_type": "execute_result"
    }
   ],
   "source": [
    "df = df.drop(['Name', 'Doctor', 'Hospital', 'Insurance Provider', 'Room Number'], axis = 1)\n",
    "df.head()"
   ]
  },
  {
   "cell_type": "markdown",
   "id": "7af07f85",
   "metadata": {},
   "source": [
    "Converting **`Date of Admission`** and **`Discharge Date`** columns involves calculating the difference between these dates to determine the total duration of a patient's hospital stay. This transformation creates a new feature representing the length of stay, offering valuable insights into patient timelines and aiding healthcare analytics."
   ]
  },
  {
   "cell_type": "code",
   "execution_count": 297,
   "id": "e454ae21",
   "metadata": {},
   "outputs": [
    {
     "data": {
      "text/html": [
       "<div>\n",
       "<style scoped>\n",
       "    .dataframe tbody tr th:only-of-type {\n",
       "        vertical-align: middle;\n",
       "    }\n",
       "\n",
       "    .dataframe tbody tr th {\n",
       "        vertical-align: top;\n",
       "    }\n",
       "\n",
       "    .dataframe thead th {\n",
       "        text-align: right;\n",
       "    }\n",
       "</style>\n",
       "<table border=\"1\" class=\"dataframe\">\n",
       "  <thead>\n",
       "    <tr style=\"text-align: right;\">\n",
       "      <th></th>\n",
       "      <th>Age</th>\n",
       "      <th>Gender</th>\n",
       "      <th>Blood Type</th>\n",
       "      <th>Medical Condition</th>\n",
       "      <th>Billing Amount</th>\n",
       "      <th>Admission Type</th>\n",
       "      <th>Medication</th>\n",
       "      <th>Test Results</th>\n",
       "      <th>Duration</th>\n",
       "    </tr>\n",
       "  </thead>\n",
       "  <tbody>\n",
       "    <tr>\n",
       "      <th>0</th>\n",
       "      <td>81</td>\n",
       "      <td>Female</td>\n",
       "      <td>O-</td>\n",
       "      <td>Diabetes</td>\n",
       "      <td>37490.983364</td>\n",
       "      <td>Elective</td>\n",
       "      <td>Aspirin</td>\n",
       "      <td>Inconclusive</td>\n",
       "      <td>14</td>\n",
       "    </tr>\n",
       "    <tr>\n",
       "      <th>1</th>\n",
       "      <td>35</td>\n",
       "      <td>Male</td>\n",
       "      <td>O+</td>\n",
       "      <td>Asthma</td>\n",
       "      <td>47304.064845</td>\n",
       "      <td>Emergency</td>\n",
       "      <td>Lipitor</td>\n",
       "      <td>Normal</td>\n",
       "      <td>14</td>\n",
       "    </tr>\n",
       "    <tr>\n",
       "      <th>2</th>\n",
       "      <td>61</td>\n",
       "      <td>Male</td>\n",
       "      <td>B-</td>\n",
       "      <td>Obesity</td>\n",
       "      <td>36874.896997</td>\n",
       "      <td>Emergency</td>\n",
       "      <td>Lipitor</td>\n",
       "      <td>Normal</td>\n",
       "      <td>30</td>\n",
       "    </tr>\n",
       "    <tr>\n",
       "      <th>3</th>\n",
       "      <td>49</td>\n",
       "      <td>Male</td>\n",
       "      <td>B-</td>\n",
       "      <td>Asthma</td>\n",
       "      <td>23303.322092</td>\n",
       "      <td>Urgent</td>\n",
       "      <td>Penicillin</td>\n",
       "      <td>Abnormal</td>\n",
       "      <td>1</td>\n",
       "    </tr>\n",
       "    <tr>\n",
       "      <th>4</th>\n",
       "      <td>51</td>\n",
       "      <td>Male</td>\n",
       "      <td>O-</td>\n",
       "      <td>Arthritis</td>\n",
       "      <td>18086.344184</td>\n",
       "      <td>Urgent</td>\n",
       "      <td>Paracetamol</td>\n",
       "      <td>Normal</td>\n",
       "      <td>24</td>\n",
       "    </tr>\n",
       "  </tbody>\n",
       "</table>\n",
       "</div>"
      ],
      "text/plain": [
       "   Age  Gender Blood Type Medical Condition  Billing Amount Admission Type  \\\n",
       "0   81  Female         O-          Diabetes    37490.983364       Elective   \n",
       "1   35    Male         O+            Asthma    47304.064845      Emergency   \n",
       "2   61    Male         B-           Obesity    36874.896997      Emergency   \n",
       "3   49    Male         B-            Asthma    23303.322092         Urgent   \n",
       "4   51    Male         O-         Arthritis    18086.344184         Urgent   \n",
       "\n",
       "    Medication  Test Results  Duration  \n",
       "0      Aspirin  Inconclusive        14  \n",
       "1      Lipitor        Normal        14  \n",
       "2      Lipitor        Normal        30  \n",
       "3   Penicillin      Abnormal         1  \n",
       "4  Paracetamol        Normal        24  "
      ]
     },
     "execution_count": 297,
     "metadata": {},
     "output_type": "execute_result"
    }
   ],
   "source": [
    "df['Date of Admission'] = pd.to_datetime(df['Date of Admission'])\n",
    "df['Discharge Date'] = pd.to_datetime(df['Discharge Date'])\n",
    "df['Duration'] = df['Discharge Date'] - df['Date of Admission']\n",
    "df['Duration'] = df['Duration'].dt.days\n",
    "df = df.drop(['Date of Admission', 'Discharge Date'], axis = 1)\n",
    "df.head()"
   ]
  },
  {
   "cell_type": "code",
   "execution_count": 298,
   "id": "8e651843",
   "metadata": {},
   "outputs": [
    {
     "name": "stdout",
     "output_type": "stream",
     "text": [
      "<class 'pandas.core.frame.DataFrame'>\n",
      "RangeIndex: 10000 entries, 0 to 9999\n",
      "Data columns (total 9 columns):\n",
      " #   Column             Non-Null Count  Dtype  \n",
      "---  ------             --------------  -----  \n",
      " 0   Age                10000 non-null  int64  \n",
      " 1   Gender             10000 non-null  object \n",
      " 2   Blood Type         10000 non-null  object \n",
      " 3   Medical Condition  10000 non-null  object \n",
      " 4   Billing Amount     10000 non-null  float64\n",
      " 5   Admission Type     10000 non-null  object \n",
      " 6   Medication         10000 non-null  object \n",
      " 7   Test Results       10000 non-null  object \n",
      " 8   Duration           10000 non-null  int64  \n",
      "dtypes: float64(1), int64(2), object(6)\n",
      "memory usage: 703.2+ KB\n"
     ]
    }
   ],
   "source": [
    "df.info()"
   ]
  },
  {
   "cell_type": "markdown",
   "id": "d1cc89fd",
   "metadata": {},
   "source": [
    "# **Split Data into Train and Test Data**"
   ]
  },
  {
   "cell_type": "markdown",
   "id": "bb941ade",
   "metadata": {},
   "source": [
    "Splitting the data before feature engineering is essential to **prevent information leakage** from the test set into the training process. It ensures a **clear separation** between the data used for model development (training set) and the unseen data used for evaluation (test set). By performing feature engineering solely on the training data, one ensures that the model learns from **genuine patterns** in the data **without incorporating information that the model shouldn't have access to**. This maintains the integrity of the evaluation process, enabling a more accurate assessment of the model's performance on new, unseen data."
   ]
  },
  {
   "cell_type": "code",
   "execution_count": 299,
   "id": "232fb937",
   "metadata": {},
   "outputs": [],
   "source": [
    "input_df  = df.drop('Test Results', axis = 1)\n",
    "output_df = df['Test Results']"
   ]
  },
  {
   "cell_type": "code",
   "execution_count": 300,
   "id": "8a64195a",
   "metadata": {},
   "outputs": [],
   "source": [
    "from sklearn.model_selection import train_test_split\n",
    "x_train, x_test, y_train, y_test = train_test_split(input_df, output_df, test_size = 0.2, random_state = 42)"
   ]
  },
  {
   "cell_type": "markdown",
   "id": "3d7ea138",
   "metadata": {},
   "source": [
    "# **Feature Engineering**"
   ]
  },
  {
   "cell_type": "markdown",
   "id": "669f892f",
   "metadata": {},
   "source": [
    "Feature engineering, involving transforming data into more informative features, must be consistently applied to both the training and testing datasets for several reasons:\n",
    "1. It ensures that both datasets have a **uniform representation** of features, preventing discrepancies that could affect model performance. \n",
    "2. Consistent feature engineering **helps prevent data leakage**, where information from the testing set unintentionally influences model training. This maintains the integrity of the evaluation process. \n",
    "3. It aids in the model's ability to **generalize** by training it on engineered features that **resemble real-world scenarios** encountered during deployment. \n",
    "\n",
    "Overall, applying the same feature engineering steps to both datasets supports model consistency, prevents data leakage, and enhances the model's capability to perform well on unseen data."
   ]
  },
  {
   "cell_type": "markdown",
   "id": "bb0de0e1",
   "metadata": {},
   "source": [
    "### **Binary Encoding**"
   ]
  },
  {
   "cell_type": "markdown",
   "id": "f2df0607",
   "metadata": {},
   "source": [
    "Binary encoding is chosen for the **`Gender`** column as it offers a straightforward and efficient method to convert categorical data into a numeric format. In the context of `Gender`,' binary encoding assigns numeric representations where **Male** is represented as **1** and **Female** as **0**. This encoding method is particularly suitable for **binary categorical data** (Male/Female) as it minimizes dimensionality, optimizes computational efficiency, and maintains a clear distinction between the two categories. Utilizing 1 and 0 effectively captures the binary nature of the gender attribute, allowing machine learning algorithms to interpret and process this categorical information more efficiently during model training and analysis."
   ]
  },
  {
   "cell_type": "code",
   "execution_count": 301,
   "id": "08146c5d",
   "metadata": {},
   "outputs": [
    {
     "data": {
      "text/html": [
       "<div>\n",
       "<style scoped>\n",
       "    .dataframe tbody tr th:only-of-type {\n",
       "        vertical-align: middle;\n",
       "    }\n",
       "\n",
       "    .dataframe tbody tr th {\n",
       "        vertical-align: top;\n",
       "    }\n",
       "\n",
       "    .dataframe thead th {\n",
       "        text-align: right;\n",
       "    }\n",
       "</style>\n",
       "<table border=\"1\" class=\"dataframe\">\n",
       "  <thead>\n",
       "    <tr style=\"text-align: right;\">\n",
       "      <th></th>\n",
       "      <th>Age</th>\n",
       "      <th>Gender</th>\n",
       "      <th>Blood Type</th>\n",
       "      <th>Medical Condition</th>\n",
       "      <th>Billing Amount</th>\n",
       "      <th>Admission Type</th>\n",
       "      <th>Medication</th>\n",
       "      <th>Duration</th>\n",
       "    </tr>\n",
       "  </thead>\n",
       "  <tbody>\n",
       "    <tr>\n",
       "      <th>9254</th>\n",
       "      <td>19</td>\n",
       "      <td>1</td>\n",
       "      <td>A-</td>\n",
       "      <td>Diabetes</td>\n",
       "      <td>20629.373432</td>\n",
       "      <td>Emergency</td>\n",
       "      <td>Lipitor</td>\n",
       "      <td>25</td>\n",
       "    </tr>\n",
       "    <tr>\n",
       "      <th>1561</th>\n",
       "      <td>37</td>\n",
       "      <td>1</td>\n",
       "      <td>A+</td>\n",
       "      <td>Hypertension</td>\n",
       "      <td>46635.084208</td>\n",
       "      <td>Emergency</td>\n",
       "      <td>Lipitor</td>\n",
       "      <td>21</td>\n",
       "    </tr>\n",
       "    <tr>\n",
       "      <th>1670</th>\n",
       "      <td>22</td>\n",
       "      <td>0</td>\n",
       "      <td>B+</td>\n",
       "      <td>Cancer</td>\n",
       "      <td>3361.701810</td>\n",
       "      <td>Urgent</td>\n",
       "      <td>Paracetamol</td>\n",
       "      <td>5</td>\n",
       "    </tr>\n",
       "  </tbody>\n",
       "</table>\n",
       "</div>"
      ],
      "text/plain": [
       "      Age  Gender Blood Type Medical Condition  Billing Amount Admission Type  \\\n",
       "9254   19       1         A-          Diabetes    20629.373432      Emergency   \n",
       "1561   37       1         A+      Hypertension    46635.084208      Emergency   \n",
       "1670   22       0         B+            Cancer     3361.701810         Urgent   \n",
       "\n",
       "       Medication  Duration  \n",
       "9254      Lipitor        25  \n",
       "1561      Lipitor        21  \n",
       "1670  Paracetamol         5  "
      ]
     },
     "execution_count": 301,
     "metadata": {},
     "output_type": "execute_result"
    }
   ],
   "source": [
    "df_encode = {\"Gender\": {\"Male\" : 1,\"Female\" : 0}}\n",
    "x_train = x_train.replace(df_encode)\n",
    "x_train.head(3)"
   ]
  },
  {
   "cell_type": "code",
   "execution_count": 302,
   "id": "ef0cc3d9",
   "metadata": {},
   "outputs": [
    {
     "data": {
      "text/html": [
       "<div>\n",
       "<style scoped>\n",
       "    .dataframe tbody tr th:only-of-type {\n",
       "        vertical-align: middle;\n",
       "    }\n",
       "\n",
       "    .dataframe tbody tr th {\n",
       "        vertical-align: top;\n",
       "    }\n",
       "\n",
       "    .dataframe thead th {\n",
       "        text-align: right;\n",
       "    }\n",
       "</style>\n",
       "<table border=\"1\" class=\"dataframe\">\n",
       "  <thead>\n",
       "    <tr style=\"text-align: right;\">\n",
       "      <th></th>\n",
       "      <th>Age</th>\n",
       "      <th>Gender</th>\n",
       "      <th>Blood Type</th>\n",
       "      <th>Medical Condition</th>\n",
       "      <th>Billing Amount</th>\n",
       "      <th>Admission Type</th>\n",
       "      <th>Medication</th>\n",
       "      <th>Duration</th>\n",
       "    </tr>\n",
       "  </thead>\n",
       "  <tbody>\n",
       "    <tr>\n",
       "      <th>6252</th>\n",
       "      <td>26</td>\n",
       "      <td>1</td>\n",
       "      <td>AB+</td>\n",
       "      <td>Arthritis</td>\n",
       "      <td>48228.962751</td>\n",
       "      <td>Elective</td>\n",
       "      <td>Ibuprofen</td>\n",
       "      <td>13</td>\n",
       "    </tr>\n",
       "    <tr>\n",
       "      <th>4684</th>\n",
       "      <td>80</td>\n",
       "      <td>0</td>\n",
       "      <td>A+</td>\n",
       "      <td>Obesity</td>\n",
       "      <td>5634.310681</td>\n",
       "      <td>Emergency</td>\n",
       "      <td>Paracetamol</td>\n",
       "      <td>23</td>\n",
       "    </tr>\n",
       "    <tr>\n",
       "      <th>1731</th>\n",
       "      <td>68</td>\n",
       "      <td>0</td>\n",
       "      <td>AB+</td>\n",
       "      <td>Diabetes</td>\n",
       "      <td>25850.433905</td>\n",
       "      <td>Urgent</td>\n",
       "      <td>Ibuprofen</td>\n",
       "      <td>15</td>\n",
       "    </tr>\n",
       "  </tbody>\n",
       "</table>\n",
       "</div>"
      ],
      "text/plain": [
       "      Age  Gender Blood Type Medical Condition  Billing Amount Admission Type  \\\n",
       "6252   26       1        AB+         Arthritis    48228.962751       Elective   \n",
       "4684   80       0         A+           Obesity     5634.310681      Emergency   \n",
       "1731   68       0        AB+          Diabetes    25850.433905         Urgent   \n",
       "\n",
       "       Medication  Duration  \n",
       "6252    Ibuprofen        13  \n",
       "4684  Paracetamol        23  \n",
       "1731    Ibuprofen        15  "
      ]
     },
     "execution_count": 302,
     "metadata": {},
     "output_type": "execute_result"
    }
   ],
   "source": [
    "x_test = x_test.replace(df_encode)\n",
    "x_test.head(3)"
   ]
  },
  {
   "cell_type": "markdown",
   "id": "fd6c68a6",
   "metadata": {},
   "source": [
    "### **One Hot Encoding**"
   ]
  },
  {
   "cell_type": "markdown",
   "id": "9fdd335a",
   "metadata": {},
   "source": [
    "One-hot encoding was chosen for **`Blood Type`**, **`Medical Condition`**, and **`Medication`** columns due to their **non-hierarchical** and diverse categorical nature. This method transforms these categorical variables into binary format, creating distinct binary columns for each category. By using one-hot encoding, it **prevents** the model from assuming **false ordinal relationships** between categories and ensures clear representation of each category as a separate feature. This approach enables accurate integration of categorical data into machine learning models, allowing them to learn effectively from categorical attributes without introducing spurious correlations."
   ]
  },
  {
   "cell_type": "markdown",
   "id": "d361b134",
   "metadata": {},
   "source": [
    "**`Blood Type`**"
   ]
  },
  {
   "cell_type": "code",
   "execution_count": 303,
   "id": "b153fca3",
   "metadata": {},
   "outputs": [
    {
     "data": {
      "text/html": [
       "<div>\n",
       "<style scoped>\n",
       "    .dataframe tbody tr th:only-of-type {\n",
       "        vertical-align: middle;\n",
       "    }\n",
       "\n",
       "    .dataframe tbody tr th {\n",
       "        vertical-align: top;\n",
       "    }\n",
       "\n",
       "    .dataframe thead th {\n",
       "        text-align: right;\n",
       "    }\n",
       "</style>\n",
       "<table border=\"1\" class=\"dataframe\">\n",
       "  <thead>\n",
       "    <tr style=\"text-align: right;\">\n",
       "      <th></th>\n",
       "      <th>Age</th>\n",
       "      <th>Gender</th>\n",
       "      <th>Medical Condition</th>\n",
       "      <th>Billing Amount</th>\n",
       "      <th>Admission Type</th>\n",
       "      <th>Medication</th>\n",
       "      <th>Duration</th>\n",
       "      <th>Blood Type_A+</th>\n",
       "      <th>Blood Type_A-</th>\n",
       "      <th>Blood Type_AB+</th>\n",
       "      <th>Blood Type_AB-</th>\n",
       "      <th>Blood Type_B+</th>\n",
       "      <th>Blood Type_B-</th>\n",
       "      <th>Blood Type_O+</th>\n",
       "      <th>Blood Type_O-</th>\n",
       "    </tr>\n",
       "  </thead>\n",
       "  <tbody>\n",
       "    <tr>\n",
       "      <th>9254</th>\n",
       "      <td>19</td>\n",
       "      <td>1</td>\n",
       "      <td>Diabetes</td>\n",
       "      <td>20629.373432</td>\n",
       "      <td>Emergency</td>\n",
       "      <td>Lipitor</td>\n",
       "      <td>25</td>\n",
       "      <td>0</td>\n",
       "      <td>1</td>\n",
       "      <td>0</td>\n",
       "      <td>0</td>\n",
       "      <td>0</td>\n",
       "      <td>0</td>\n",
       "      <td>0</td>\n",
       "      <td>0</td>\n",
       "    </tr>\n",
       "    <tr>\n",
       "      <th>1561</th>\n",
       "      <td>37</td>\n",
       "      <td>1</td>\n",
       "      <td>Hypertension</td>\n",
       "      <td>46635.084208</td>\n",
       "      <td>Emergency</td>\n",
       "      <td>Lipitor</td>\n",
       "      <td>21</td>\n",
       "      <td>1</td>\n",
       "      <td>0</td>\n",
       "      <td>0</td>\n",
       "      <td>0</td>\n",
       "      <td>0</td>\n",
       "      <td>0</td>\n",
       "      <td>0</td>\n",
       "      <td>0</td>\n",
       "    </tr>\n",
       "    <tr>\n",
       "      <th>1670</th>\n",
       "      <td>22</td>\n",
       "      <td>0</td>\n",
       "      <td>Cancer</td>\n",
       "      <td>3361.701810</td>\n",
       "      <td>Urgent</td>\n",
       "      <td>Paracetamol</td>\n",
       "      <td>5</td>\n",
       "      <td>0</td>\n",
       "      <td>0</td>\n",
       "      <td>0</td>\n",
       "      <td>0</td>\n",
       "      <td>1</td>\n",
       "      <td>0</td>\n",
       "      <td>0</td>\n",
       "      <td>0</td>\n",
       "    </tr>\n",
       "  </tbody>\n",
       "</table>\n",
       "</div>"
      ],
      "text/plain": [
       "      Age  Gender Medical Condition  Billing Amount Admission Type  \\\n",
       "9254   19       1          Diabetes    20629.373432      Emergency   \n",
       "1561   37       1      Hypertension    46635.084208      Emergency   \n",
       "1670   22       0            Cancer     3361.701810         Urgent   \n",
       "\n",
       "       Medication  Duration  Blood Type_A+  Blood Type_A-  Blood Type_AB+  \\\n",
       "9254      Lipitor        25              0              1               0   \n",
       "1561      Lipitor        21              1              0               0   \n",
       "1670  Paracetamol         5              0              0               0   \n",
       "\n",
       "      Blood Type_AB-  Blood Type_B+  Blood Type_B-  Blood Type_O+  \\\n",
       "9254               0              0              0              0   \n",
       "1561               0              0              0              0   \n",
       "1670               0              1              0              0   \n",
       "\n",
       "      Blood Type_O-  \n",
       "9254              0  \n",
       "1561              0  \n",
       "1670              0  "
      ]
     },
     "execution_count": 303,
     "metadata": {},
     "output_type": "execute_result"
    }
   ],
   "source": [
    "x_train = pd.get_dummies(x_train,columns = ['Blood Type'])\n",
    "x_train.head(3)"
   ]
  },
  {
   "cell_type": "code",
   "execution_count": 304,
   "id": "93f7c987",
   "metadata": {},
   "outputs": [
    {
     "data": {
      "text/html": [
       "<div>\n",
       "<style scoped>\n",
       "    .dataframe tbody tr th:only-of-type {\n",
       "        vertical-align: middle;\n",
       "    }\n",
       "\n",
       "    .dataframe tbody tr th {\n",
       "        vertical-align: top;\n",
       "    }\n",
       "\n",
       "    .dataframe thead th {\n",
       "        text-align: right;\n",
       "    }\n",
       "</style>\n",
       "<table border=\"1\" class=\"dataframe\">\n",
       "  <thead>\n",
       "    <tr style=\"text-align: right;\">\n",
       "      <th></th>\n",
       "      <th>Age</th>\n",
       "      <th>Gender</th>\n",
       "      <th>Medical Condition</th>\n",
       "      <th>Billing Amount</th>\n",
       "      <th>Admission Type</th>\n",
       "      <th>Medication</th>\n",
       "      <th>Duration</th>\n",
       "      <th>Blood Type_A+</th>\n",
       "      <th>Blood Type_A-</th>\n",
       "      <th>Blood Type_AB+</th>\n",
       "      <th>Blood Type_AB-</th>\n",
       "      <th>Blood Type_B+</th>\n",
       "      <th>Blood Type_B-</th>\n",
       "      <th>Blood Type_O+</th>\n",
       "      <th>Blood Type_O-</th>\n",
       "    </tr>\n",
       "  </thead>\n",
       "  <tbody>\n",
       "    <tr>\n",
       "      <th>6252</th>\n",
       "      <td>26</td>\n",
       "      <td>1</td>\n",
       "      <td>Arthritis</td>\n",
       "      <td>48228.962751</td>\n",
       "      <td>Elective</td>\n",
       "      <td>Ibuprofen</td>\n",
       "      <td>13</td>\n",
       "      <td>0</td>\n",
       "      <td>0</td>\n",
       "      <td>1</td>\n",
       "      <td>0</td>\n",
       "      <td>0</td>\n",
       "      <td>0</td>\n",
       "      <td>0</td>\n",
       "      <td>0</td>\n",
       "    </tr>\n",
       "    <tr>\n",
       "      <th>4684</th>\n",
       "      <td>80</td>\n",
       "      <td>0</td>\n",
       "      <td>Obesity</td>\n",
       "      <td>5634.310681</td>\n",
       "      <td>Emergency</td>\n",
       "      <td>Paracetamol</td>\n",
       "      <td>23</td>\n",
       "      <td>1</td>\n",
       "      <td>0</td>\n",
       "      <td>0</td>\n",
       "      <td>0</td>\n",
       "      <td>0</td>\n",
       "      <td>0</td>\n",
       "      <td>0</td>\n",
       "      <td>0</td>\n",
       "    </tr>\n",
       "    <tr>\n",
       "      <th>1731</th>\n",
       "      <td>68</td>\n",
       "      <td>0</td>\n",
       "      <td>Diabetes</td>\n",
       "      <td>25850.433905</td>\n",
       "      <td>Urgent</td>\n",
       "      <td>Ibuprofen</td>\n",
       "      <td>15</td>\n",
       "      <td>0</td>\n",
       "      <td>0</td>\n",
       "      <td>1</td>\n",
       "      <td>0</td>\n",
       "      <td>0</td>\n",
       "      <td>0</td>\n",
       "      <td>0</td>\n",
       "      <td>0</td>\n",
       "    </tr>\n",
       "  </tbody>\n",
       "</table>\n",
       "</div>"
      ],
      "text/plain": [
       "      Age  Gender Medical Condition  Billing Amount Admission Type  \\\n",
       "6252   26       1         Arthritis    48228.962751       Elective   \n",
       "4684   80       0           Obesity     5634.310681      Emergency   \n",
       "1731   68       0          Diabetes    25850.433905         Urgent   \n",
       "\n",
       "       Medication  Duration  Blood Type_A+  Blood Type_A-  Blood Type_AB+  \\\n",
       "6252    Ibuprofen        13              0              0               1   \n",
       "4684  Paracetamol        23              1              0               0   \n",
       "1731    Ibuprofen        15              0              0               1   \n",
       "\n",
       "      Blood Type_AB-  Blood Type_B+  Blood Type_B-  Blood Type_O+  \\\n",
       "6252               0              0              0              0   \n",
       "4684               0              0              0              0   \n",
       "1731               0              0              0              0   \n",
       "\n",
       "      Blood Type_O-  \n",
       "6252              0  \n",
       "4684              0  \n",
       "1731              0  "
      ]
     },
     "execution_count": 304,
     "metadata": {},
     "output_type": "execute_result"
    }
   ],
   "source": [
    "x_test = pd.get_dummies(x_test,columns = ['Blood Type'])\n",
    "x_test.head(3)"
   ]
  },
  {
   "cell_type": "markdown",
   "id": "46c303ec",
   "metadata": {},
   "source": [
    "**`Medical Condition`**"
   ]
  },
  {
   "cell_type": "code",
   "execution_count": 305,
   "id": "1599a806",
   "metadata": {},
   "outputs": [
    {
     "data": {
      "text/html": [
       "<div>\n",
       "<style scoped>\n",
       "    .dataframe tbody tr th:only-of-type {\n",
       "        vertical-align: middle;\n",
       "    }\n",
       "\n",
       "    .dataframe tbody tr th {\n",
       "        vertical-align: top;\n",
       "    }\n",
       "\n",
       "    .dataframe thead th {\n",
       "        text-align: right;\n",
       "    }\n",
       "</style>\n",
       "<table border=\"1\" class=\"dataframe\">\n",
       "  <thead>\n",
       "    <tr style=\"text-align: right;\">\n",
       "      <th></th>\n",
       "      <th>Age</th>\n",
       "      <th>Gender</th>\n",
       "      <th>Billing Amount</th>\n",
       "      <th>Admission Type</th>\n",
       "      <th>Medication</th>\n",
       "      <th>Duration</th>\n",
       "      <th>Blood Type_A+</th>\n",
       "      <th>Blood Type_A-</th>\n",
       "      <th>Blood Type_AB+</th>\n",
       "      <th>Blood Type_AB-</th>\n",
       "      <th>Blood Type_B+</th>\n",
       "      <th>Blood Type_B-</th>\n",
       "      <th>Blood Type_O+</th>\n",
       "      <th>Blood Type_O-</th>\n",
       "      <th>Medical Condition_Arthritis</th>\n",
       "      <th>Medical Condition_Asthma</th>\n",
       "      <th>Medical Condition_Cancer</th>\n",
       "      <th>Medical Condition_Diabetes</th>\n",
       "      <th>Medical Condition_Hypertension</th>\n",
       "      <th>Medical Condition_Obesity</th>\n",
       "    </tr>\n",
       "  </thead>\n",
       "  <tbody>\n",
       "    <tr>\n",
       "      <th>9254</th>\n",
       "      <td>19</td>\n",
       "      <td>1</td>\n",
       "      <td>20629.373432</td>\n",
       "      <td>Emergency</td>\n",
       "      <td>Lipitor</td>\n",
       "      <td>25</td>\n",
       "      <td>0</td>\n",
       "      <td>1</td>\n",
       "      <td>0</td>\n",
       "      <td>0</td>\n",
       "      <td>0</td>\n",
       "      <td>0</td>\n",
       "      <td>0</td>\n",
       "      <td>0</td>\n",
       "      <td>0</td>\n",
       "      <td>0</td>\n",
       "      <td>0</td>\n",
       "      <td>1</td>\n",
       "      <td>0</td>\n",
       "      <td>0</td>\n",
       "    </tr>\n",
       "    <tr>\n",
       "      <th>1561</th>\n",
       "      <td>37</td>\n",
       "      <td>1</td>\n",
       "      <td>46635.084208</td>\n",
       "      <td>Emergency</td>\n",
       "      <td>Lipitor</td>\n",
       "      <td>21</td>\n",
       "      <td>1</td>\n",
       "      <td>0</td>\n",
       "      <td>0</td>\n",
       "      <td>0</td>\n",
       "      <td>0</td>\n",
       "      <td>0</td>\n",
       "      <td>0</td>\n",
       "      <td>0</td>\n",
       "      <td>0</td>\n",
       "      <td>0</td>\n",
       "      <td>0</td>\n",
       "      <td>0</td>\n",
       "      <td>1</td>\n",
       "      <td>0</td>\n",
       "    </tr>\n",
       "    <tr>\n",
       "      <th>1670</th>\n",
       "      <td>22</td>\n",
       "      <td>0</td>\n",
       "      <td>3361.701810</td>\n",
       "      <td>Urgent</td>\n",
       "      <td>Paracetamol</td>\n",
       "      <td>5</td>\n",
       "      <td>0</td>\n",
       "      <td>0</td>\n",
       "      <td>0</td>\n",
       "      <td>0</td>\n",
       "      <td>1</td>\n",
       "      <td>0</td>\n",
       "      <td>0</td>\n",
       "      <td>0</td>\n",
       "      <td>0</td>\n",
       "      <td>0</td>\n",
       "      <td>1</td>\n",
       "      <td>0</td>\n",
       "      <td>0</td>\n",
       "      <td>0</td>\n",
       "    </tr>\n",
       "  </tbody>\n",
       "</table>\n",
       "</div>"
      ],
      "text/plain": [
       "      Age  Gender  Billing Amount Admission Type   Medication  Duration  \\\n",
       "9254   19       1    20629.373432      Emergency      Lipitor        25   \n",
       "1561   37       1    46635.084208      Emergency      Lipitor        21   \n",
       "1670   22       0     3361.701810         Urgent  Paracetamol         5   \n",
       "\n",
       "      Blood Type_A+  Blood Type_A-  Blood Type_AB+  Blood Type_AB-  \\\n",
       "9254              0              1               0               0   \n",
       "1561              1              0               0               0   \n",
       "1670              0              0               0               0   \n",
       "\n",
       "      Blood Type_B+  Blood Type_B-  Blood Type_O+  Blood Type_O-  \\\n",
       "9254              0              0              0              0   \n",
       "1561              0              0              0              0   \n",
       "1670              1              0              0              0   \n",
       "\n",
       "      Medical Condition_Arthritis  Medical Condition_Asthma  \\\n",
       "9254                            0                         0   \n",
       "1561                            0                         0   \n",
       "1670                            0                         0   \n",
       "\n",
       "      Medical Condition_Cancer  Medical Condition_Diabetes  \\\n",
       "9254                         0                           1   \n",
       "1561                         0                           0   \n",
       "1670                         1                           0   \n",
       "\n",
       "      Medical Condition_Hypertension  Medical Condition_Obesity  \n",
       "9254                               0                          0  \n",
       "1561                               1                          0  \n",
       "1670                               0                          0  "
      ]
     },
     "execution_count": 305,
     "metadata": {},
     "output_type": "execute_result"
    }
   ],
   "source": [
    "x_train = pd.get_dummies(x_train,columns = ['Medical Condition'])\n",
    "x_train.head(3)"
   ]
  },
  {
   "cell_type": "code",
   "execution_count": 306,
   "id": "67489bc2",
   "metadata": {},
   "outputs": [
    {
     "data": {
      "text/html": [
       "<div>\n",
       "<style scoped>\n",
       "    .dataframe tbody tr th:only-of-type {\n",
       "        vertical-align: middle;\n",
       "    }\n",
       "\n",
       "    .dataframe tbody tr th {\n",
       "        vertical-align: top;\n",
       "    }\n",
       "\n",
       "    .dataframe thead th {\n",
       "        text-align: right;\n",
       "    }\n",
       "</style>\n",
       "<table border=\"1\" class=\"dataframe\">\n",
       "  <thead>\n",
       "    <tr style=\"text-align: right;\">\n",
       "      <th></th>\n",
       "      <th>Age</th>\n",
       "      <th>Gender</th>\n",
       "      <th>Billing Amount</th>\n",
       "      <th>Admission Type</th>\n",
       "      <th>Medication</th>\n",
       "      <th>Duration</th>\n",
       "      <th>Blood Type_A+</th>\n",
       "      <th>Blood Type_A-</th>\n",
       "      <th>Blood Type_AB+</th>\n",
       "      <th>Blood Type_AB-</th>\n",
       "      <th>Blood Type_B+</th>\n",
       "      <th>Blood Type_B-</th>\n",
       "      <th>Blood Type_O+</th>\n",
       "      <th>Blood Type_O-</th>\n",
       "      <th>Medical Condition_Arthritis</th>\n",
       "      <th>Medical Condition_Asthma</th>\n",
       "      <th>Medical Condition_Cancer</th>\n",
       "      <th>Medical Condition_Diabetes</th>\n",
       "      <th>Medical Condition_Hypertension</th>\n",
       "      <th>Medical Condition_Obesity</th>\n",
       "    </tr>\n",
       "  </thead>\n",
       "  <tbody>\n",
       "    <tr>\n",
       "      <th>6252</th>\n",
       "      <td>26</td>\n",
       "      <td>1</td>\n",
       "      <td>48228.962751</td>\n",
       "      <td>Elective</td>\n",
       "      <td>Ibuprofen</td>\n",
       "      <td>13</td>\n",
       "      <td>0</td>\n",
       "      <td>0</td>\n",
       "      <td>1</td>\n",
       "      <td>0</td>\n",
       "      <td>0</td>\n",
       "      <td>0</td>\n",
       "      <td>0</td>\n",
       "      <td>0</td>\n",
       "      <td>1</td>\n",
       "      <td>0</td>\n",
       "      <td>0</td>\n",
       "      <td>0</td>\n",
       "      <td>0</td>\n",
       "      <td>0</td>\n",
       "    </tr>\n",
       "    <tr>\n",
       "      <th>4684</th>\n",
       "      <td>80</td>\n",
       "      <td>0</td>\n",
       "      <td>5634.310681</td>\n",
       "      <td>Emergency</td>\n",
       "      <td>Paracetamol</td>\n",
       "      <td>23</td>\n",
       "      <td>1</td>\n",
       "      <td>0</td>\n",
       "      <td>0</td>\n",
       "      <td>0</td>\n",
       "      <td>0</td>\n",
       "      <td>0</td>\n",
       "      <td>0</td>\n",
       "      <td>0</td>\n",
       "      <td>0</td>\n",
       "      <td>0</td>\n",
       "      <td>0</td>\n",
       "      <td>0</td>\n",
       "      <td>0</td>\n",
       "      <td>1</td>\n",
       "    </tr>\n",
       "    <tr>\n",
       "      <th>1731</th>\n",
       "      <td>68</td>\n",
       "      <td>0</td>\n",
       "      <td>25850.433905</td>\n",
       "      <td>Urgent</td>\n",
       "      <td>Ibuprofen</td>\n",
       "      <td>15</td>\n",
       "      <td>0</td>\n",
       "      <td>0</td>\n",
       "      <td>1</td>\n",
       "      <td>0</td>\n",
       "      <td>0</td>\n",
       "      <td>0</td>\n",
       "      <td>0</td>\n",
       "      <td>0</td>\n",
       "      <td>0</td>\n",
       "      <td>0</td>\n",
       "      <td>0</td>\n",
       "      <td>1</td>\n",
       "      <td>0</td>\n",
       "      <td>0</td>\n",
       "    </tr>\n",
       "  </tbody>\n",
       "</table>\n",
       "</div>"
      ],
      "text/plain": [
       "      Age  Gender  Billing Amount Admission Type   Medication  Duration  \\\n",
       "6252   26       1    48228.962751       Elective    Ibuprofen        13   \n",
       "4684   80       0     5634.310681      Emergency  Paracetamol        23   \n",
       "1731   68       0    25850.433905         Urgent    Ibuprofen        15   \n",
       "\n",
       "      Blood Type_A+  Blood Type_A-  Blood Type_AB+  Blood Type_AB-  \\\n",
       "6252              0              0               1               0   \n",
       "4684              1              0               0               0   \n",
       "1731              0              0               1               0   \n",
       "\n",
       "      Blood Type_B+  Blood Type_B-  Blood Type_O+  Blood Type_O-  \\\n",
       "6252              0              0              0              0   \n",
       "4684              0              0              0              0   \n",
       "1731              0              0              0              0   \n",
       "\n",
       "      Medical Condition_Arthritis  Medical Condition_Asthma  \\\n",
       "6252                            1                         0   \n",
       "4684                            0                         0   \n",
       "1731                            0                         0   \n",
       "\n",
       "      Medical Condition_Cancer  Medical Condition_Diabetes  \\\n",
       "6252                         0                           0   \n",
       "4684                         0                           0   \n",
       "1731                         0                           1   \n",
       "\n",
       "      Medical Condition_Hypertension  Medical Condition_Obesity  \n",
       "6252                               0                          0  \n",
       "4684                               0                          1  \n",
       "1731                               0                          0  "
      ]
     },
     "execution_count": 306,
     "metadata": {},
     "output_type": "execute_result"
    }
   ],
   "source": [
    "x_test=pd.get_dummies(x_test,columns=['Medical Condition'])\n",
    "x_test.head(3)"
   ]
  },
  {
   "cell_type": "markdown",
   "id": "dc6dede5",
   "metadata": {},
   "source": [
    "**`Medication`**"
   ]
  },
  {
   "cell_type": "code",
   "execution_count": 307,
   "id": "28301f7e",
   "metadata": {
    "scrolled": true
   },
   "outputs": [
    {
     "data": {
      "text/html": [
       "<div>\n",
       "<style scoped>\n",
       "    .dataframe tbody tr th:only-of-type {\n",
       "        vertical-align: middle;\n",
       "    }\n",
       "\n",
       "    .dataframe tbody tr th {\n",
       "        vertical-align: top;\n",
       "    }\n",
       "\n",
       "    .dataframe thead th {\n",
       "        text-align: right;\n",
       "    }\n",
       "</style>\n",
       "<table border=\"1\" class=\"dataframe\">\n",
       "  <thead>\n",
       "    <tr style=\"text-align: right;\">\n",
       "      <th></th>\n",
       "      <th>Age</th>\n",
       "      <th>Gender</th>\n",
       "      <th>Billing Amount</th>\n",
       "      <th>Admission Type</th>\n",
       "      <th>Duration</th>\n",
       "      <th>Blood Type_A+</th>\n",
       "      <th>Blood Type_A-</th>\n",
       "      <th>Blood Type_AB+</th>\n",
       "      <th>Blood Type_AB-</th>\n",
       "      <th>Blood Type_B+</th>\n",
       "      <th>...</th>\n",
       "      <th>Medical Condition_Asthma</th>\n",
       "      <th>Medical Condition_Cancer</th>\n",
       "      <th>Medical Condition_Diabetes</th>\n",
       "      <th>Medical Condition_Hypertension</th>\n",
       "      <th>Medical Condition_Obesity</th>\n",
       "      <th>Medication_Aspirin</th>\n",
       "      <th>Medication_Ibuprofen</th>\n",
       "      <th>Medication_Lipitor</th>\n",
       "      <th>Medication_Paracetamol</th>\n",
       "      <th>Medication_Penicillin</th>\n",
       "    </tr>\n",
       "  </thead>\n",
       "  <tbody>\n",
       "    <tr>\n",
       "      <th>9254</th>\n",
       "      <td>19</td>\n",
       "      <td>1</td>\n",
       "      <td>20629.373432</td>\n",
       "      <td>Emergency</td>\n",
       "      <td>25</td>\n",
       "      <td>0</td>\n",
       "      <td>1</td>\n",
       "      <td>0</td>\n",
       "      <td>0</td>\n",
       "      <td>0</td>\n",
       "      <td>...</td>\n",
       "      <td>0</td>\n",
       "      <td>0</td>\n",
       "      <td>1</td>\n",
       "      <td>0</td>\n",
       "      <td>0</td>\n",
       "      <td>0</td>\n",
       "      <td>0</td>\n",
       "      <td>1</td>\n",
       "      <td>0</td>\n",
       "      <td>0</td>\n",
       "    </tr>\n",
       "    <tr>\n",
       "      <th>1561</th>\n",
       "      <td>37</td>\n",
       "      <td>1</td>\n",
       "      <td>46635.084208</td>\n",
       "      <td>Emergency</td>\n",
       "      <td>21</td>\n",
       "      <td>1</td>\n",
       "      <td>0</td>\n",
       "      <td>0</td>\n",
       "      <td>0</td>\n",
       "      <td>0</td>\n",
       "      <td>...</td>\n",
       "      <td>0</td>\n",
       "      <td>0</td>\n",
       "      <td>0</td>\n",
       "      <td>1</td>\n",
       "      <td>0</td>\n",
       "      <td>0</td>\n",
       "      <td>0</td>\n",
       "      <td>1</td>\n",
       "      <td>0</td>\n",
       "      <td>0</td>\n",
       "    </tr>\n",
       "    <tr>\n",
       "      <th>1670</th>\n",
       "      <td>22</td>\n",
       "      <td>0</td>\n",
       "      <td>3361.701810</td>\n",
       "      <td>Urgent</td>\n",
       "      <td>5</td>\n",
       "      <td>0</td>\n",
       "      <td>0</td>\n",
       "      <td>0</td>\n",
       "      <td>0</td>\n",
       "      <td>1</td>\n",
       "      <td>...</td>\n",
       "      <td>0</td>\n",
       "      <td>1</td>\n",
       "      <td>0</td>\n",
       "      <td>0</td>\n",
       "      <td>0</td>\n",
       "      <td>0</td>\n",
       "      <td>0</td>\n",
       "      <td>0</td>\n",
       "      <td>1</td>\n",
       "      <td>0</td>\n",
       "    </tr>\n",
       "  </tbody>\n",
       "</table>\n",
       "<p>3 rows × 24 columns</p>\n",
       "</div>"
      ],
      "text/plain": [
       "      Age  Gender  Billing Amount Admission Type  Duration  Blood Type_A+  \\\n",
       "9254   19       1    20629.373432      Emergency        25              0   \n",
       "1561   37       1    46635.084208      Emergency        21              1   \n",
       "1670   22       0     3361.701810         Urgent         5              0   \n",
       "\n",
       "      Blood Type_A-  Blood Type_AB+  Blood Type_AB-  Blood Type_B+  ...  \\\n",
       "9254              1               0               0              0  ...   \n",
       "1561              0               0               0              0  ...   \n",
       "1670              0               0               0              1  ...   \n",
       "\n",
       "      Medical Condition_Asthma  Medical Condition_Cancer  \\\n",
       "9254                         0                         0   \n",
       "1561                         0                         0   \n",
       "1670                         0                         1   \n",
       "\n",
       "      Medical Condition_Diabetes  Medical Condition_Hypertension  \\\n",
       "9254                           1                               0   \n",
       "1561                           0                               1   \n",
       "1670                           0                               0   \n",
       "\n",
       "      Medical Condition_Obesity  Medication_Aspirin  Medication_Ibuprofen  \\\n",
       "9254                          0                   0                     0   \n",
       "1561                          0                   0                     0   \n",
       "1670                          0                   0                     0   \n",
       "\n",
       "      Medication_Lipitor  Medication_Paracetamol  Medication_Penicillin  \n",
       "9254                   1                       0                      0  \n",
       "1561                   1                       0                      0  \n",
       "1670                   0                       1                      0  \n",
       "\n",
       "[3 rows x 24 columns]"
      ]
     },
     "execution_count": 307,
     "metadata": {},
     "output_type": "execute_result"
    }
   ],
   "source": [
    "x_train = pd.get_dummies(x_train,columns = ['Medication'])\n",
    "x_train.head(3)"
   ]
  },
  {
   "cell_type": "code",
   "execution_count": 308,
   "id": "3d25b4cf",
   "metadata": {
    "scrolled": true
   },
   "outputs": [
    {
     "data": {
      "text/html": [
       "<div>\n",
       "<style scoped>\n",
       "    .dataframe tbody tr th:only-of-type {\n",
       "        vertical-align: middle;\n",
       "    }\n",
       "\n",
       "    .dataframe tbody tr th {\n",
       "        vertical-align: top;\n",
       "    }\n",
       "\n",
       "    .dataframe thead th {\n",
       "        text-align: right;\n",
       "    }\n",
       "</style>\n",
       "<table border=\"1\" class=\"dataframe\">\n",
       "  <thead>\n",
       "    <tr style=\"text-align: right;\">\n",
       "      <th></th>\n",
       "      <th>Age</th>\n",
       "      <th>Gender</th>\n",
       "      <th>Billing Amount</th>\n",
       "      <th>Admission Type</th>\n",
       "      <th>Duration</th>\n",
       "      <th>Blood Type_A+</th>\n",
       "      <th>Blood Type_A-</th>\n",
       "      <th>Blood Type_AB+</th>\n",
       "      <th>Blood Type_AB-</th>\n",
       "      <th>Blood Type_B+</th>\n",
       "      <th>...</th>\n",
       "      <th>Medical Condition_Asthma</th>\n",
       "      <th>Medical Condition_Cancer</th>\n",
       "      <th>Medical Condition_Diabetes</th>\n",
       "      <th>Medical Condition_Hypertension</th>\n",
       "      <th>Medical Condition_Obesity</th>\n",
       "      <th>Medication_Aspirin</th>\n",
       "      <th>Medication_Ibuprofen</th>\n",
       "      <th>Medication_Lipitor</th>\n",
       "      <th>Medication_Paracetamol</th>\n",
       "      <th>Medication_Penicillin</th>\n",
       "    </tr>\n",
       "  </thead>\n",
       "  <tbody>\n",
       "    <tr>\n",
       "      <th>6252</th>\n",
       "      <td>26</td>\n",
       "      <td>1</td>\n",
       "      <td>48228.962751</td>\n",
       "      <td>Elective</td>\n",
       "      <td>13</td>\n",
       "      <td>0</td>\n",
       "      <td>0</td>\n",
       "      <td>1</td>\n",
       "      <td>0</td>\n",
       "      <td>0</td>\n",
       "      <td>...</td>\n",
       "      <td>0</td>\n",
       "      <td>0</td>\n",
       "      <td>0</td>\n",
       "      <td>0</td>\n",
       "      <td>0</td>\n",
       "      <td>0</td>\n",
       "      <td>1</td>\n",
       "      <td>0</td>\n",
       "      <td>0</td>\n",
       "      <td>0</td>\n",
       "    </tr>\n",
       "    <tr>\n",
       "      <th>4684</th>\n",
       "      <td>80</td>\n",
       "      <td>0</td>\n",
       "      <td>5634.310681</td>\n",
       "      <td>Emergency</td>\n",
       "      <td>23</td>\n",
       "      <td>1</td>\n",
       "      <td>0</td>\n",
       "      <td>0</td>\n",
       "      <td>0</td>\n",
       "      <td>0</td>\n",
       "      <td>...</td>\n",
       "      <td>0</td>\n",
       "      <td>0</td>\n",
       "      <td>0</td>\n",
       "      <td>0</td>\n",
       "      <td>1</td>\n",
       "      <td>0</td>\n",
       "      <td>0</td>\n",
       "      <td>0</td>\n",
       "      <td>1</td>\n",
       "      <td>0</td>\n",
       "    </tr>\n",
       "    <tr>\n",
       "      <th>1731</th>\n",
       "      <td>68</td>\n",
       "      <td>0</td>\n",
       "      <td>25850.433905</td>\n",
       "      <td>Urgent</td>\n",
       "      <td>15</td>\n",
       "      <td>0</td>\n",
       "      <td>0</td>\n",
       "      <td>1</td>\n",
       "      <td>0</td>\n",
       "      <td>0</td>\n",
       "      <td>...</td>\n",
       "      <td>0</td>\n",
       "      <td>0</td>\n",
       "      <td>1</td>\n",
       "      <td>0</td>\n",
       "      <td>0</td>\n",
       "      <td>0</td>\n",
       "      <td>1</td>\n",
       "      <td>0</td>\n",
       "      <td>0</td>\n",
       "      <td>0</td>\n",
       "    </tr>\n",
       "  </tbody>\n",
       "</table>\n",
       "<p>3 rows × 24 columns</p>\n",
       "</div>"
      ],
      "text/plain": [
       "      Age  Gender  Billing Amount Admission Type  Duration  Blood Type_A+  \\\n",
       "6252   26       1    48228.962751       Elective        13              0   \n",
       "4684   80       0     5634.310681      Emergency        23              1   \n",
       "1731   68       0    25850.433905         Urgent        15              0   \n",
       "\n",
       "      Blood Type_A-  Blood Type_AB+  Blood Type_AB-  Blood Type_B+  ...  \\\n",
       "6252              0               1               0              0  ...   \n",
       "4684              0               0               0              0  ...   \n",
       "1731              0               1               0              0  ...   \n",
       "\n",
       "      Medical Condition_Asthma  Medical Condition_Cancer  \\\n",
       "6252                         0                         0   \n",
       "4684                         0                         0   \n",
       "1731                         0                         0   \n",
       "\n",
       "      Medical Condition_Diabetes  Medical Condition_Hypertension  \\\n",
       "6252                           0                               0   \n",
       "4684                           0                               0   \n",
       "1731                           1                               0   \n",
       "\n",
       "      Medical Condition_Obesity  Medication_Aspirin  Medication_Ibuprofen  \\\n",
       "6252                          0                   0                     1   \n",
       "4684                          1                   0                     0   \n",
       "1731                          0                   0                     1   \n",
       "\n",
       "      Medication_Lipitor  Medication_Paracetamol  Medication_Penicillin  \n",
       "6252                   0                       0                      0  \n",
       "4684                   0                       1                      0  \n",
       "1731                   0                       0                      0  \n",
       "\n",
       "[3 rows x 24 columns]"
      ]
     },
     "execution_count": 308,
     "metadata": {},
     "output_type": "execute_result"
    }
   ],
   "source": [
    "x_test = pd.get_dummies(x_test,columns = ['Medication'])\n",
    "x_test.head(3)"
   ]
  },
  {
   "cell_type": "markdown",
   "id": "5d144bb6",
   "metadata": {},
   "source": [
    "### **Label Encoding**"
   ]
  },
  {
   "cell_type": "markdown",
   "id": "654bf763",
   "metadata": {},
   "source": [
    "Label encoding was chosen for the **`Admission Type`** and **`Test Result`** columns due to their categorical values that exhibit a **clear ordinal relationship**. In `Admission Type`, the categories **('Elective,' 'Urgent,' 'Emergency')** imply a specific order, where 'Emergency' holds higher urgency than 'Urgent' or 'Elective.' Label encoding assigns numerical labels ('0,' '1,' '2') to these categories in sequence, preserving their ordinal relationship. \n",
    "\n",
    "Similarly, **`Test Result`** categories **('Abnormal,' 'Inconclusive,' 'Normal')** depict a **natural ordering** where 'Abnormal' might hold higher significance than 'Inconclusive' or 'Normal.' Label encoding represents these categories with numerical labels ('0,' '1,' '2') reflecting their inherent order. This encoding method enables the models to capture and learn from the ordinal nature of these categorical variables, potentially enhancing the algorithm's understanding of the inherent order among these categories during analysis and prediction tasks."
   ]
  },
  {
   "cell_type": "markdown",
   "id": "cdae90a7",
   "metadata": {},
   "source": [
    "**`Admission Type`**"
   ]
  },
  {
   "cell_type": "code",
   "execution_count": 309,
   "id": "e6344655",
   "metadata": {},
   "outputs": [
    {
     "data": {
      "text/html": [
       "<div>\n",
       "<style scoped>\n",
       "    .dataframe tbody tr th:only-of-type {\n",
       "        vertical-align: middle;\n",
       "    }\n",
       "\n",
       "    .dataframe tbody tr th {\n",
       "        vertical-align: top;\n",
       "    }\n",
       "\n",
       "    .dataframe thead th {\n",
       "        text-align: right;\n",
       "    }\n",
       "</style>\n",
       "<table border=\"1\" class=\"dataframe\">\n",
       "  <thead>\n",
       "    <tr style=\"text-align: right;\">\n",
       "      <th></th>\n",
       "      <th>Age</th>\n",
       "      <th>Gender</th>\n",
       "      <th>Billing Amount</th>\n",
       "      <th>Admission Type</th>\n",
       "      <th>Duration</th>\n",
       "      <th>Blood Type_A+</th>\n",
       "      <th>Blood Type_A-</th>\n",
       "      <th>Blood Type_AB+</th>\n",
       "      <th>Blood Type_AB-</th>\n",
       "      <th>Blood Type_B+</th>\n",
       "      <th>...</th>\n",
       "      <th>Medical Condition_Asthma</th>\n",
       "      <th>Medical Condition_Cancer</th>\n",
       "      <th>Medical Condition_Diabetes</th>\n",
       "      <th>Medical Condition_Hypertension</th>\n",
       "      <th>Medical Condition_Obesity</th>\n",
       "      <th>Medication_Aspirin</th>\n",
       "      <th>Medication_Ibuprofen</th>\n",
       "      <th>Medication_Lipitor</th>\n",
       "      <th>Medication_Paracetamol</th>\n",
       "      <th>Medication_Penicillin</th>\n",
       "    </tr>\n",
       "  </thead>\n",
       "  <tbody>\n",
       "    <tr>\n",
       "      <th>9254</th>\n",
       "      <td>19</td>\n",
       "      <td>1</td>\n",
       "      <td>20629.373432</td>\n",
       "      <td>2</td>\n",
       "      <td>25</td>\n",
       "      <td>0</td>\n",
       "      <td>1</td>\n",
       "      <td>0</td>\n",
       "      <td>0</td>\n",
       "      <td>0</td>\n",
       "      <td>...</td>\n",
       "      <td>0</td>\n",
       "      <td>0</td>\n",
       "      <td>1</td>\n",
       "      <td>0</td>\n",
       "      <td>0</td>\n",
       "      <td>0</td>\n",
       "      <td>0</td>\n",
       "      <td>1</td>\n",
       "      <td>0</td>\n",
       "      <td>0</td>\n",
       "    </tr>\n",
       "    <tr>\n",
       "      <th>1561</th>\n",
       "      <td>37</td>\n",
       "      <td>1</td>\n",
       "      <td>46635.084208</td>\n",
       "      <td>2</td>\n",
       "      <td>21</td>\n",
       "      <td>1</td>\n",
       "      <td>0</td>\n",
       "      <td>0</td>\n",
       "      <td>0</td>\n",
       "      <td>0</td>\n",
       "      <td>...</td>\n",
       "      <td>0</td>\n",
       "      <td>0</td>\n",
       "      <td>0</td>\n",
       "      <td>1</td>\n",
       "      <td>0</td>\n",
       "      <td>0</td>\n",
       "      <td>0</td>\n",
       "      <td>1</td>\n",
       "      <td>0</td>\n",
       "      <td>0</td>\n",
       "    </tr>\n",
       "    <tr>\n",
       "      <th>1670</th>\n",
       "      <td>22</td>\n",
       "      <td>0</td>\n",
       "      <td>3361.701810</td>\n",
       "      <td>1</td>\n",
       "      <td>5</td>\n",
       "      <td>0</td>\n",
       "      <td>0</td>\n",
       "      <td>0</td>\n",
       "      <td>0</td>\n",
       "      <td>1</td>\n",
       "      <td>...</td>\n",
       "      <td>0</td>\n",
       "      <td>1</td>\n",
       "      <td>0</td>\n",
       "      <td>0</td>\n",
       "      <td>0</td>\n",
       "      <td>0</td>\n",
       "      <td>0</td>\n",
       "      <td>0</td>\n",
       "      <td>1</td>\n",
       "      <td>0</td>\n",
       "    </tr>\n",
       "  </tbody>\n",
       "</table>\n",
       "<p>3 rows × 24 columns</p>\n",
       "</div>"
      ],
      "text/plain": [
       "      Age  Gender  Billing Amount  Admission Type  Duration  Blood Type_A+  \\\n",
       "9254   19       1    20629.373432               2        25              0   \n",
       "1561   37       1    46635.084208               2        21              1   \n",
       "1670   22       0     3361.701810               1         5              0   \n",
       "\n",
       "      Blood Type_A-  Blood Type_AB+  Blood Type_AB-  Blood Type_B+  ...  \\\n",
       "9254              1               0               0              0  ...   \n",
       "1561              0               0               0              0  ...   \n",
       "1670              0               0               0              1  ...   \n",
       "\n",
       "      Medical Condition_Asthma  Medical Condition_Cancer  \\\n",
       "9254                         0                         0   \n",
       "1561                         0                         0   \n",
       "1670                         0                         1   \n",
       "\n",
       "      Medical Condition_Diabetes  Medical Condition_Hypertension  \\\n",
       "9254                           1                               0   \n",
       "1561                           0                               1   \n",
       "1670                           0                               0   \n",
       "\n",
       "      Medical Condition_Obesity  Medication_Aspirin  Medication_Ibuprofen  \\\n",
       "9254                          0                   0                     0   \n",
       "1561                          0                   0                     0   \n",
       "1670                          0                   0                     0   \n",
       "\n",
       "      Medication_Lipitor  Medication_Paracetamol  Medication_Penicillin  \n",
       "9254                   1                       0                      0  \n",
       "1561                   1                       0                      0  \n",
       "1670                   0                       1                      0  \n",
       "\n",
       "[3 rows x 24 columns]"
      ]
     },
     "execution_count": 309,
     "metadata": {},
     "output_type": "execute_result"
    }
   ],
   "source": [
    "df_encode = {\"Admission Type\": {\"Elective\" : 0, \"Urgent\" : 1, \"Emergency\" : 2}}\n",
    "x_train = x_train.replace(df_encode)\n",
    "x_train.head(3)"
   ]
  },
  {
   "cell_type": "code",
   "execution_count": 310,
   "id": "727cac0a",
   "metadata": {},
   "outputs": [
    {
     "data": {
      "text/html": [
       "<div>\n",
       "<style scoped>\n",
       "    .dataframe tbody tr th:only-of-type {\n",
       "        vertical-align: middle;\n",
       "    }\n",
       "\n",
       "    .dataframe tbody tr th {\n",
       "        vertical-align: top;\n",
       "    }\n",
       "\n",
       "    .dataframe thead th {\n",
       "        text-align: right;\n",
       "    }\n",
       "</style>\n",
       "<table border=\"1\" class=\"dataframe\">\n",
       "  <thead>\n",
       "    <tr style=\"text-align: right;\">\n",
       "      <th></th>\n",
       "      <th>Age</th>\n",
       "      <th>Gender</th>\n",
       "      <th>Billing Amount</th>\n",
       "      <th>Admission Type</th>\n",
       "      <th>Duration</th>\n",
       "      <th>Blood Type_A+</th>\n",
       "      <th>Blood Type_A-</th>\n",
       "      <th>Blood Type_AB+</th>\n",
       "      <th>Blood Type_AB-</th>\n",
       "      <th>Blood Type_B+</th>\n",
       "      <th>...</th>\n",
       "      <th>Medical Condition_Asthma</th>\n",
       "      <th>Medical Condition_Cancer</th>\n",
       "      <th>Medical Condition_Diabetes</th>\n",
       "      <th>Medical Condition_Hypertension</th>\n",
       "      <th>Medical Condition_Obesity</th>\n",
       "      <th>Medication_Aspirin</th>\n",
       "      <th>Medication_Ibuprofen</th>\n",
       "      <th>Medication_Lipitor</th>\n",
       "      <th>Medication_Paracetamol</th>\n",
       "      <th>Medication_Penicillin</th>\n",
       "    </tr>\n",
       "  </thead>\n",
       "  <tbody>\n",
       "    <tr>\n",
       "      <th>6252</th>\n",
       "      <td>26</td>\n",
       "      <td>1</td>\n",
       "      <td>48228.962751</td>\n",
       "      <td>0</td>\n",
       "      <td>13</td>\n",
       "      <td>0</td>\n",
       "      <td>0</td>\n",
       "      <td>1</td>\n",
       "      <td>0</td>\n",
       "      <td>0</td>\n",
       "      <td>...</td>\n",
       "      <td>0</td>\n",
       "      <td>0</td>\n",
       "      <td>0</td>\n",
       "      <td>0</td>\n",
       "      <td>0</td>\n",
       "      <td>0</td>\n",
       "      <td>1</td>\n",
       "      <td>0</td>\n",
       "      <td>0</td>\n",
       "      <td>0</td>\n",
       "    </tr>\n",
       "    <tr>\n",
       "      <th>4684</th>\n",
       "      <td>80</td>\n",
       "      <td>0</td>\n",
       "      <td>5634.310681</td>\n",
       "      <td>2</td>\n",
       "      <td>23</td>\n",
       "      <td>1</td>\n",
       "      <td>0</td>\n",
       "      <td>0</td>\n",
       "      <td>0</td>\n",
       "      <td>0</td>\n",
       "      <td>...</td>\n",
       "      <td>0</td>\n",
       "      <td>0</td>\n",
       "      <td>0</td>\n",
       "      <td>0</td>\n",
       "      <td>1</td>\n",
       "      <td>0</td>\n",
       "      <td>0</td>\n",
       "      <td>0</td>\n",
       "      <td>1</td>\n",
       "      <td>0</td>\n",
       "    </tr>\n",
       "    <tr>\n",
       "      <th>1731</th>\n",
       "      <td>68</td>\n",
       "      <td>0</td>\n",
       "      <td>25850.433905</td>\n",
       "      <td>1</td>\n",
       "      <td>15</td>\n",
       "      <td>0</td>\n",
       "      <td>0</td>\n",
       "      <td>1</td>\n",
       "      <td>0</td>\n",
       "      <td>0</td>\n",
       "      <td>...</td>\n",
       "      <td>0</td>\n",
       "      <td>0</td>\n",
       "      <td>1</td>\n",
       "      <td>0</td>\n",
       "      <td>0</td>\n",
       "      <td>0</td>\n",
       "      <td>1</td>\n",
       "      <td>0</td>\n",
       "      <td>0</td>\n",
       "      <td>0</td>\n",
       "    </tr>\n",
       "  </tbody>\n",
       "</table>\n",
       "<p>3 rows × 24 columns</p>\n",
       "</div>"
      ],
      "text/plain": [
       "      Age  Gender  Billing Amount  Admission Type  Duration  Blood Type_A+  \\\n",
       "6252   26       1    48228.962751               0        13              0   \n",
       "4684   80       0     5634.310681               2        23              1   \n",
       "1731   68       0    25850.433905               1        15              0   \n",
       "\n",
       "      Blood Type_A-  Blood Type_AB+  Blood Type_AB-  Blood Type_B+  ...  \\\n",
       "6252              0               1               0              0  ...   \n",
       "4684              0               0               0              0  ...   \n",
       "1731              0               1               0              0  ...   \n",
       "\n",
       "      Medical Condition_Asthma  Medical Condition_Cancer  \\\n",
       "6252                         0                         0   \n",
       "4684                         0                         0   \n",
       "1731                         0                         0   \n",
       "\n",
       "      Medical Condition_Diabetes  Medical Condition_Hypertension  \\\n",
       "6252                           0                               0   \n",
       "4684                           0                               0   \n",
       "1731                           1                               0   \n",
       "\n",
       "      Medical Condition_Obesity  Medication_Aspirin  Medication_Ibuprofen  \\\n",
       "6252                          0                   0                     1   \n",
       "4684                          1                   0                     0   \n",
       "1731                          0                   0                     1   \n",
       "\n",
       "      Medication_Lipitor  Medication_Paracetamol  Medication_Penicillin  \n",
       "6252                   0                       0                      0  \n",
       "4684                   0                       1                      0  \n",
       "1731                   0                       0                      0  \n",
       "\n",
       "[3 rows x 24 columns]"
      ]
     },
     "execution_count": 310,
     "metadata": {},
     "output_type": "execute_result"
    }
   ],
   "source": [
    "x_test = x_test.replace(df_encode)\n",
    "x_test.head(3)"
   ]
  },
  {
   "cell_type": "markdown",
   "id": "418ed494",
   "metadata": {},
   "source": [
    "**`Test Results`**"
   ]
  },
  {
   "cell_type": "code",
   "execution_count": 311,
   "id": "6a1ce5ae",
   "metadata": {},
   "outputs": [
    {
     "data": {
      "text/plain": [
       "9254    0\n",
       "1561    1\n",
       "1670    2\n",
       "6087    0\n",
       "6669    2\n",
       "Name: Test Results, dtype: int64"
      ]
     },
     "execution_count": 311,
     "metadata": {},
     "output_type": "execute_result"
    }
   ],
   "source": [
    "df_encode = {\"Abnormal\" : 0, \"Inconclusive\" : 1, \"Normal\" : 2}\n",
    "y_train = y_train.map(df_encode)\n",
    "y_train.head()"
   ]
  },
  {
   "cell_type": "code",
   "execution_count": 312,
   "id": "3963ef65",
   "metadata": {},
   "outputs": [
    {
     "data": {
      "text/plain": [
       "6252    1\n",
       "4684    2\n",
       "1731    1\n",
       "4742    1\n",
       "4521    0\n",
       "Name: Test Results, dtype: int64"
      ]
     },
     "execution_count": 312,
     "metadata": {},
     "output_type": "execute_result"
    }
   ],
   "source": [
    "y_test = y_test.map(df_encode)\n",
    "y_test.head()"
   ]
  },
  {
   "cell_type": "markdown",
   "id": "ff345e2c",
   "metadata": {},
   "source": [
    "# **Data Normalization (Optional)**"
   ]
  },
  {
   "cell_type": "markdown",
   "id": "f8ef2d5d",
   "metadata": {},
   "source": [
    "For ensemble learning methods such as Bagging, Random Forest, Boosting, and Stacking, data normalization **might not be crucial for numerical columns**. These methods, particularly **tree-based algorithms**, are **less affected** by feature scaling as they make decisions based on individual feature thresholds rather than their magnitudes. \n",
    "\n",
    "However, it's **wise to assess the impact of normalization** on specific datasets. While normalization could aid convergence in some boosting algorithms, it's advisable to experiment and evaluate its necessity for a particular scenario to ensure optimal model performance."
   ]
  },
  {
   "cell_type": "markdown",
   "id": "b58d0e78",
   "metadata": {},
   "source": [
    "**Min-Max scaling** is suitable for data with normal distribution and no outliers, rescales numerical features to a specific range, often 0 to 1. This method maintains the original distribution's shape and relationships among values. It ensures consistency in feature ranges, aiding model convergence and stability. However, its effectiveness should be validated for the dataset and modeling task at hand."
   ]
  },
  {
   "cell_type": "markdown",
   "id": "e538f611",
   "metadata": {},
   "source": [
    "**`Billing Amount`**"
   ]
  },
  {
   "cell_type": "code",
   "execution_count": 313,
   "id": "e2056e83",
   "metadata": {},
   "outputs": [
    {
     "data": {
      "text/html": [
       "<div>\n",
       "<style scoped>\n",
       "    .dataframe tbody tr th:only-of-type {\n",
       "        vertical-align: middle;\n",
       "    }\n",
       "\n",
       "    .dataframe tbody tr th {\n",
       "        vertical-align: top;\n",
       "    }\n",
       "\n",
       "    .dataframe thead th {\n",
       "        text-align: right;\n",
       "    }\n",
       "</style>\n",
       "<table border=\"1\" class=\"dataframe\">\n",
       "  <thead>\n",
       "    <tr style=\"text-align: right;\">\n",
       "      <th></th>\n",
       "      <th>Age</th>\n",
       "      <th>Gender</th>\n",
       "      <th>Billing Amount</th>\n",
       "      <th>Admission Type</th>\n",
       "      <th>Duration</th>\n",
       "      <th>Blood Type_A+</th>\n",
       "      <th>Blood Type_A-</th>\n",
       "      <th>Blood Type_AB+</th>\n",
       "      <th>Blood Type_AB-</th>\n",
       "      <th>Blood Type_B+</th>\n",
       "      <th>...</th>\n",
       "      <th>Medical Condition_Asthma</th>\n",
       "      <th>Medical Condition_Cancer</th>\n",
       "      <th>Medical Condition_Diabetes</th>\n",
       "      <th>Medical Condition_Hypertension</th>\n",
       "      <th>Medical Condition_Obesity</th>\n",
       "      <th>Medication_Aspirin</th>\n",
       "      <th>Medication_Ibuprofen</th>\n",
       "      <th>Medication_Lipitor</th>\n",
       "      <th>Medication_Paracetamol</th>\n",
       "      <th>Medication_Penicillin</th>\n",
       "    </tr>\n",
       "  </thead>\n",
       "  <tbody>\n",
       "    <tr>\n",
       "      <th>9254</th>\n",
       "      <td>19</td>\n",
       "      <td>1</td>\n",
       "      <td>0.400518</td>\n",
       "      <td>2</td>\n",
       "      <td>25</td>\n",
       "      <td>0</td>\n",
       "      <td>1</td>\n",
       "      <td>0</td>\n",
       "      <td>0</td>\n",
       "      <td>0</td>\n",
       "      <td>...</td>\n",
       "      <td>0</td>\n",
       "      <td>0</td>\n",
       "      <td>1</td>\n",
       "      <td>0</td>\n",
       "      <td>0</td>\n",
       "      <td>0</td>\n",
       "      <td>0</td>\n",
       "      <td>1</td>\n",
       "      <td>0</td>\n",
       "      <td>0</td>\n",
       "    </tr>\n",
       "    <tr>\n",
       "      <th>1561</th>\n",
       "      <td>37</td>\n",
       "      <td>1</td>\n",
       "      <td>0.931393</td>\n",
       "      <td>2</td>\n",
       "      <td>21</td>\n",
       "      <td>1</td>\n",
       "      <td>0</td>\n",
       "      <td>0</td>\n",
       "      <td>0</td>\n",
       "      <td>0</td>\n",
       "      <td>...</td>\n",
       "      <td>0</td>\n",
       "      <td>0</td>\n",
       "      <td>0</td>\n",
       "      <td>1</td>\n",
       "      <td>0</td>\n",
       "      <td>0</td>\n",
       "      <td>0</td>\n",
       "      <td>1</td>\n",
       "      <td>0</td>\n",
       "      <td>0</td>\n",
       "    </tr>\n",
       "    <tr>\n",
       "      <th>1670</th>\n",
       "      <td>22</td>\n",
       "      <td>0</td>\n",
       "      <td>0.048019</td>\n",
       "      <td>1</td>\n",
       "      <td>5</td>\n",
       "      <td>0</td>\n",
       "      <td>0</td>\n",
       "      <td>0</td>\n",
       "      <td>0</td>\n",
       "      <td>1</td>\n",
       "      <td>...</td>\n",
       "      <td>0</td>\n",
       "      <td>1</td>\n",
       "      <td>0</td>\n",
       "      <td>0</td>\n",
       "      <td>0</td>\n",
       "      <td>0</td>\n",
       "      <td>0</td>\n",
       "      <td>0</td>\n",
       "      <td>1</td>\n",
       "      <td>0</td>\n",
       "    </tr>\n",
       "    <tr>\n",
       "      <th>6087</th>\n",
       "      <td>67</td>\n",
       "      <td>0</td>\n",
       "      <td>0.775821</td>\n",
       "      <td>1</td>\n",
       "      <td>15</td>\n",
       "      <td>0</td>\n",
       "      <td>0</td>\n",
       "      <td>1</td>\n",
       "      <td>0</td>\n",
       "      <td>0</td>\n",
       "      <td>...</td>\n",
       "      <td>0</td>\n",
       "      <td>0</td>\n",
       "      <td>0</td>\n",
       "      <td>1</td>\n",
       "      <td>0</td>\n",
       "      <td>1</td>\n",
       "      <td>0</td>\n",
       "      <td>0</td>\n",
       "      <td>0</td>\n",
       "      <td>0</td>\n",
       "    </tr>\n",
       "    <tr>\n",
       "      <th>6669</th>\n",
       "      <td>38</td>\n",
       "      <td>0</td>\n",
       "      <td>0.967237</td>\n",
       "      <td>0</td>\n",
       "      <td>12</td>\n",
       "      <td>0</td>\n",
       "      <td>0</td>\n",
       "      <td>0</td>\n",
       "      <td>0</td>\n",
       "      <td>0</td>\n",
       "      <td>...</td>\n",
       "      <td>0</td>\n",
       "      <td>0</td>\n",
       "      <td>0</td>\n",
       "      <td>1</td>\n",
       "      <td>0</td>\n",
       "      <td>0</td>\n",
       "      <td>0</td>\n",
       "      <td>0</td>\n",
       "      <td>0</td>\n",
       "      <td>1</td>\n",
       "    </tr>\n",
       "  </tbody>\n",
       "</table>\n",
       "<p>5 rows × 24 columns</p>\n",
       "</div>"
      ],
      "text/plain": [
       "      Age  Gender  Billing Amount  Admission Type  Duration  Blood Type_A+  \\\n",
       "9254   19       1        0.400518               2        25              0   \n",
       "1561   37       1        0.931393               2        21              1   \n",
       "1670   22       0        0.048019               1         5              0   \n",
       "6087   67       0        0.775821               1        15              0   \n",
       "6669   38       0        0.967237               0        12              0   \n",
       "\n",
       "      Blood Type_A-  Blood Type_AB+  Blood Type_AB-  Blood Type_B+  ...  \\\n",
       "9254              1               0               0              0  ...   \n",
       "1561              0               0               0              0  ...   \n",
       "1670              0               0               0              1  ...   \n",
       "6087              0               1               0              0  ...   \n",
       "6669              0               0               0              0  ...   \n",
       "\n",
       "      Medical Condition_Asthma  Medical Condition_Cancer  \\\n",
       "9254                         0                         0   \n",
       "1561                         0                         0   \n",
       "1670                         0                         1   \n",
       "6087                         0                         0   \n",
       "6669                         0                         0   \n",
       "\n",
       "      Medical Condition_Diabetes  Medical Condition_Hypertension  \\\n",
       "9254                           1                               0   \n",
       "1561                           0                               1   \n",
       "1670                           0                               0   \n",
       "6087                           0                               1   \n",
       "6669                           0                               1   \n",
       "\n",
       "      Medical Condition_Obesity  Medication_Aspirin  Medication_Ibuprofen  \\\n",
       "9254                          0                   0                     0   \n",
       "1561                          0                   0                     0   \n",
       "1670                          0                   0                     0   \n",
       "6087                          0                   1                     0   \n",
       "6669                          0                   0                     0   \n",
       "\n",
       "      Medication_Lipitor  Medication_Paracetamol  Medication_Penicillin  \n",
       "9254                   1                       0                      0  \n",
       "1561                   1                       0                      0  \n",
       "1670                   0                       1                      0  \n",
       "6087                   0                       0                      0  \n",
       "6669                   0                       0                      1  \n",
       "\n",
       "[5 rows x 24 columns]"
      ]
     },
     "execution_count": 313,
     "metadata": {},
     "output_type": "execute_result"
    }
   ],
   "source": [
    "from sklearn.preprocessing import MinMaxScaler\n",
    "scaler = MinMaxScaler()\n",
    "x_train['Billing Amount'] = scaler.fit_transform(x_train[['Billing Amount']])\n",
    "x_train.head()"
   ]
  },
  {
   "cell_type": "code",
   "execution_count": 314,
   "id": "62a6c44e",
   "metadata": {},
   "outputs": [
    {
     "data": {
      "text/html": [
       "<div>\n",
       "<style scoped>\n",
       "    .dataframe tbody tr th:only-of-type {\n",
       "        vertical-align: middle;\n",
       "    }\n",
       "\n",
       "    .dataframe tbody tr th {\n",
       "        vertical-align: top;\n",
       "    }\n",
       "\n",
       "    .dataframe thead th {\n",
       "        text-align: right;\n",
       "    }\n",
       "</style>\n",
       "<table border=\"1\" class=\"dataframe\">\n",
       "  <thead>\n",
       "    <tr style=\"text-align: right;\">\n",
       "      <th></th>\n",
       "      <th>Age</th>\n",
       "      <th>Gender</th>\n",
       "      <th>Billing Amount</th>\n",
       "      <th>Admission Type</th>\n",
       "      <th>Duration</th>\n",
       "      <th>Blood Type_A+</th>\n",
       "      <th>Blood Type_A-</th>\n",
       "      <th>Blood Type_AB+</th>\n",
       "      <th>Blood Type_AB-</th>\n",
       "      <th>Blood Type_B+</th>\n",
       "      <th>...</th>\n",
       "      <th>Medical Condition_Asthma</th>\n",
       "      <th>Medical Condition_Cancer</th>\n",
       "      <th>Medical Condition_Diabetes</th>\n",
       "      <th>Medical Condition_Hypertension</th>\n",
       "      <th>Medical Condition_Obesity</th>\n",
       "      <th>Medication_Aspirin</th>\n",
       "      <th>Medication_Ibuprofen</th>\n",
       "      <th>Medication_Lipitor</th>\n",
       "      <th>Medication_Paracetamol</th>\n",
       "      <th>Medication_Penicillin</th>\n",
       "    </tr>\n",
       "  </thead>\n",
       "  <tbody>\n",
       "    <tr>\n",
       "      <th>6252</th>\n",
       "      <td>26</td>\n",
       "      <td>1</td>\n",
       "      <td>0.964362</td>\n",
       "      <td>0</td>\n",
       "      <td>13</td>\n",
       "      <td>0</td>\n",
       "      <td>0</td>\n",
       "      <td>1</td>\n",
       "      <td>0</td>\n",
       "      <td>0</td>\n",
       "      <td>...</td>\n",
       "      <td>0</td>\n",
       "      <td>0</td>\n",
       "      <td>0</td>\n",
       "      <td>0</td>\n",
       "      <td>0</td>\n",
       "      <td>0</td>\n",
       "      <td>1</td>\n",
       "      <td>0</td>\n",
       "      <td>0</td>\n",
       "      <td>0</td>\n",
       "    </tr>\n",
       "    <tr>\n",
       "      <th>4684</th>\n",
       "      <td>80</td>\n",
       "      <td>0</td>\n",
       "      <td>0.094624</td>\n",
       "      <td>2</td>\n",
       "      <td>23</td>\n",
       "      <td>1</td>\n",
       "      <td>0</td>\n",
       "      <td>0</td>\n",
       "      <td>0</td>\n",
       "      <td>0</td>\n",
       "      <td>...</td>\n",
       "      <td>0</td>\n",
       "      <td>0</td>\n",
       "      <td>0</td>\n",
       "      <td>0</td>\n",
       "      <td>1</td>\n",
       "      <td>0</td>\n",
       "      <td>0</td>\n",
       "      <td>0</td>\n",
       "      <td>1</td>\n",
       "      <td>0</td>\n",
       "    </tr>\n",
       "    <tr>\n",
       "      <th>1731</th>\n",
       "      <td>68</td>\n",
       "      <td>0</td>\n",
       "      <td>0.507416</td>\n",
       "      <td>1</td>\n",
       "      <td>15</td>\n",
       "      <td>0</td>\n",
       "      <td>0</td>\n",
       "      <td>1</td>\n",
       "      <td>0</td>\n",
       "      <td>0</td>\n",
       "      <td>...</td>\n",
       "      <td>0</td>\n",
       "      <td>0</td>\n",
       "      <td>1</td>\n",
       "      <td>0</td>\n",
       "      <td>0</td>\n",
       "      <td>0</td>\n",
       "      <td>1</td>\n",
       "      <td>0</td>\n",
       "      <td>0</td>\n",
       "      <td>0</td>\n",
       "    </tr>\n",
       "    <tr>\n",
       "      <th>4742</th>\n",
       "      <td>61</td>\n",
       "      <td>1</td>\n",
       "      <td>0.735396</td>\n",
       "      <td>1</td>\n",
       "      <td>26</td>\n",
       "      <td>0</td>\n",
       "      <td>0</td>\n",
       "      <td>0</td>\n",
       "      <td>0</td>\n",
       "      <td>0</td>\n",
       "      <td>...</td>\n",
       "      <td>1</td>\n",
       "      <td>0</td>\n",
       "      <td>0</td>\n",
       "      <td>0</td>\n",
       "      <td>0</td>\n",
       "      <td>1</td>\n",
       "      <td>0</td>\n",
       "      <td>0</td>\n",
       "      <td>0</td>\n",
       "      <td>0</td>\n",
       "    </tr>\n",
       "    <tr>\n",
       "      <th>4521</th>\n",
       "      <td>78</td>\n",
       "      <td>1</td>\n",
       "      <td>0.498742</td>\n",
       "      <td>2</td>\n",
       "      <td>18</td>\n",
       "      <td>0</td>\n",
       "      <td>0</td>\n",
       "      <td>0</td>\n",
       "      <td>0</td>\n",
       "      <td>0</td>\n",
       "      <td>...</td>\n",
       "      <td>0</td>\n",
       "      <td>0</td>\n",
       "      <td>0</td>\n",
       "      <td>0</td>\n",
       "      <td>1</td>\n",
       "      <td>0</td>\n",
       "      <td>0</td>\n",
       "      <td>0</td>\n",
       "      <td>1</td>\n",
       "      <td>0</td>\n",
       "    </tr>\n",
       "  </tbody>\n",
       "</table>\n",
       "<p>5 rows × 24 columns</p>\n",
       "</div>"
      ],
      "text/plain": [
       "      Age  Gender  Billing Amount  Admission Type  Duration  Blood Type_A+  \\\n",
       "6252   26       1        0.964362               0        13              0   \n",
       "4684   80       0        0.094624               2        23              1   \n",
       "1731   68       0        0.507416               1        15              0   \n",
       "4742   61       1        0.735396               1        26              0   \n",
       "4521   78       1        0.498742               2        18              0   \n",
       "\n",
       "      Blood Type_A-  Blood Type_AB+  Blood Type_AB-  Blood Type_B+  ...  \\\n",
       "6252              0               1               0              0  ...   \n",
       "4684              0               0               0              0  ...   \n",
       "1731              0               1               0              0  ...   \n",
       "4742              0               0               0              0  ...   \n",
       "4521              0               0               0              0  ...   \n",
       "\n",
       "      Medical Condition_Asthma  Medical Condition_Cancer  \\\n",
       "6252                         0                         0   \n",
       "4684                         0                         0   \n",
       "1731                         0                         0   \n",
       "4742                         1                         0   \n",
       "4521                         0                         0   \n",
       "\n",
       "      Medical Condition_Diabetes  Medical Condition_Hypertension  \\\n",
       "6252                           0                               0   \n",
       "4684                           0                               0   \n",
       "1731                           1                               0   \n",
       "4742                           0                               0   \n",
       "4521                           0                               0   \n",
       "\n",
       "      Medical Condition_Obesity  Medication_Aspirin  Medication_Ibuprofen  \\\n",
       "6252                          0                   0                     1   \n",
       "4684                          1                   0                     0   \n",
       "1731                          0                   0                     1   \n",
       "4742                          0                   1                     0   \n",
       "4521                          1                   0                     0   \n",
       "\n",
       "      Medication_Lipitor  Medication_Paracetamol  Medication_Penicillin  \n",
       "6252                   0                       0                      0  \n",
       "4684                   0                       1                      0  \n",
       "1731                   0                       0                      0  \n",
       "4742                   0                       0                      0  \n",
       "4521                   0                       1                      0  \n",
       "\n",
       "[5 rows x 24 columns]"
      ]
     },
     "execution_count": 314,
     "metadata": {},
     "output_type": "execute_result"
    }
   ],
   "source": [
    "x_test['Billing Amount'] = scaler.fit_transform(x_test[['Billing Amount']])\n",
    "x_test.head()"
   ]
  },
  {
   "cell_type": "markdown",
   "id": "c4ae246f",
   "metadata": {},
   "source": [
    "**`Age`**"
   ]
  },
  {
   "cell_type": "code",
   "execution_count": 315,
   "id": "cb7605b2",
   "metadata": {},
   "outputs": [
    {
     "data": {
      "text/html": [
       "<div>\n",
       "<style scoped>\n",
       "    .dataframe tbody tr th:only-of-type {\n",
       "        vertical-align: middle;\n",
       "    }\n",
       "\n",
       "    .dataframe tbody tr th {\n",
       "        vertical-align: top;\n",
       "    }\n",
       "\n",
       "    .dataframe thead th {\n",
       "        text-align: right;\n",
       "    }\n",
       "</style>\n",
       "<table border=\"1\" class=\"dataframe\">\n",
       "  <thead>\n",
       "    <tr style=\"text-align: right;\">\n",
       "      <th></th>\n",
       "      <th>Age</th>\n",
       "      <th>Gender</th>\n",
       "      <th>Billing Amount</th>\n",
       "      <th>Admission Type</th>\n",
       "      <th>Duration</th>\n",
       "      <th>Blood Type_A+</th>\n",
       "      <th>Blood Type_A-</th>\n",
       "      <th>Blood Type_AB+</th>\n",
       "      <th>Blood Type_AB-</th>\n",
       "      <th>Blood Type_B+</th>\n",
       "      <th>...</th>\n",
       "      <th>Medical Condition_Asthma</th>\n",
       "      <th>Medical Condition_Cancer</th>\n",
       "      <th>Medical Condition_Diabetes</th>\n",
       "      <th>Medical Condition_Hypertension</th>\n",
       "      <th>Medical Condition_Obesity</th>\n",
       "      <th>Medication_Aspirin</th>\n",
       "      <th>Medication_Ibuprofen</th>\n",
       "      <th>Medication_Lipitor</th>\n",
       "      <th>Medication_Paracetamol</th>\n",
       "      <th>Medication_Penicillin</th>\n",
       "    </tr>\n",
       "  </thead>\n",
       "  <tbody>\n",
       "    <tr>\n",
       "      <th>9254</th>\n",
       "      <td>0.014925</td>\n",
       "      <td>1</td>\n",
       "      <td>0.400518</td>\n",
       "      <td>2</td>\n",
       "      <td>25</td>\n",
       "      <td>0</td>\n",
       "      <td>1</td>\n",
       "      <td>0</td>\n",
       "      <td>0</td>\n",
       "      <td>0</td>\n",
       "      <td>...</td>\n",
       "      <td>0</td>\n",
       "      <td>0</td>\n",
       "      <td>1</td>\n",
       "      <td>0</td>\n",
       "      <td>0</td>\n",
       "      <td>0</td>\n",
       "      <td>0</td>\n",
       "      <td>1</td>\n",
       "      <td>0</td>\n",
       "      <td>0</td>\n",
       "    </tr>\n",
       "    <tr>\n",
       "      <th>1561</th>\n",
       "      <td>0.283582</td>\n",
       "      <td>1</td>\n",
       "      <td>0.931393</td>\n",
       "      <td>2</td>\n",
       "      <td>21</td>\n",
       "      <td>1</td>\n",
       "      <td>0</td>\n",
       "      <td>0</td>\n",
       "      <td>0</td>\n",
       "      <td>0</td>\n",
       "      <td>...</td>\n",
       "      <td>0</td>\n",
       "      <td>0</td>\n",
       "      <td>0</td>\n",
       "      <td>1</td>\n",
       "      <td>0</td>\n",
       "      <td>0</td>\n",
       "      <td>0</td>\n",
       "      <td>1</td>\n",
       "      <td>0</td>\n",
       "      <td>0</td>\n",
       "    </tr>\n",
       "    <tr>\n",
       "      <th>1670</th>\n",
       "      <td>0.059701</td>\n",
       "      <td>0</td>\n",
       "      <td>0.048019</td>\n",
       "      <td>1</td>\n",
       "      <td>5</td>\n",
       "      <td>0</td>\n",
       "      <td>0</td>\n",
       "      <td>0</td>\n",
       "      <td>0</td>\n",
       "      <td>1</td>\n",
       "      <td>...</td>\n",
       "      <td>0</td>\n",
       "      <td>1</td>\n",
       "      <td>0</td>\n",
       "      <td>0</td>\n",
       "      <td>0</td>\n",
       "      <td>0</td>\n",
       "      <td>0</td>\n",
       "      <td>0</td>\n",
       "      <td>1</td>\n",
       "      <td>0</td>\n",
       "    </tr>\n",
       "    <tr>\n",
       "      <th>6087</th>\n",
       "      <td>0.731343</td>\n",
       "      <td>0</td>\n",
       "      <td>0.775821</td>\n",
       "      <td>1</td>\n",
       "      <td>15</td>\n",
       "      <td>0</td>\n",
       "      <td>0</td>\n",
       "      <td>1</td>\n",
       "      <td>0</td>\n",
       "      <td>0</td>\n",
       "      <td>...</td>\n",
       "      <td>0</td>\n",
       "      <td>0</td>\n",
       "      <td>0</td>\n",
       "      <td>1</td>\n",
       "      <td>0</td>\n",
       "      <td>1</td>\n",
       "      <td>0</td>\n",
       "      <td>0</td>\n",
       "      <td>0</td>\n",
       "      <td>0</td>\n",
       "    </tr>\n",
       "    <tr>\n",
       "      <th>6669</th>\n",
       "      <td>0.298507</td>\n",
       "      <td>0</td>\n",
       "      <td>0.967237</td>\n",
       "      <td>0</td>\n",
       "      <td>12</td>\n",
       "      <td>0</td>\n",
       "      <td>0</td>\n",
       "      <td>0</td>\n",
       "      <td>0</td>\n",
       "      <td>0</td>\n",
       "      <td>...</td>\n",
       "      <td>0</td>\n",
       "      <td>0</td>\n",
       "      <td>0</td>\n",
       "      <td>1</td>\n",
       "      <td>0</td>\n",
       "      <td>0</td>\n",
       "      <td>0</td>\n",
       "      <td>0</td>\n",
       "      <td>0</td>\n",
       "      <td>1</td>\n",
       "    </tr>\n",
       "  </tbody>\n",
       "</table>\n",
       "<p>5 rows × 24 columns</p>\n",
       "</div>"
      ],
      "text/plain": [
       "           Age  Gender  Billing Amount  Admission Type  Duration  \\\n",
       "9254  0.014925       1        0.400518               2        25   \n",
       "1561  0.283582       1        0.931393               2        21   \n",
       "1670  0.059701       0        0.048019               1         5   \n",
       "6087  0.731343       0        0.775821               1        15   \n",
       "6669  0.298507       0        0.967237               0        12   \n",
       "\n",
       "      Blood Type_A+  Blood Type_A-  Blood Type_AB+  Blood Type_AB-  \\\n",
       "9254              0              1               0               0   \n",
       "1561              1              0               0               0   \n",
       "1670              0              0               0               0   \n",
       "6087              0              0               1               0   \n",
       "6669              0              0               0               0   \n",
       "\n",
       "      Blood Type_B+  ...  Medical Condition_Asthma  Medical Condition_Cancer  \\\n",
       "9254              0  ...                         0                         0   \n",
       "1561              0  ...                         0                         0   \n",
       "1670              1  ...                         0                         1   \n",
       "6087              0  ...                         0                         0   \n",
       "6669              0  ...                         0                         0   \n",
       "\n",
       "      Medical Condition_Diabetes  Medical Condition_Hypertension  \\\n",
       "9254                           1                               0   \n",
       "1561                           0                               1   \n",
       "1670                           0                               0   \n",
       "6087                           0                               1   \n",
       "6669                           0                               1   \n",
       "\n",
       "      Medical Condition_Obesity  Medication_Aspirin  Medication_Ibuprofen  \\\n",
       "9254                          0                   0                     0   \n",
       "1561                          0                   0                     0   \n",
       "1670                          0                   0                     0   \n",
       "6087                          0                   1                     0   \n",
       "6669                          0                   0                     0   \n",
       "\n",
       "      Medication_Lipitor  Medication_Paracetamol  Medication_Penicillin  \n",
       "9254                   1                       0                      0  \n",
       "1561                   1                       0                      0  \n",
       "1670                   0                       1                      0  \n",
       "6087                   0                       0                      0  \n",
       "6669                   0                       0                      1  \n",
       "\n",
       "[5 rows x 24 columns]"
      ]
     },
     "execution_count": 315,
     "metadata": {},
     "output_type": "execute_result"
    }
   ],
   "source": [
    "from sklearn.preprocessing import MinMaxScaler\n",
    "scaler = MinMaxScaler()\n",
    "x_train['Age'] = scaler.fit_transform(x_train[['Age']])\n",
    "x_train.head()"
   ]
  },
  {
   "cell_type": "code",
   "execution_count": 316,
   "id": "92d0bb9a",
   "metadata": {},
   "outputs": [
    {
     "data": {
      "text/html": [
       "<div>\n",
       "<style scoped>\n",
       "    .dataframe tbody tr th:only-of-type {\n",
       "        vertical-align: middle;\n",
       "    }\n",
       "\n",
       "    .dataframe tbody tr th {\n",
       "        vertical-align: top;\n",
       "    }\n",
       "\n",
       "    .dataframe thead th {\n",
       "        text-align: right;\n",
       "    }\n",
       "</style>\n",
       "<table border=\"1\" class=\"dataframe\">\n",
       "  <thead>\n",
       "    <tr style=\"text-align: right;\">\n",
       "      <th></th>\n",
       "      <th>Age</th>\n",
       "      <th>Gender</th>\n",
       "      <th>Billing Amount</th>\n",
       "      <th>Admission Type</th>\n",
       "      <th>Duration</th>\n",
       "      <th>Blood Type_A+</th>\n",
       "      <th>Blood Type_A-</th>\n",
       "      <th>Blood Type_AB+</th>\n",
       "      <th>Blood Type_AB-</th>\n",
       "      <th>Blood Type_B+</th>\n",
       "      <th>...</th>\n",
       "      <th>Medical Condition_Asthma</th>\n",
       "      <th>Medical Condition_Cancer</th>\n",
       "      <th>Medical Condition_Diabetes</th>\n",
       "      <th>Medical Condition_Hypertension</th>\n",
       "      <th>Medical Condition_Obesity</th>\n",
       "      <th>Medication_Aspirin</th>\n",
       "      <th>Medication_Ibuprofen</th>\n",
       "      <th>Medication_Lipitor</th>\n",
       "      <th>Medication_Paracetamol</th>\n",
       "      <th>Medication_Penicillin</th>\n",
       "    </tr>\n",
       "  </thead>\n",
       "  <tbody>\n",
       "    <tr>\n",
       "      <th>6252</th>\n",
       "      <td>0.119403</td>\n",
       "      <td>1</td>\n",
       "      <td>0.964362</td>\n",
       "      <td>0</td>\n",
       "      <td>13</td>\n",
       "      <td>0</td>\n",
       "      <td>0</td>\n",
       "      <td>1</td>\n",
       "      <td>0</td>\n",
       "      <td>0</td>\n",
       "      <td>...</td>\n",
       "      <td>0</td>\n",
       "      <td>0</td>\n",
       "      <td>0</td>\n",
       "      <td>0</td>\n",
       "      <td>0</td>\n",
       "      <td>0</td>\n",
       "      <td>1</td>\n",
       "      <td>0</td>\n",
       "      <td>0</td>\n",
       "      <td>0</td>\n",
       "    </tr>\n",
       "    <tr>\n",
       "      <th>4684</th>\n",
       "      <td>0.925373</td>\n",
       "      <td>0</td>\n",
       "      <td>0.094624</td>\n",
       "      <td>2</td>\n",
       "      <td>23</td>\n",
       "      <td>1</td>\n",
       "      <td>0</td>\n",
       "      <td>0</td>\n",
       "      <td>0</td>\n",
       "      <td>0</td>\n",
       "      <td>...</td>\n",
       "      <td>0</td>\n",
       "      <td>0</td>\n",
       "      <td>0</td>\n",
       "      <td>0</td>\n",
       "      <td>1</td>\n",
       "      <td>0</td>\n",
       "      <td>0</td>\n",
       "      <td>0</td>\n",
       "      <td>1</td>\n",
       "      <td>0</td>\n",
       "    </tr>\n",
       "    <tr>\n",
       "      <th>1731</th>\n",
       "      <td>0.746269</td>\n",
       "      <td>0</td>\n",
       "      <td>0.507416</td>\n",
       "      <td>1</td>\n",
       "      <td>15</td>\n",
       "      <td>0</td>\n",
       "      <td>0</td>\n",
       "      <td>1</td>\n",
       "      <td>0</td>\n",
       "      <td>0</td>\n",
       "      <td>...</td>\n",
       "      <td>0</td>\n",
       "      <td>0</td>\n",
       "      <td>1</td>\n",
       "      <td>0</td>\n",
       "      <td>0</td>\n",
       "      <td>0</td>\n",
       "      <td>1</td>\n",
       "      <td>0</td>\n",
       "      <td>0</td>\n",
       "      <td>0</td>\n",
       "    </tr>\n",
       "    <tr>\n",
       "      <th>4742</th>\n",
       "      <td>0.641791</td>\n",
       "      <td>1</td>\n",
       "      <td>0.735396</td>\n",
       "      <td>1</td>\n",
       "      <td>26</td>\n",
       "      <td>0</td>\n",
       "      <td>0</td>\n",
       "      <td>0</td>\n",
       "      <td>0</td>\n",
       "      <td>0</td>\n",
       "      <td>...</td>\n",
       "      <td>1</td>\n",
       "      <td>0</td>\n",
       "      <td>0</td>\n",
       "      <td>0</td>\n",
       "      <td>0</td>\n",
       "      <td>1</td>\n",
       "      <td>0</td>\n",
       "      <td>0</td>\n",
       "      <td>0</td>\n",
       "      <td>0</td>\n",
       "    </tr>\n",
       "    <tr>\n",
       "      <th>4521</th>\n",
       "      <td>0.895522</td>\n",
       "      <td>1</td>\n",
       "      <td>0.498742</td>\n",
       "      <td>2</td>\n",
       "      <td>18</td>\n",
       "      <td>0</td>\n",
       "      <td>0</td>\n",
       "      <td>0</td>\n",
       "      <td>0</td>\n",
       "      <td>0</td>\n",
       "      <td>...</td>\n",
       "      <td>0</td>\n",
       "      <td>0</td>\n",
       "      <td>0</td>\n",
       "      <td>0</td>\n",
       "      <td>1</td>\n",
       "      <td>0</td>\n",
       "      <td>0</td>\n",
       "      <td>0</td>\n",
       "      <td>1</td>\n",
       "      <td>0</td>\n",
       "    </tr>\n",
       "  </tbody>\n",
       "</table>\n",
       "<p>5 rows × 24 columns</p>\n",
       "</div>"
      ],
      "text/plain": [
       "           Age  Gender  Billing Amount  Admission Type  Duration  \\\n",
       "6252  0.119403       1        0.964362               0        13   \n",
       "4684  0.925373       0        0.094624               2        23   \n",
       "1731  0.746269       0        0.507416               1        15   \n",
       "4742  0.641791       1        0.735396               1        26   \n",
       "4521  0.895522       1        0.498742               2        18   \n",
       "\n",
       "      Blood Type_A+  Blood Type_A-  Blood Type_AB+  Blood Type_AB-  \\\n",
       "6252              0              0               1               0   \n",
       "4684              1              0               0               0   \n",
       "1731              0              0               1               0   \n",
       "4742              0              0               0               0   \n",
       "4521              0              0               0               0   \n",
       "\n",
       "      Blood Type_B+  ...  Medical Condition_Asthma  Medical Condition_Cancer  \\\n",
       "6252              0  ...                         0                         0   \n",
       "4684              0  ...                         0                         0   \n",
       "1731              0  ...                         0                         0   \n",
       "4742              0  ...                         1                         0   \n",
       "4521              0  ...                         0                         0   \n",
       "\n",
       "      Medical Condition_Diabetes  Medical Condition_Hypertension  \\\n",
       "6252                           0                               0   \n",
       "4684                           0                               0   \n",
       "1731                           1                               0   \n",
       "4742                           0                               0   \n",
       "4521                           0                               0   \n",
       "\n",
       "      Medical Condition_Obesity  Medication_Aspirin  Medication_Ibuprofen  \\\n",
       "6252                          0                   0                     1   \n",
       "4684                          1                   0                     0   \n",
       "1731                          0                   0                     1   \n",
       "4742                          0                   1                     0   \n",
       "4521                          1                   0                     0   \n",
       "\n",
       "      Medication_Lipitor  Medication_Paracetamol  Medication_Penicillin  \n",
       "6252                   0                       0                      0  \n",
       "4684                   0                       1                      0  \n",
       "1731                   0                       0                      0  \n",
       "4742                   0                       0                      0  \n",
       "4521                   0                       1                      0  \n",
       "\n",
       "[5 rows x 24 columns]"
      ]
     },
     "execution_count": 316,
     "metadata": {},
     "output_type": "execute_result"
    }
   ],
   "source": [
    "x_test['Age'] = scaler.fit_transform(x_test[['Age']])\n",
    "x_test.head()"
   ]
  },
  {
   "cell_type": "markdown",
   "id": "83d03e5d",
   "metadata": {},
   "source": [
    "Before applying Min-Max scaling to **`Duration`**, it's necessary to confirm its distribution characteristics and absence of outliers. If the variable displays a normal distribution and lacks outliers, Min-Max scaling can be considered"
   ]
  },
  {
   "cell_type": "code",
   "execution_count": 317,
   "id": "be9449a0",
   "metadata": {},
   "outputs": [
    {
     "data": {
      "image/png": "[encoded data removed]",
      "text/plain": [
       "<Figure size 864x288 with 2 Axes>"
      ]
     },
     "metadata": {
      "needs_background": "light"
     },
     "output_type": "display_data"
    },
    {
     "data": {
      "image/png": "[encoded data removed]",
      "text/plain": [
       "<Figure size 864x288 with 2 Axes>"
      ]
     },
     "metadata": {
      "needs_background": "light"
     },
     "output_type": "display_data"
    }
   ],
   "source": [
    "plt.figure(figsize=(12, 4))\n",
    "\n",
    "plt.subplot(1, 2, 1)\n",
    "plt.hist(x_train['Duration'], bins = 10, color='skyblue', edgecolor = 'black')\n",
    "plt.title('Duration Distribution in x_train (Histogram)')\n",
    "plt.xlabel('Duration')\n",
    "plt.ylabel('Frequency')\n",
    "\n",
    "plt.subplot(1, 2, 2)\n",
    "plt.boxplot(x_train['Duration'], vert = False, patch_artist = True, boxprops = dict(facecolor = 'salmon'))\n",
    "plt.title('Duration Outliers in x_train (Boxplot)')\n",
    "plt.xlabel('Duration')\n",
    "\n",
    "plt.tight_layout()\n",
    "plt.show()\n",
    "\n",
    "plt.figure(figsize=(12, 4))\n",
    "\n",
    "plt.subplot(1, 2, 1)\n",
    "plt.hist(x_test['Duration'], bins = 10, color = 'skyblue', edgecolor = 'black')\n",
    "plt.title('Duration Distribution in x_test (Histogram)')\n",
    "plt.xlabel('Duration')\n",
    "plt.ylabel('Frequency')\n",
    "\n",
    "plt.subplot(1, 2, 2)\n",
    "plt.boxplot(x_test['Duration'], vert = False, patch_artist = True, boxprops = dict(facecolor = 'salmon'))\n",
    "plt.title('Duration Outliers in x_test (Boxplot)')\n",
    "plt.xlabel('Duration')\n",
    "\n",
    "plt.tight_layout()\n",
    "plt.show()"
   ]
  },
  {
   "cell_type": "markdown",
   "id": "2d60b31f",
   "metadata": {},
   "source": [
    "Given that the **`Duration`** data exhibits a **normal distribution without any apparent**, it appears suitable for Min-Max scaling"
   ]
  },
  {
   "cell_type": "markdown",
   "id": "37580bdb",
   "metadata": {},
   "source": [
    "**`Duration`**"
   ]
  },
  {
   "cell_type": "code",
   "execution_count": 318,
   "id": "01887969",
   "metadata": {},
   "outputs": [
    {
     "data": {
      "text/html": [
       "<div>\n",
       "<style scoped>\n",
       "    .dataframe tbody tr th:only-of-type {\n",
       "        vertical-align: middle;\n",
       "    }\n",
       "\n",
       "    .dataframe tbody tr th {\n",
       "        vertical-align: top;\n",
       "    }\n",
       "\n",
       "    .dataframe thead th {\n",
       "        text-align: right;\n",
       "    }\n",
       "</style>\n",
       "<table border=\"1\" class=\"dataframe\">\n",
       "  <thead>\n",
       "    <tr style=\"text-align: right;\">\n",
       "      <th></th>\n",
       "      <th>Age</th>\n",
       "      <th>Gender</th>\n",
       "      <th>Billing Amount</th>\n",
       "      <th>Admission Type</th>\n",
       "      <th>Duration</th>\n",
       "      <th>Blood Type_A+</th>\n",
       "      <th>Blood Type_A-</th>\n",
       "      <th>Blood Type_AB+</th>\n",
       "      <th>Blood Type_AB-</th>\n",
       "      <th>Blood Type_B+</th>\n",
       "      <th>...</th>\n",
       "      <th>Medical Condition_Asthma</th>\n",
       "      <th>Medical Condition_Cancer</th>\n",
       "      <th>Medical Condition_Diabetes</th>\n",
       "      <th>Medical Condition_Hypertension</th>\n",
       "      <th>Medical Condition_Obesity</th>\n",
       "      <th>Medication_Aspirin</th>\n",
       "      <th>Medication_Ibuprofen</th>\n",
       "      <th>Medication_Lipitor</th>\n",
       "      <th>Medication_Paracetamol</th>\n",
       "      <th>Medication_Penicillin</th>\n",
       "    </tr>\n",
       "  </thead>\n",
       "  <tbody>\n",
       "    <tr>\n",
       "      <th>9254</th>\n",
       "      <td>0.014925</td>\n",
       "      <td>1</td>\n",
       "      <td>0.400518</td>\n",
       "      <td>2</td>\n",
       "      <td>0.827586</td>\n",
       "      <td>0</td>\n",
       "      <td>1</td>\n",
       "      <td>0</td>\n",
       "      <td>0</td>\n",
       "      <td>0</td>\n",
       "      <td>...</td>\n",
       "      <td>0</td>\n",
       "      <td>0</td>\n",
       "      <td>1</td>\n",
       "      <td>0</td>\n",
       "      <td>0</td>\n",
       "      <td>0</td>\n",
       "      <td>0</td>\n",
       "      <td>1</td>\n",
       "      <td>0</td>\n",
       "      <td>0</td>\n",
       "    </tr>\n",
       "    <tr>\n",
       "      <th>1561</th>\n",
       "      <td>0.283582</td>\n",
       "      <td>1</td>\n",
       "      <td>0.931393</td>\n",
       "      <td>2</td>\n",
       "      <td>0.689655</td>\n",
       "      <td>1</td>\n",
       "      <td>0</td>\n",
       "      <td>0</td>\n",
       "      <td>0</td>\n",
       "      <td>0</td>\n",
       "      <td>...</td>\n",
       "      <td>0</td>\n",
       "      <td>0</td>\n",
       "      <td>0</td>\n",
       "      <td>1</td>\n",
       "      <td>0</td>\n",
       "      <td>0</td>\n",
       "      <td>0</td>\n",
       "      <td>1</td>\n",
       "      <td>0</td>\n",
       "      <td>0</td>\n",
       "    </tr>\n",
       "    <tr>\n",
       "      <th>1670</th>\n",
       "      <td>0.059701</td>\n",
       "      <td>0</td>\n",
       "      <td>0.048019</td>\n",
       "      <td>1</td>\n",
       "      <td>0.137931</td>\n",
       "      <td>0</td>\n",
       "      <td>0</td>\n",
       "      <td>0</td>\n",
       "      <td>0</td>\n",
       "      <td>1</td>\n",
       "      <td>...</td>\n",
       "      <td>0</td>\n",
       "      <td>1</td>\n",
       "      <td>0</td>\n",
       "      <td>0</td>\n",
       "      <td>0</td>\n",
       "      <td>0</td>\n",
       "      <td>0</td>\n",
       "      <td>0</td>\n",
       "      <td>1</td>\n",
       "      <td>0</td>\n",
       "    </tr>\n",
       "    <tr>\n",
       "      <th>6087</th>\n",
       "      <td>0.731343</td>\n",
       "      <td>0</td>\n",
       "      <td>0.775821</td>\n",
       "      <td>1</td>\n",
       "      <td>0.482759</td>\n",
       "      <td>0</td>\n",
       "      <td>0</td>\n",
       "      <td>1</td>\n",
       "      <td>0</td>\n",
       "      <td>0</td>\n",
       "      <td>...</td>\n",
       "      <td>0</td>\n",
       "      <td>0</td>\n",
       "      <td>0</td>\n",
       "      <td>1</td>\n",
       "      <td>0</td>\n",
       "      <td>1</td>\n",
       "      <td>0</td>\n",
       "      <td>0</td>\n",
       "      <td>0</td>\n",
       "      <td>0</td>\n",
       "    </tr>\n",
       "    <tr>\n",
       "      <th>6669</th>\n",
       "      <td>0.298507</td>\n",
       "      <td>0</td>\n",
       "      <td>0.967237</td>\n",
       "      <td>0</td>\n",
       "      <td>0.379310</td>\n",
       "      <td>0</td>\n",
       "      <td>0</td>\n",
       "      <td>0</td>\n",
       "      <td>0</td>\n",
       "      <td>0</td>\n",
       "      <td>...</td>\n",
       "      <td>0</td>\n",
       "      <td>0</td>\n",
       "      <td>0</td>\n",
       "      <td>1</td>\n",
       "      <td>0</td>\n",
       "      <td>0</td>\n",
       "      <td>0</td>\n",
       "      <td>0</td>\n",
       "      <td>0</td>\n",
       "      <td>1</td>\n",
       "    </tr>\n",
       "  </tbody>\n",
       "</table>\n",
       "<p>5 rows × 24 columns</p>\n",
       "</div>"
      ],
      "text/plain": [
       "           Age  Gender  Billing Amount  Admission Type  Duration  \\\n",
       "9254  0.014925       1        0.400518               2  0.827586   \n",
       "1561  0.283582       1        0.931393               2  0.689655   \n",
       "1670  0.059701       0        0.048019               1  0.137931   \n",
       "6087  0.731343       0        0.775821               1  0.482759   \n",
       "6669  0.298507       0        0.967237               0  0.379310   \n",
       "\n",
       "      Blood Type_A+  Blood Type_A-  Blood Type_AB+  Blood Type_AB-  \\\n",
       "9254              0              1               0               0   \n",
       "1561              1              0               0               0   \n",
       "1670              0              0               0               0   \n",
       "6087              0              0               1               0   \n",
       "6669              0              0               0               0   \n",
       "\n",
       "      Blood Type_B+  ...  Medical Condition_Asthma  Medical Condition_Cancer  \\\n",
       "9254              0  ...                         0                         0   \n",
       "1561              0  ...                         0                         0   \n",
       "1670              1  ...                         0                         1   \n",
       "6087              0  ...                         0                         0   \n",
       "6669              0  ...                         0                         0   \n",
       "\n",
       "      Medical Condition_Diabetes  Medical Condition_Hypertension  \\\n",
       "9254                           1                               0   \n",
       "1561                           0                               1   \n",
       "1670                           0                               0   \n",
       "6087                           0                               1   \n",
       "6669                           0                               1   \n",
       "\n",
       "      Medical Condition_Obesity  Medication_Aspirin  Medication_Ibuprofen  \\\n",
       "9254                          0                   0                     0   \n",
       "1561                          0                   0                     0   \n",
       "1670                          0                   0                     0   \n",
       "6087                          0                   1                     0   \n",
       "6669                          0                   0                     0   \n",
       "\n",
       "      Medication_Lipitor  Medication_Paracetamol  Medication_Penicillin  \n",
       "9254                   1                       0                      0  \n",
       "1561                   1                       0                      0  \n",
       "1670                   0                       1                      0  \n",
       "6087                   0                       0                      0  \n",
       "6669                   0                       0                      1  \n",
       "\n",
       "[5 rows x 24 columns]"
      ]
     },
     "execution_count": 318,
     "metadata": {},
     "output_type": "execute_result"
    }
   ],
   "source": [
    "from sklearn.preprocessing import MinMaxScaler\n",
    "scaler = MinMaxScaler()\n",
    "x_train['Duration'] = scaler.fit_transform(x_train[['Duration']])\n",
    "x_train.head()"
   ]
  },
  {
   "cell_type": "code",
   "execution_count": 319,
   "id": "312b83ca",
   "metadata": {},
   "outputs": [
    {
     "data": {
      "text/html": [
       "<div>\n",
       "<style scoped>\n",
       "    .dataframe tbody tr th:only-of-type {\n",
       "        vertical-align: middle;\n",
       "    }\n",
       "\n",
       "    .dataframe tbody tr th {\n",
       "        vertical-align: top;\n",
       "    }\n",
       "\n",
       "    .dataframe thead th {\n",
       "        text-align: right;\n",
       "    }\n",
       "</style>\n",
       "<table border=\"1\" class=\"dataframe\">\n",
       "  <thead>\n",
       "    <tr style=\"text-align: right;\">\n",
       "      <th></th>\n",
       "      <th>Age</th>\n",
       "      <th>Gender</th>\n",
       "      <th>Billing Amount</th>\n",
       "      <th>Admission Type</th>\n",
       "      <th>Duration</th>\n",
       "      <th>Blood Type_A+</th>\n",
       "      <th>Blood Type_A-</th>\n",
       "      <th>Blood Type_AB+</th>\n",
       "      <th>Blood Type_AB-</th>\n",
       "      <th>Blood Type_B+</th>\n",
       "      <th>...</th>\n",
       "      <th>Medical Condition_Asthma</th>\n",
       "      <th>Medical Condition_Cancer</th>\n",
       "      <th>Medical Condition_Diabetes</th>\n",
       "      <th>Medical Condition_Hypertension</th>\n",
       "      <th>Medical Condition_Obesity</th>\n",
       "      <th>Medication_Aspirin</th>\n",
       "      <th>Medication_Ibuprofen</th>\n",
       "      <th>Medication_Lipitor</th>\n",
       "      <th>Medication_Paracetamol</th>\n",
       "      <th>Medication_Penicillin</th>\n",
       "    </tr>\n",
       "  </thead>\n",
       "  <tbody>\n",
       "    <tr>\n",
       "      <th>6252</th>\n",
       "      <td>0.119403</td>\n",
       "      <td>1</td>\n",
       "      <td>0.964362</td>\n",
       "      <td>0</td>\n",
       "      <td>0.413793</td>\n",
       "      <td>0</td>\n",
       "      <td>0</td>\n",
       "      <td>1</td>\n",
       "      <td>0</td>\n",
       "      <td>0</td>\n",
       "      <td>...</td>\n",
       "      <td>0</td>\n",
       "      <td>0</td>\n",
       "      <td>0</td>\n",
       "      <td>0</td>\n",
       "      <td>0</td>\n",
       "      <td>0</td>\n",
       "      <td>1</td>\n",
       "      <td>0</td>\n",
       "      <td>0</td>\n",
       "      <td>0</td>\n",
       "    </tr>\n",
       "    <tr>\n",
       "      <th>4684</th>\n",
       "      <td>0.925373</td>\n",
       "      <td>0</td>\n",
       "      <td>0.094624</td>\n",
       "      <td>2</td>\n",
       "      <td>0.758621</td>\n",
       "      <td>1</td>\n",
       "      <td>0</td>\n",
       "      <td>0</td>\n",
       "      <td>0</td>\n",
       "      <td>0</td>\n",
       "      <td>...</td>\n",
       "      <td>0</td>\n",
       "      <td>0</td>\n",
       "      <td>0</td>\n",
       "      <td>0</td>\n",
       "      <td>1</td>\n",
       "      <td>0</td>\n",
       "      <td>0</td>\n",
       "      <td>0</td>\n",
       "      <td>1</td>\n",
       "      <td>0</td>\n",
       "    </tr>\n",
       "    <tr>\n",
       "      <th>1731</th>\n",
       "      <td>0.746269</td>\n",
       "      <td>0</td>\n",
       "      <td>0.507416</td>\n",
       "      <td>1</td>\n",
       "      <td>0.482759</td>\n",
       "      <td>0</td>\n",
       "      <td>0</td>\n",
       "      <td>1</td>\n",
       "      <td>0</td>\n",
       "      <td>0</td>\n",
       "      <td>...</td>\n",
       "      <td>0</td>\n",
       "      <td>0</td>\n",
       "      <td>1</td>\n",
       "      <td>0</td>\n",
       "      <td>0</td>\n",
       "      <td>0</td>\n",
       "      <td>1</td>\n",
       "      <td>0</td>\n",
       "      <td>0</td>\n",
       "      <td>0</td>\n",
       "    </tr>\n",
       "    <tr>\n",
       "      <th>4742</th>\n",
       "      <td>0.641791</td>\n",
       "      <td>1</td>\n",
       "      <td>0.735396</td>\n",
       "      <td>1</td>\n",
       "      <td>0.862069</td>\n",
       "      <td>0</td>\n",
       "      <td>0</td>\n",
       "      <td>0</td>\n",
       "      <td>0</td>\n",
       "      <td>0</td>\n",
       "      <td>...</td>\n",
       "      <td>1</td>\n",
       "      <td>0</td>\n",
       "      <td>0</td>\n",
       "      <td>0</td>\n",
       "      <td>0</td>\n",
       "      <td>1</td>\n",
       "      <td>0</td>\n",
       "      <td>0</td>\n",
       "      <td>0</td>\n",
       "      <td>0</td>\n",
       "    </tr>\n",
       "    <tr>\n",
       "      <th>4521</th>\n",
       "      <td>0.895522</td>\n",
       "      <td>1</td>\n",
       "      <td>0.498742</td>\n",
       "      <td>2</td>\n",
       "      <td>0.586207</td>\n",
       "      <td>0</td>\n",
       "      <td>0</td>\n",
       "      <td>0</td>\n",
       "      <td>0</td>\n",
       "      <td>0</td>\n",
       "      <td>...</td>\n",
       "      <td>0</td>\n",
       "      <td>0</td>\n",
       "      <td>0</td>\n",
       "      <td>0</td>\n",
       "      <td>1</td>\n",
       "      <td>0</td>\n",
       "      <td>0</td>\n",
       "      <td>0</td>\n",
       "      <td>1</td>\n",
       "      <td>0</td>\n",
       "    </tr>\n",
       "  </tbody>\n",
       "</table>\n",
       "<p>5 rows × 24 columns</p>\n",
       "</div>"
      ],
      "text/plain": [
       "           Age  Gender  Billing Amount  Admission Type  Duration  \\\n",
       "6252  0.119403       1        0.964362               0  0.413793   \n",
       "4684  0.925373       0        0.094624               2  0.758621   \n",
       "1731  0.746269       0        0.507416               1  0.482759   \n",
       "4742  0.641791       1        0.735396               1  0.862069   \n",
       "4521  0.895522       1        0.498742               2  0.586207   \n",
       "\n",
       "      Blood Type_A+  Blood Type_A-  Blood Type_AB+  Blood Type_AB-  \\\n",
       "6252              0              0               1               0   \n",
       "4684              1              0               0               0   \n",
       "1731              0              0               1               0   \n",
       "4742              0              0               0               0   \n",
       "4521              0              0               0               0   \n",
       "\n",
       "      Blood Type_B+  ...  Medical Condition_Asthma  Medical Condition_Cancer  \\\n",
       "6252              0  ...                         0                         0   \n",
       "4684              0  ...                         0                         0   \n",
       "1731              0  ...                         0                         0   \n",
       "4742              0  ...                         1                         0   \n",
       "4521              0  ...                         0                         0   \n",
       "\n",
       "      Medical Condition_Diabetes  Medical Condition_Hypertension  \\\n",
       "6252                           0                               0   \n",
       "4684                           0                               0   \n",
       "1731                           1                               0   \n",
       "4742                           0                               0   \n",
       "4521                           0                               0   \n",
       "\n",
       "      Medical Condition_Obesity  Medication_Aspirin  Medication_Ibuprofen  \\\n",
       "6252                          0                   0                     1   \n",
       "4684                          1                   0                     0   \n",
       "1731                          0                   0                     1   \n",
       "4742                          0                   1                     0   \n",
       "4521                          1                   0                     0   \n",
       "\n",
       "      Medication_Lipitor  Medication_Paracetamol  Medication_Penicillin  \n",
       "6252                   0                       0                      0  \n",
       "4684                   0                       1                      0  \n",
       "1731                   0                       0                      0  \n",
       "4742                   0                       0                      0  \n",
       "4521                   0                       1                      0  \n",
       "\n",
       "[5 rows x 24 columns]"
      ]
     },
     "execution_count": 319,
     "metadata": {},
     "output_type": "execute_result"
    }
   ],
   "source": [
    "x_test['Duration'] = scaler.fit_transform(x_test[['Duration']])\n",
    "x_test.head()"
   ]
  },
  {
   "cell_type": "markdown",
   "id": "3bf72c53",
   "metadata": {},
   "source": [
    "# **Modelling**"
   ]
  },
  {
   "cell_type": "markdown",
   "id": "2e8d7169",
   "metadata": {},
   "source": [
    "## *I have attached detailed parameters and their accuracy in Excel*\n",
    "1. **Bagging Classifier**\n",
    "- Using default base estimator: Decision Tree\n",
    "- Using base estimator: SVC\n",
    "- Using base estimator: KNN\n",
    "- Using default base estimator: Decision Tree + Hyperparameters Tuning (GridSearchCV)\n",
    "\n",
    "2. **RandomForest Classifier**\n",
    "- Using criterion: Gini\n",
    "- Using criterion: Entropy + Hyperparameters Tuning (GridSearchCV)\n",
    "\n",
    "3. **Boosting: ADABoost Classifier**\n",
    "- Using default Hyperparameters\n",
    "- Using Hyperparameters Tuning (GridSearchCV)\n",
    "\n",
    "4. **Stacking Classifier**\n",
    "- Using Default Random Forest + Support Vector Classifier\n",
    "- Using Random Forest + Support Vector Classifier and Hyperparameters Tuning (GridSearchCV)\n",
    "\n",
    "**Total : 10**"
   ]
  },
  {
   "cell_type": "markdown",
   "id": "050d9b0d",
   "metadata": {},
   "source": [
    "# **| Bagging Classifier |**"
   ]
  },
  {
   "cell_type": "markdown",
   "id": "cc616460",
   "metadata": {},
   "source": [
    "The **initial** choice of employing the **Bagging Classifier with the default Decision Tree** aligns with key objectives in the context of the healthcare dataset. This ensemble method facilitates an insightful investigation into the impact of subsampling on the Decision Tree's performance, offering an **understanding of how varied data subsets influence model** outcomes. Given the intricate nature of healthcare data, characterized by complex interactions among attributes, the Decision Tree's capacity to **capture intricate patterns** makes it a fitting choice. The utilization of Bagging, involving multiple Decision Tree iterations with bootstrapped samples, **introduces diversity among models**, **mitigating overfitting risks**, and thereby **enhancing model robustness**. This approach enables an evaluation of diverse data perspectives, setting the stage for comprehensive insights into how ensemble techniques and subsampling strategies contribute to overall model performance. Subsequently, it lays a solid foundation for informed decisions in subsequent model selections and fine-tuning processes."
   ]
  },
  {
   "cell_type": "markdown",
   "id": "640a7d71",
   "metadata": {},
   "source": [
    "## ***Default Base_Estimator: Decision Tree***"
   ]
  },
  {
   "cell_type": "code",
   "execution_count": 320,
   "id": "93a8ed3f",
   "metadata": {},
   "outputs": [
    {
     "data": {
      "text/plain": [
       "BaggingClassifier(oob_score=True, random_state=42)"
      ]
     },
     "execution_count": 320,
     "metadata": {},
     "output_type": "execute_result"
    }
   ],
   "source": [
    "from sklearn.ensemble import BaggingClassifier\n",
    "import warnings\n",
    "warnings.filterwarnings('ignore')\n",
    "\n",
    "Bagging_class = BaggingClassifier(oob_score = True, random_state = 42)\n",
    "Bagging_class.fit(x_train, y_train)"
   ]
  },
  {
   "cell_type": "code",
   "execution_count": 321,
   "id": "180791c7",
   "metadata": {},
   "outputs": [
    {
     "data": {
      "text/plain": [
       "0.3435"
      ]
     },
     "execution_count": 321,
     "metadata": {},
     "output_type": "execute_result"
    }
   ],
   "source": [
    "Bagging_class.oob_score_"
   ]
  },
  {
   "cell_type": "markdown",
   "id": "def6839c",
   "metadata": {},
   "source": [
    "The Out-of-Bag (OOB) score in ensemble methods like Bagging Classifier **estimates a model's performance** using **data** that **were not used in training**. It calculates the average prediction accuracy on these out-of-bag samples, providing an indication of how well the model generalizes to unseen data. In your case, an OOB score of **0.3435** signifies the estimated accuracy of the Bagging Classifier on unseen samples, aiding in evaluating the model's predictive capability without requiring a separate validation dataset."
   ]
  },
  {
   "cell_type": "markdown",
   "id": "f765d8e4",
   "metadata": {},
   "source": [
    "### **Evaluation Metrics**"
   ]
  },
  {
   "cell_type": "code",
   "execution_count": 322,
   "id": "e0a58306",
   "metadata": {},
   "outputs": [],
   "source": [
    "from sklearn.metrics import confusion_matrix, classification_report\n",
    "y_predict=Bagging_class.predict(x_test)\n",
    "\n",
    "# Confusion matrix\n",
    "conf_matrix = confusion_matrix(y_test, y_predict)\n",
    "\n",
    "# Classification report\n",
    "class_report = classification_report(y_test, y_predict)"
   ]
  },
  {
   "cell_type": "code",
   "execution_count": 323,
   "id": "8147e205",
   "metadata": {},
   "outputs": [
    {
     "name": "stdout",
     "output_type": "stream",
     "text": [
      "\n",
      "Confusion Matrix\n",
      "\n",
      "[[278 241 187]\n",
      " [258 195 183]\n",
      " [272 208 178]]\n"
     ]
    }
   ],
   "source": [
    "print('\\nConfusion Matrix\\n')\n",
    "print(conf_matrix)"
   ]
  },
  {
   "cell_type": "markdown",
   "id": "402c7b8a",
   "metadata": {},
   "source": [
    "- For the category labeled as **\"Abnormal\" (0)**, the model correctly predicted **278** instances. However, it misclassified **241** instances of \"Inconclusive\" and **187** instances of \"Normal\" as \"Abnormal.\"\n",
    "- Concerning the classification denoted as **\"Inconclusive\" (1)**, the model accurately predicted **195** instances. Yet, it incorrectly classified **258** instances of \"Abnormal\" and **183** instances of \"Normal\" as \"Inconclusive.\"\n",
    "- As for the class identified as **\"Normal\" (2)**, the model achieved **178** accurate predictions. Nonetheless, it misidentified **272** instances of \"Abnormal\" and **208** instances of \"Inconclusive\" as \"Normal.\""
   ]
  },
  {
   "cell_type": "code",
   "execution_count": 324,
   "id": "2a714e82",
   "metadata": {},
   "outputs": [
    {
     "name": "stdout",
     "output_type": "stream",
     "text": [
      "\n",
      "Classification Report\n",
      "\n",
      "              precision    recall  f1-score   support\n",
      "\n",
      "           0       0.34      0.39      0.37       706\n",
      "           1       0.30      0.31      0.30       636\n",
      "           2       0.32      0.27      0.30       658\n",
      "\n",
      "    accuracy                           0.33      2000\n",
      "   macro avg       0.32      0.32      0.32      2000\n",
      "weighted avg       0.32      0.33      0.32      2000\n",
      "\n"
     ]
    }
   ],
   "source": [
    "print('\\nClassification Report\\n')\n",
    "print(class_report)"
   ]
  },
  {
   "cell_type": "markdown",
   "id": "0e67bb1e",
   "metadata": {},
   "source": [
    "**For Class 0 (\"Abnormal\"):**\n",
    "- **Precision:** The model's precision for predicting Class 0 instances is around 0.34, indicating that approximately 34% of the predicted \"Abnormal\" instances were correct. It misclassified 241 instances of \"Inconclusive\" and 187 instances of \"Normal\" as \"Abnormal.\"\n",
    "- **Recall:** The recall rate for Class 0 is about 0.39, suggesting that the model identified roughly 39% of the actual \"Abnormal\" instances.\n",
    "- **F1-score:** The F1-score for Class 0 is approximately 0.37, demonstrating a balance between precision and recall.\n",
    "\n",
    "**For Class 1 (\"Inconclusive\"):**\n",
    "- **Precision:** The precision score for predicting Class 1 instances is around 0.30, implying that about 30% of the predicted \"Inconclusive\" instances were correct. It misclassified 258 instances of \"Abnormal\" and 183 instances of \"Normal\" as \"Inconclusive.\"\n",
    "- **Recall:** The recall rate for Class 1 is roughly 0.31, indicating that the model identified around 31% of the actual \"Inconclusive\" instances.\n",
    "- **F1-score:** The F1-score for Class 1 is approximately 0.30, indicating a balance between precision and recall.\n",
    "\n",
    "**For Class 2 (\"Normal\"):**\n",
    "- **Precision:** The model's precision for Class 2 is about 0.32, meaning that around 32% of the predicted \"Normal\" instances were correct. It misidentified 272 instances of \"Abnormal\" and 208 instances of \"Inconclusive\" as \"Normal.\"\n",
    "- **Recall:** The recall score for Class 2 is approximately 0.27, implying that the model identified about 27% of the actual \"Normal\" instances.\n",
    "- **F1-score:** The F1-score for Class 2 is roughly 0.30, demonstrating a balance between precision and recall.\n",
    "\n",
    "**Accuracy:** The overall accuracy across all classes is **33%**, indicating that the model **correctly predicted** the classes for approximately **33%** of the total instances in the dataset."
   ]
  },
  {
   "cell_type": "markdown",
   "id": "7e8a4e31",
   "metadata": {},
   "source": [
    "## ***Base_Estimator: SVC***"
   ]
  },
  {
   "cell_type": "markdown",
   "id": "9fc67853",
   "metadata": {},
   "source": [
    "The decision to **transition** from the default Decision Tree to **Support Vector Classifier (SVC)** as the base estimator within the Bagging ensemble stems from a strategic effort to address potential limitations in capturing complex relationships and non-linear patterns present in the healthcare dataset. SVC offers strengths in **handling intricate data structures** and **non-linearity**, **potentially outperforming** the Decision Tree by leveraging its robustness. Introducing SVC into Bagging aims to diversify the learning approach within the ensemble, minimizing overfitting risks and enhancing the model's ability to generalize to unseen data. This change anticipates an improvement in predictive accuracy by better adapting to the dataset's intricacies and complexities inherent in healthcare-related information."
   ]
  },
  {
   "cell_type": "code",
   "execution_count": 325,
   "id": "de7ca1f5",
   "metadata": {},
   "outputs": [
    {
     "data": {
      "text/plain": [
       "BaggingClassifier(base_estimator=SVC(), oob_score=True, random_state=42)"
      ]
     },
     "execution_count": 325,
     "metadata": {},
     "output_type": "execute_result"
    }
   ],
   "source": [
    "from sklearn.svm import SVC\n",
    "from sklearn.ensemble import BaggingClassifier\n",
    "import warnings\n",
    "warnings.filterwarnings('ignore')\n",
    "\n",
    "Bagging_svc = BaggingClassifier(base_estimator=SVC(), oob_score = True, random_state=42)\n",
    "Bagging_svc.fit(x_train, y_train)"
   ]
  },
  {
   "cell_type": "markdown",
   "id": "98bd0ac3",
   "metadata": {},
   "source": [
    "### **Evaluation Metrics**"
   ]
  },
  {
   "cell_type": "code",
   "execution_count": 326,
   "id": "6d445bc5",
   "metadata": {},
   "outputs": [],
   "source": [
    "from sklearn.metrics import confusion_matrix, classification_report\n",
    "y_predict=Bagging_svc.predict(x_test)\n",
    "\n",
    "# Confusion matrix\n",
    "conf_matrix = confusion_matrix(y_test, y_predict)\n",
    "\n",
    "# Classification report\n",
    "class_report = classification_report(y_test, y_predict)"
   ]
  },
  {
   "cell_type": "code",
   "execution_count": 327,
   "id": "9303351b",
   "metadata": {},
   "outputs": [
    {
     "name": "stdout",
     "output_type": "stream",
     "text": [
      "\n",
      "Confusion Matrix\n",
      "\n",
      "[[312 195 199]\n",
      " [284 180 172]\n",
      " [280 191 187]]\n"
     ]
    }
   ],
   "source": [
    "print('\\nConfusion Matrix\\n')\n",
    "print(conf_matrix)"
   ]
  },
  {
   "cell_type": "markdown",
   "id": "a7201c7e",
   "metadata": {},
   "source": [
    "- For the category identified as **\"Abnormal\" (0)**, the model correctly predicted **312** instances. However, it misclassified **195** instances of \"Inconclusive\" and **199** instances of \"Normal\" as \"Abnormal.\"\n",
    "- Regarding the class denoted as **\"Inconclusive\" (1)**, the model accurately predicted **180** instances. However, it misclassified **284** instances of \"Abnormal\" and **172** instances of \"Normal\" as \"Inconclusive.\"\n",
    "- As for the classification identified as **\"Normal\" (2)**, the model correctly predicted **187** instances. Nonetheless, it misclassified **280** instances of \"Abnormal\" and **191** instances of \"Inconclusive\" as \"Normal.\""
   ]
  },
  {
   "cell_type": "code",
   "execution_count": 328,
   "id": "2c33acc2",
   "metadata": {},
   "outputs": [
    {
     "name": "stdout",
     "output_type": "stream",
     "text": [
      "\n",
      "Classification Report\n",
      "\n",
      "              precision    recall  f1-score   support\n",
      "\n",
      "           0       0.36      0.44      0.39       706\n",
      "           1       0.32      0.28      0.30       636\n",
      "           2       0.34      0.28      0.31       658\n",
      "\n",
      "    accuracy                           0.34      2000\n",
      "   macro avg       0.34      0.34      0.33      2000\n",
      "weighted avg       0.34      0.34      0.34      2000\n",
      "\n"
     ]
    }
   ],
   "source": [
    "print('\\nClassification Report\\n')\n",
    "print(class_report)"
   ]
  },
  {
   "cell_type": "markdown",
   "id": "311cea0e",
   "metadata": {},
   "source": [
    "**For Class 0 (\"Abnormal\"):**\n",
    "- **Precision:** The precision score for predicting Class 0 instances is around 0.36, indicating that approximately 36% of the predicted \"Abnormal\" instances were correct.\n",
    "- **Recall:** The recall rate for Class 0 is roughly 0.44, suggesting that the model identified approximately 44% of the actual \"Abnormal\" instances.\n",
    "- **F1-score:** The F1-score for Class 0 is about 0.39, showing a balance between precision and recall.\n",
    "\n",
    "**For Class 1 (\"Inconclusive\"):**\n",
    "- **Precision:** The model's precision for Class 1 instances is around 0.32, implying that about 32% of the predicted \"Inconclusive\" instances were correct.\n",
    "- **Recall:** The recall score for Class 1 is approximately 0.28, indicating that the model identified around 28% of the actual \"Inconclusive\" instances.\n",
    "- **F1-score:** The F1-score for Class 1 is roughly 0.30, indicating a balance between precision and recall.\n",
    "\n",
    "**For Class 2 (\"Normal\"):**\n",
    "- **Precision:** The precision score for Class 2 is approximately 0.34, meaning that around 34% of the predicted \"Normal\" instances were correct.\n",
    "- **Recall:** The recall rate for Class 2 is about 0.28, implying that the model identified about 28% of the actual \"Normal\" instances.\n",
    "- **F1-score:** The F1-score for Class 2 is roughly 0.31, demonstrating a balance between precision and recall.\n",
    "\n",
    "**Accuracy:** The overall accuracy across all classes is **34%**, indicating that the model **correctly predicted** the classes for approximately **34%** of the total instances in the dataset."
   ]
  },
  {
   "cell_type": "markdown",
   "id": "17ca3ad0",
   "metadata": {},
   "source": [
    "## ***Base_Estimator: KNN***"
   ]
  },
  {
   "cell_type": "markdown",
   "id": "986aeb2a",
   "metadata": {},
   "source": [
    "The decision to opt for the **K-Nearest Neighbors (KNN)** algorithm with **n_neighbors = 10**, despite the **identical accuracy** achieved by the previous models **(34%)**, stems from the need to explore a different algorithmic approach. When encountering similar accuracy levels between different models, it's essential to diversify methodologies to grasp the data's underlying structure more comprehensively. KNN, by its nature, works on the principle of similarity and proximity, which might **capture patterns differently** than decision trees or Support Vector Machines (SVMs). By selecting KNN with a moderate number of neighbors, I aim to examine if the data's nuances and relationships are better captured via its proximity-based classification method. This choice allows for a fresh perspective, exploring whether the unique characteristics of the dataset are better understood and represented using the KNN algorithm with a specified number of neighbors."
   ]
  },
  {
   "cell_type": "code",
   "execution_count": 329,
   "id": "35729abb",
   "metadata": {},
   "outputs": [
    {
     "data": {
      "text/plain": [
       "BaggingClassifier(base_estimator=KNeighborsClassifier(n_neighbors=10),\n",
       "                  oob_score=True, random_state=42)"
      ]
     },
     "execution_count": 329,
     "metadata": {},
     "output_type": "execute_result"
    }
   ],
   "source": [
    "from sklearn.neighbors import KNeighborsClassifier\n",
    "from sklearn.ensemble import BaggingClassifier\n",
    "import warnings\n",
    "warnings.filterwarnings('ignore')\n",
    "\n",
    "Bagging_knn = BaggingClassifier(base_estimator=KNeighborsClassifier(n_neighbors=10), oob_score=True, random_state=42)\n",
    "Bagging_knn.fit(x_train, y_train)"
   ]
  },
  {
   "cell_type": "markdown",
   "id": "6322c49c",
   "metadata": {},
   "source": [
    "### **Evaluation Metrics**"
   ]
  },
  {
   "cell_type": "code",
   "execution_count": 330,
   "id": "a42763e6",
   "metadata": {},
   "outputs": [],
   "source": [
    "from sklearn.metrics import confusion_matrix, classification_report\n",
    "y_predict=Bagging_knn.predict(x_test)\n",
    "\n",
    "# Confusion matrix\n",
    "conf_matrix = confusion_matrix(y_test, y_predict)\n",
    "\n",
    "# Classification report\n",
    "class_report = classification_report(y_test, y_predict)"
   ]
  },
  {
   "cell_type": "code",
   "execution_count": 331,
   "id": "e66cab25",
   "metadata": {},
   "outputs": [
    {
     "name": "stdout",
     "output_type": "stream",
     "text": [
      "\n",
      "Confusion Matrix\n",
      "\n",
      "[[266 218 222]\n",
      " [237 193 206]\n",
      " [219 214 225]]\n"
     ]
    }
   ],
   "source": [
    "print('\\nConfusion Matrix\\n')\n",
    "print(conf_matrix)"
   ]
  },
  {
   "cell_type": "markdown",
   "id": "9993628a",
   "metadata": {},
   "source": [
    "- For the category labeled as **\"Abnormal\" (0)**, the model correctly predicted **266** instances. However, it misclassified **218** instances of \"Inconclusive\" and **222** instances of \"Normal\" as \"Abnormal.\"\n",
    "- Regarding the class denoted as **\"Inconclusive\" (1)**, the model accurately predicted **193** instances. However, it misclassified **237** instances of \"Abnormal\" and **206** instances of \"Normal\" as \"Inconclusive.\"\n",
    "- As for the classification identified as **\"Normal\" (2)**, the model correctly predicted **225** instances. Nonetheless, it misclassified **219** instances of \"Abnormal\" and **214** instances of \"Inconclusive\" as \"Normal.\""
   ]
  },
  {
   "cell_type": "code",
   "execution_count": 332,
   "id": "50bffdd0",
   "metadata": {},
   "outputs": [
    {
     "name": "stdout",
     "output_type": "stream",
     "text": [
      "\n",
      "Classification Report\n",
      "\n",
      "              precision    recall  f1-score   support\n",
      "\n",
      "           0       0.37      0.38      0.37       706\n",
      "           1       0.31      0.30      0.31       636\n",
      "           2       0.34      0.34      0.34       658\n",
      "\n",
      "    accuracy                           0.34      2000\n",
      "   macro avg       0.34      0.34      0.34      2000\n",
      "weighted avg       0.34      0.34      0.34      2000\n",
      "\n"
     ]
    }
   ],
   "source": [
    "print('\\nClassification Report\\n')\n",
    "print(class_report)"
   ]
  },
  {
   "cell_type": "markdown",
   "id": "1e6bf66c",
   "metadata": {},
   "source": [
    "**For Class 0 (\"Abnormal\"):**\n",
    "- **Precision:** The precision score for predicting Class 0 instances is around 0.37, indicating that approximately 37% of the predicted \"Abnormal\" instances were correct.\n",
    "- **Recall:** The recall rate for Class 0 is roughly 0.38, suggesting that the model identified approximately 38% of the actual \"Abnormal\" instances.\n",
    "- **F1-score:** The F1-score for Class 0 is about 0.37, demonstrating a balance between precision and recall.\n",
    "\n",
    "**For Class 1 (\"Inconclusive\"):**\n",
    "- **Precision:** The model's precision for Class 1 instances is around 0.31, implying that about 31% of the predicted \"Inconclusive\" instances were correct.\n",
    "- **Recall:** The recall score for Class 1 is approximately 0.30, indicating that the model identified around 30% of the actual \"Inconclusive\" instances.\n",
    "- **F1-score:** The F1-score for Class 1 is roughly 0.31, indicating a balance between precision and recall.\n",
    "\n",
    "**For Class 2 (\"Normal\"):**\n",
    "- **Precision:** The precision score for Class 2 is approximately 0.34, meaning that around 34% of the predicted \"Normal\" instances were correct.\n",
    "- **Recall:** The recall rate for Class 2 is about 0.34, implying that the model identified about 34% of the actual \"Normal\" instances.\n",
    "- **F1-score:** The F1-score for Class 2 is roughly 0.34, demonstrating a balance between precision and recall.\n",
    "\n",
    "**Accuracy:** The overall accuracy across all classes is **34%**, indicating that the model **correctly predicted** the classes for approximately **34%** of the total instances in the dataset."
   ]
  },
  {
   "cell_type": "markdown",
   "id": "424e41e2",
   "metadata": {},
   "source": [
    "## ***Default Base_Estimator: Decision Tree + Parameter Tuning using GridSearchCV***"
   ]
  },
  {
   "cell_type": "markdown",
   "id": "18abe07d",
   "metadata": {},
   "source": [
    "The **consistent accuracy of 34%** after **changing the base estimator might indicate** that the inherent complexity of the problem in the dataset is not fully captured by the selected models or their default configurations. This could imply that the dataset might have inherent noise, complexity, or imbalanced class distribution that makes it challenging for these models to learn and generalize well. By performing **hyperparameter tuning** on the **decision tree with Bagging**, I aim to explore if altering the ensemble size ('n_estimators'), the sample size per estimator ('max_samples'), or the number of features considered ('max_features') could yield improvements in model performance. The goal is to address potential underfitting or overfitting issues by adjusting these parameters and potentially enhance the model's ability to discern patterns in the dataset, which could lead to an improved accuracy score."
   ]
  },
  {
   "cell_type": "code",
   "execution_count": 333,
   "id": "ddfc5108",
   "metadata": {},
   "outputs": [],
   "source": [
    "from sklearn.ensemble import BaggingClassifier\n",
    "from sklearn.model_selection import GridSearchCV\n",
    "import warnings\n",
    "warnings.filterwarnings('ignore')\n",
    "\n",
    "# Default: Decision Tree\n",
    "Bagging_GridSearch = BaggingClassifier(oob_score=True, random_state=42)\n",
    "\n",
    "param_grid = {\n",
    "    'n_estimators': [50, 100, 200],   # number of estimators\n",
    "    'max_samples' : [0.5, 0.7, 1.0],  # random sample size for each estimator\n",
    "    'max_features': [0.5, 0.7, 1.0]   # number of features considered\n",
    "}"
   ]
  },
  {
   "cell_type": "code",
   "execution_count": 334,
   "id": "0a6960d5",
   "metadata": {},
   "outputs": [
    {
     "data": {
      "text/plain": [
       "BaggingClassifier(max_features=0.7, max_samples=0.7, n_estimators=200,\n",
       "                  oob_score=True, random_state=42)"
      ]
     },
     "execution_count": 334,
     "metadata": {},
     "output_type": "execute_result"
    }
   ],
   "source": [
    "grid_search = GridSearchCV(Bagging_GridSearch, param_grid, cv=3)\n",
    "grid_search.fit(x_train, y_train)\n",
    "\n",
    "best_bagging_model = grid_search.best_estimator_\n",
    "best_bagging_model.fit(x_train, y_train)"
   ]
  },
  {
   "cell_type": "code",
   "execution_count": 335,
   "id": "01ce6f73",
   "metadata": {},
   "outputs": [
    {
     "name": "stdout",
     "output_type": "stream",
     "text": [
      "Best Parameters: {'max_features': 0.7, 'max_samples': 0.7, 'n_estimators': 200}\n"
     ]
    }
   ],
   "source": [
    "print(\"Best Parameters:\", grid_search.best_params_)"
   ]
  },
  {
   "cell_type": "markdown",
   "id": "d780e1a1",
   "metadata": {},
   "source": [
    "The best parameters obtained after hyperparameter tuning for the decision tree with Bagging are **'max_features': 0.7, 'max_samples': 0.7, and 'n_estimators': 200**. These optimal parameters suggest that using **70%** of the features for each estimator, taking a **70%** random sample size for each estimator, and employing a total of **200 estimators** in the Bagging ensemble were found to provide the best performance among the specified parameter options. This combination was identified as the most suitable configuration during the tuning process, likely resulting in improved model performance compared to other parameter combinations tested."
   ]
  },
  {
   "cell_type": "markdown",
   "id": "c69024c5",
   "metadata": {},
   "source": [
    "### **Evaluation Metrics**"
   ]
  },
  {
   "cell_type": "code",
   "execution_count": 336,
   "id": "a0c0a920",
   "metadata": {},
   "outputs": [],
   "source": [
    "from sklearn.metrics import confusion_matrix, classification_report\n",
    "y_predict = best_bagging_model.predict(x_test)\n",
    "\n",
    "# Confusion matrix\n",
    "conf_matrix = confusion_matrix(y_test, y_predict)\n",
    "\n",
    "# Classification report\n",
    "class_report = classification_report(y_test, y_predict)"
   ]
  },
  {
   "cell_type": "code",
   "execution_count": 337,
   "id": "fcd8e8d9",
   "metadata": {},
   "outputs": [
    {
     "name": "stdout",
     "output_type": "stream",
     "text": [
      "\n",
      "Confusion Matrix\n",
      "\n",
      "[[278 208 220]\n",
      " [267 199 170]\n",
      " [236 203 219]]\n"
     ]
    }
   ],
   "source": [
    "print('\\nConfusion Matrix\\n')\n",
    "print(conf_matrix)"
   ]
  },
  {
   "cell_type": "markdown",
   "id": "24018fd7",
   "metadata": {},
   "source": [
    "- For the category labeled as **\"Abnormal\" (0)**, the model correctly predicted **278** instances. However, it misclassified **208** instances of \"Inconclusive\" and **220** instances of \"Normal\" as \"Abnormal.\"\n",
    "- Regarding the class denoted as **\"Inconclusive\" (1)**, the model accurately predicted **199** instances. However, it misclassified **267** instances of \"Abnormal\" and **170** instances of \"Normal\" as \"Inconclusive.\"\n",
    "- As for the classification identified as **\"Normal\" (2)**, the model correctly predicted **219** instances. Nonetheless, it misclassified **236** instances of \"Abnormal\" and **203** instances of \"Inconclusive\" as \"Normal.\""
   ]
  },
  {
   "cell_type": "code",
   "execution_count": 338,
   "id": "92f3cf36",
   "metadata": {},
   "outputs": [
    {
     "name": "stdout",
     "output_type": "stream",
     "text": [
      "\n",
      "Classification Report\n",
      "\n",
      "              precision    recall  f1-score   support\n",
      "\n",
      "           0       0.36      0.39      0.37       706\n",
      "           1       0.33      0.31      0.32       636\n",
      "           2       0.36      0.33      0.35       658\n",
      "\n",
      "    accuracy                           0.35      2000\n",
      "   macro avg       0.35      0.35      0.35      2000\n",
      "weighted avg       0.35      0.35      0.35      2000\n",
      "\n"
     ]
    }
   ],
   "source": [
    "print('\\nClassification Report\\n')\n",
    "print(class_report)"
   ]
  },
  {
   "cell_type": "markdown",
   "id": "1da935e2",
   "metadata": {},
   "source": [
    "**For Class 0 (\"Abnormal\"):**\n",
    "- **Precision:** The precision score for predicting Class 0 instances is approximately 0.36, indicating that around 36% of the predicted \"Abnormal\" instances were correct.\n",
    "- **Recall:** The recall rate for Class 0 is roughly 0.39, suggesting that the model identified approximately 39% of the actual \"Abnormal\" instances.\n",
    "- **F1-score:** The F1-score for Class 0 is about 0.37, demonstrating a balance between precision and recall.\n",
    "\n",
    "**For Class 1 (\"Inconclusive\"):**\n",
    "- **Precision:** The precision for Class 1 instances is around 0.33, implying that about 33% of the predicted \"Inconclusive\" instances were correct.\n",
    "- **Recall:** The recall score for Class 1 is approximately 0.31, indicating that the model identified around 31% of the actual \"Inconclusive\" instances.\n",
    "- **F1-score:** The F1-score for Class 1 is roughly 0.32, indicating a balance between precision and recall.\n",
    "\n",
    "**For Class 2 (\"Normal\"):**\n",
    "- **Precision:** The precision score for Class 2 is about 0.36, meaning that approximately 36% of the predicted \"Normal\" instances were correct.\n",
    "- **Recall:** The recall rate for Class 2 is around 0.33, implying that the model identified about 33% of the actual \"Normal\" instances.\n",
    "- **F1-score:** The F1-score for Class 2 is approximately 0.35, demonstrating a balance between precision and recall.\n",
    "\n",
    "**Accuracy:** The overall accuracy across all classes is **35%**, indicating that the model **correctly predicted** the classes for approximately **35%** of the total instances in the dataset. The macro and weighted average metrics for precision, recall, and F1-score are also around 0.35, highlighting the consistent performance across classes."
   ]
  },
  {
   "cell_type": "markdown",
   "id": "05952d52",
   "metadata": {},
   "source": [
    "The hyperparameter tuning performed on the decision tree classifier resulted in an **improved accuracy of 35%**, compared to the previous accuracy of **34%** achieved by the previous base estimator. This enhancement in performance demonstrates the effectiveness of optimizing the decision tree's hyperparameters using techniques like GridSearchCV. By fine-tuning parameters like 'max_features,' 'max_samples,' and 'n_estimators,' the model becomes better suited to capture the underlying patterns in the dataset, which consequently leads to an enhancement in predictive accuracy."
   ]
  },
  {
   "cell_type": "markdown",
   "id": "453628e5",
   "metadata": {},
   "source": [
    "# **| Random Forest Classifier |**"
   ]
  },
  {
   "cell_type": "markdown",
   "id": "37aa1bd1",
   "metadata": {},
   "source": [
    "Transitioning from Bagging to **Random Forest Classifier** is a strategic move to potentially **enhance** the model's predictive **accuracy and robustness**. Random Forest is an ensemble learning method, extending from Bagging, yet introducing further randomness by considering a subset of features at each split. This technique aims to improve generalization by creating a diverse set of decision trees. The concept of randomness in feature selection and bootstrapped samples across multiple trees **enhances** the **model's adaptability** to various features and underlying patterns in the dataset. Moreover, by aggregating predictions from numerous trees, Random Forest tends to yield **more stable** and **reliable predictions**, thus potentially **elevating** the **overall accuracy** and performance of the model."
   ]
  },
  {
   "cell_type": "markdown",
   "id": "f38335b8",
   "metadata": {},
   "source": [
    "## ***Criterion: Gini***"
   ]
  },
  {
   "cell_type": "code",
   "execution_count": 339,
   "id": "822aa457",
   "metadata": {},
   "outputs": [
    {
     "data": {
      "text/plain": [
       "RandomForestClassifier(max_depth=10, random_state=42)"
      ]
     },
     "execution_count": 339,
     "metadata": {},
     "output_type": "execute_result"
    }
   ],
   "source": [
    "from sklearn.ensemble import RandomForestClassifier\n",
    "import warnings\n",
    "warnings.filterwarnings('ignore')\n",
    "\n",
    "RF_class = RandomForestClassifier(criterion= 'gini', max_depth=10, random_state=42)\n",
    "RF_class.fit(x_train, y_train)"
   ]
  },
  {
   "cell_type": "markdown",
   "id": "f1782c4b",
   "metadata": {},
   "source": [
    "The choice of **'gini'** as the criterion and setting **'max_depth'** to **10** for the Random Forest Classifier aligns with the characteristics of the healthcare dataset. The 'gini' criterion is preferred for its effectiveness in constructing decision trees by evaluating the **impurity** of a split. In the context of healthcare data, this criterion helps the model **better discern** and **classify** instances based on their features, particularly relevant when dealing with intricate and varied patient conditions. Setting 'max_depth' to 10 controls the depth of individual decision trees within the ensemble. This depth limitation aims to **restrict the trees** from becoming excessively complex, promoting better generalization to unseen data while still allowing for capturing essential patterns present in healthcare-related features."
   ]
  },
  {
   "cell_type": "markdown",
   "id": "e422f82b",
   "metadata": {},
   "source": [
    "### **Evaluation Metrics**"
   ]
  },
  {
   "cell_type": "code",
   "execution_count": 340,
   "id": "49be17e7",
   "metadata": {},
   "outputs": [],
   "source": [
    "from sklearn.metrics import confusion_matrix, classification_report\n",
    "y_predict=RF_class.predict(x_test)\n",
    "\n",
    "# Confusion matrix\n",
    "conf_matrix = confusion_matrix(y_test, y_predict)\n",
    "\n",
    "# Classification report\n",
    "class_report = classification_report(y_test, y_predict)"
   ]
  },
  {
   "cell_type": "code",
   "execution_count": 341,
   "id": "bd2e9f9f",
   "metadata": {},
   "outputs": [
    {
     "name": "stdout",
     "output_type": "stream",
     "text": [
      "\n",
      "Confusion Matrix\n",
      "\n",
      "[[296 209 201]\n",
      " [273 193 170]\n",
      " [269 189 200]]\n"
     ]
    }
   ],
   "source": [
    "print('\\nConfusion Matrix\\n')\n",
    "print(conf_matrix)"
   ]
  },
  {
   "cell_type": "markdown",
   "id": "68ca45d6",
   "metadata": {},
   "source": [
    "- For the class labeled as **\"Abnormal\" (0)**, the model correctly predicted **296** instances. However, it misclassified **209** instances of \"Inconclusive\" and **201** instances of \"Normal\" as \"Abnormal.\"\n",
    "- Concerning the category denoted as **\"Inconclusive\" (1)**, the model accurately predicted **193** instances. However, it misclassified **273** instances of \"Abnormal\" and **170** instances of \"Normal\" as \"Inconclusive.\"\n",
    "- As for the classification identified as **\"Normal\" (2)**, the model correctly predicted **200** instances. Nonetheless, it misclassified **269** instances of \"Abnormal\" and **189** instances of \"Inconclusive\" as \"Normal.\""
   ]
  },
  {
   "cell_type": "code",
   "execution_count": 342,
   "id": "56b62f3e",
   "metadata": {},
   "outputs": [
    {
     "name": "stdout",
     "output_type": "stream",
     "text": [
      "\n",
      "Classification Report\n",
      "\n",
      "              precision    recall  f1-score   support\n",
      "\n",
      "           0       0.35      0.42      0.38       706\n",
      "           1       0.33      0.30      0.31       636\n",
      "           2       0.35      0.30      0.33       658\n",
      "\n",
      "    accuracy                           0.34      2000\n",
      "   macro avg       0.34      0.34      0.34      2000\n",
      "weighted avg       0.34      0.34      0.34      2000\n",
      "\n"
     ]
    }
   ],
   "source": [
    "print('\\nClassification Report\\n')\n",
    "print(class_report)"
   ]
  },
  {
   "cell_type": "markdown",
   "id": "d091d841",
   "metadata": {},
   "source": [
    "**For Class 0 (\"Abnormal\"):**\n",
    "- **Precision:** The precision score for predicting Class 0 instances is approximately 0.35, indicating that around 35% of the predicted \"Abnormal\" instances were correct.\n",
    "- **Recall:** The recall rate for Class 0 is roughly 0.42, suggesting that the model identified approximately 42% of the actual \"Abnormal\" instances.\n",
    "- **F1-score:** The F1-score for Class 0 is about 0.38, demonstrating a balance between precision and recall.\n",
    "\n",
    "**For Class 1 (\"Inconclusive\"):**\n",
    "- **Precision:** The precision for Class 1 instances is around 0.33, implying that about 33% of the predicted \"Inconclusive\" instances were correct.\n",
    "- **Recall:** The recall score for Class 1 is approximately 0.30, indicating that the model identified around 30% of the actual \"Inconclusive\" instances.\n",
    "- **F1-score:** The F1-score for Class 1 is roughly 0.31, indicating a balance between precision and recall.\n",
    "\n",
    "**For Class 2 (\"Normal\"):**\n",
    "- **Precision:** The precision score for Class 2 is approximately 0.35, meaning that approximately 35% of the predicted \"Normal\" instances were correct.\n",
    "- **Recall:** The recall rate for Class 2 is around 0.30, implying that the model identified about 30% of the actual \"Normal\" instances.\n",
    "- **F1-score:** The F1-score for Class 2 is approximately 0.33, demonstrating a balance between precision and recall.\n",
    "\n",
    "**Accuracy:** The overall accuracy across all classes is **34%**, indicating that the model **correctly predicted** the classes for approximately **34%** of the total instances in the dataset. The macro and weighted average metrics for precision, recall, and F1-score are also around 0.34, highlighting the consistent performance across classes."
   ]
  },
  {
   "cell_type": "markdown",
   "id": "c84b27da",
   "metadata": {},
   "source": [
    "## ***Hyperparameter Tuning using GridSearchCV***"
   ]
  },
  {
   "cell_type": "markdown",
   "id": "3b99ea32",
   "metadata": {},
   "source": [
    "After employing a random forest classifier using the Gini criterion and a max depth of 10, the accuracy observed a **slight decrease** from the previous modeling, **dropping** from **0.35 to 0.34**. To address this decline and enhance the model's performance, I've chosen to **utilize GridSearchCV**. This method will systematically explore a range of hyperparameters, enabling an exhaustive search to identify the best configuration. By leveraging GridSearchCV, I aim to optimize the model's parameters, considering various combinations to **attain improved accuracy** and overall performance for the random forest classifier."
   ]
  },
  {
   "cell_type": "code",
   "execution_count": 355,
   "id": "308adf4b",
   "metadata": {},
   "outputs": [],
   "source": [
    "from sklearn.model_selection import GridSearchCV\n",
    "\n",
    "RF_GridSearchCV = RandomForestClassifier(random_state=42)\n",
    "\n",
    "param_grid = {\n",
    "               'criterion'   : ['gini', 'entropy', 'log_loss'],\n",
    "               'max_depth'   : [5, 10], \n",
    "               'n_estimators': [100, 125],       # number of estimators\n",
    "               'max_samples' : [0.7, 1.0],       # random sample size for each estimator\n",
    "}"
   ]
  },
  {
   "cell_type": "markdown",
   "id": "8ea2b18d",
   "metadata": {},
   "source": [
    "I chose specific hyperparameters for GridSearchCV to explore the impact on the model's performance. This included evaluating different **criteria** ('gini', 'entropy', 'log_loss') for node splitting, varying **tree depths** (5 and 10), examining the **number of estimators** (100 and 125), and testing **sample sizes** (0.7 and 1.0) for each estimator. The goal is to find the most effective hyperparameter combination for maximizing accuracy and model generalization."
   ]
  },
  {
   "cell_type": "code",
   "execution_count": 356,
   "id": "84a18952",
   "metadata": {},
   "outputs": [
    {
     "data": {
      "text/plain": [
       "RandomForestClassifier(criterion='entropy', max_depth=10, max_samples=0.7,\n",
       "                       n_estimators=125, random_state=42)"
      ]
     },
     "execution_count": 356,
     "metadata": {},
     "output_type": "execute_result"
    }
   ],
   "source": [
    "grid_search = GridSearchCV(RF_GridSearchCV, param_grid, cv=5)\n",
    "grid_search.fit(x_train, y_train)\n",
    "\n",
    "best_bagging_model = grid_search.best_estimator_\n",
    "best_bagging_model.fit(x_train, y_train)"
   ]
  },
  {
   "cell_type": "code",
   "execution_count": 357,
   "id": "dea9cb08",
   "metadata": {},
   "outputs": [
    {
     "name": "stdout",
     "output_type": "stream",
     "text": [
      "Best Parameters: {'criterion': 'entropy', 'max_depth': 10, 'max_samples': 0.7, 'n_estimators': 125}\n"
     ]
    }
   ],
   "source": [
    "print(\"Best Parameters:\", grid_search.best_params_)"
   ]
  },
  {
   "cell_type": "markdown",
   "id": "c37b1025",
   "metadata": {},
   "source": [
    "The best parameters obtained after hyperparameter tuning using GridSearchCV are **{'criterion': 'entropy', 'max_depth': 10, 'max_samples': 0.7, 'n_estimators': 125}**. These parameters were identified as they collectively yielded the highest performance and accuracy for the Random Forest Classifier model."
   ]
  },
  {
   "cell_type": "markdown",
   "id": "35f96c19",
   "metadata": {},
   "source": [
    "### **Evaluation Metrics**"
   ]
  },
  {
   "cell_type": "code",
   "execution_count": 358,
   "id": "3d2ed767",
   "metadata": {},
   "outputs": [],
   "source": [
    "from sklearn.metrics import confusion_matrix, classification_report\n",
    "y_predict = best_bagging_model.predict(x_test)\n",
    "\n",
    "# Confusion matrix\n",
    "conf_matrix = confusion_matrix(y_test, y_predict)\n",
    "\n",
    "# Classification report\n",
    "class_report = classification_report(y_test, y_predict)"
   ]
  },
  {
   "cell_type": "code",
   "execution_count": 359,
   "id": "4051077a",
   "metadata": {},
   "outputs": [
    {
     "name": "stdout",
     "output_type": "stream",
     "text": [
      "\n",
      "Confusion Matrix\n",
      "\n",
      "[[312 213 181]\n",
      " [285 185 166]\n",
      " [277 193 188]]\n"
     ]
    }
   ],
   "source": [
    "print('\\nConfusion Matrix\\n')\n",
    "print(conf_matrix)"
   ]
  },
  {
   "cell_type": "markdown",
   "id": "52762392",
   "metadata": {},
   "source": [
    "- For the class labeled as **\"Abnormal\" (0)**, the model correctly predicted **312** instances. However, it misclassified **213** instances of \"Inconclusive\" and **181** instances of \"Normal\" as \"Abnormal.\"\n",
    "- Regarding the category denoted as **\"Inconclusive\" (1)**, the model accurately predicted **185** instances. However, it misclassified **285** instances of \"Abnormal\" and **166** instances of \"Normal\" as \"Inconclusive.\"\n",
    "- As for the classification identified as **\"Normal\" (2)**, the model correctly predicted **188** instances. Nonetheless, it misclassified **277** instances of \"Abnormal\" and **193** instances of \"Inconclusive\" as \"Normal.\""
   ]
  },
  {
   "cell_type": "code",
   "execution_count": 360,
   "id": "a3474a33",
   "metadata": {},
   "outputs": [
    {
     "name": "stdout",
     "output_type": "stream",
     "text": [
      "\n",
      "Classification Report\n",
      "\n",
      "              precision    recall  f1-score   support\n",
      "\n",
      "           0       0.36      0.44      0.39       706\n",
      "           1       0.31      0.29      0.30       636\n",
      "           2       0.35      0.29      0.32       658\n",
      "\n",
      "    accuracy                           0.34      2000\n",
      "   macro avg       0.34      0.34      0.34      2000\n",
      "weighted avg       0.34      0.34      0.34      2000\n",
      "\n"
     ]
    }
   ],
   "source": [
    "print('\\nClassification Report\\n')\n",
    "print(class_report)"
   ]
  },
  {
   "cell_type": "markdown",
   "id": "a160e7ab",
   "metadata": {},
   "source": [
    "**For Class 0 (\"Abnormal\"):**\n",
    "- **Precision:** The precision score for predicting Class 0 instances is approximately 0.36, indicating that around 36% of the predicted \"Abnormal\" instances were correct.\n",
    "- **Recall:** The recall rate for Class 0 is roughly 0.44, suggesting that the model identified approximately 44% of the actual \"Abnormal\" instances.\n",
    "- **F1-score:** The F1-score for Class 0 is about 0.39, demonstrating a balance between precision and recall.\n",
    "\n",
    "**For Class 1 (\"Inconclusive\"):**\n",
    "- **Precision:** The precision for Class 1 instances is around 0.31, implying that about 31% of the predicted \"Inconclusive\" instances were correct.\n",
    "- **Recall:** The recall score for Class 1 is approximately 0.29, indicating that the model identified around 29% of the actual \"Inconclusive\" instances.\n",
    "- **F1-score:** The F1-score for Class 1 is roughly 0.30, indicating a balance between precision and recall.\n",
    "\n",
    "**For Class 2 (\"Normal\"):**\n",
    "- **Precision:** The precision score for Class 2 is approximately 0.35, meaning that around 35% of the predicted \"Normal\" instances were correct.\n",
    "- **Recall:** The recall rate for Class 2 is around 0.29, implying that the model identified about 29% of the actual \"Normal\" instances.\n",
    "- **F1-score:** The F1-score for Class 2 is approximately 0.32, demonstrating a balance between precision and recall.\n",
    "\n",
    "**Accuracy:** The overall accuracy across all classes is **34%**, indicating that the model **correctly predicted** the classes for approximately **34%** of the total instances in the dataset. The macro and weighted average metrics for precision, recall, and F1-score are also around 0.34, highlighting the consistent performance across classes."
   ]
  },
  {
   "cell_type": "markdown",
   "id": "023d5143",
   "metadata": {},
   "source": [
    "# **| Boosting: ADABoost Classifier|**"
   ]
  },
  {
   "cell_type": "markdown",
   "id": "d8e78209",
   "metadata": {},
   "source": [
    "The evaluation of the Random Forest Classifier **showed no improvement** in accuracy despite hyperparameter tuning, maintaining a **consistent 0.34 accuracy**. This suggests the model might have reached its learning limit regarding the dataset's complexities.\n",
    "\n",
    "Transitioning to boosting techniques is a strategic move in response. Boosting algorithms like **AdaBoost** work sequentially to improve predictive performance by focusing on previously misclassified instances. This decision aligns with the need to explore different methodologies when models hit performance plateaus, potentially leveraging boosting's iterative nature to enhance accuracy beyond what was achieved with Random Forests."
   ]
  },
  {
   "cell_type": "markdown",
   "id": "b33d0e2f",
   "metadata": {},
   "source": [
    "## ***Default Parameters***"
   ]
  },
  {
   "cell_type": "code",
   "execution_count": 361,
   "id": "6b596deb",
   "metadata": {},
   "outputs": [
    {
     "data": {
      "text/plain": [
       "AdaBoostClassifier(random_state=42)"
      ]
     },
     "execution_count": 361,
     "metadata": {},
     "output_type": "execute_result"
    }
   ],
   "source": [
    "from sklearn.ensemble import AdaBoostClassifier\n",
    "import warnings\n",
    "warnings.filterwarnings('ignore')\n",
    "\n",
    "ADABoost_class = AdaBoostClassifier(random_state=42)\n",
    "ADABoost_class.fit(x_train, y_train)"
   ]
  },
  {
   "cell_type": "markdown",
   "id": "722fdaa4",
   "metadata": {},
   "source": [
    "### **Evaluation Metrics**"
   ]
  },
  {
   "cell_type": "code",
   "execution_count": 362,
   "id": "01d4cd9f",
   "metadata": {},
   "outputs": [],
   "source": [
    "from sklearn.metrics import confusion_matrix, classification_report\n",
    "y_predict=ADABoost_class.predict(x_test)\n",
    "\n",
    "# Confusion matrix\n",
    "conf_matrix = confusion_matrix(y_test, y_predict)\n",
    "\n",
    "# Classification report\n",
    "class_report = classification_report(y_test, y_predict)"
   ]
  },
  {
   "cell_type": "code",
   "execution_count": 363,
   "id": "de99d975",
   "metadata": {},
   "outputs": [
    {
     "name": "stdout",
     "output_type": "stream",
     "text": [
      "\n",
      "Confusion Matrix\n",
      "\n",
      "[[289 250 167]\n",
      " [295 180 161]\n",
      " [296 208 154]]\n"
     ]
    }
   ],
   "source": [
    "print('\\nConfusion Matrix\\n')\n",
    "print(conf_matrix)"
   ]
  },
  {
   "cell_type": "markdown",
   "id": "1843bd6c",
   "metadata": {},
   "source": [
    "- For the class labeled as **\"Abnormal\" (0)**, the model correctly predicted **289** instances. However, it misclassified **250** instances of \"Inconclusive\" and **167** instances of \"Normal\" as \"Abnormal.\"\n",
    "- Regarding the category denoted as **\"Inconclusive\" (1)**, the model accurately predicted **180** instances. However, it misclassified **295** instances of \"Abnormal\" and **161** instances of \"Normal\" as \"Inconclusive.\"\n",
    "- As for the classification identified as **\"Normal\" (2)**, the model correctly predicted **154** instances. Nonetheless, it misclassified **296** instances of \"Abnormal\" and **208** instances of \"Inconclusive\" as \"Normal.\""
   ]
  },
  {
   "cell_type": "code",
   "execution_count": 364,
   "id": "281e6018",
   "metadata": {},
   "outputs": [
    {
     "name": "stdout",
     "output_type": "stream",
     "text": [
      "\n",
      "Classification Report\n",
      "\n",
      "              precision    recall  f1-score   support\n",
      "\n",
      "           0       0.33      0.41      0.36       706\n",
      "           1       0.28      0.28      0.28       636\n",
      "           2       0.32      0.23      0.27       658\n",
      "\n",
      "    accuracy                           0.31      2000\n",
      "   macro avg       0.31      0.31      0.31      2000\n",
      "weighted avg       0.31      0.31      0.31      2000\n",
      "\n"
     ]
    }
   ],
   "source": [
    "print('\\nClassification Report\\n')\n",
    "print(class_report)"
   ]
  },
  {
   "cell_type": "markdown",
   "id": "2307fc2e",
   "metadata": {},
   "source": [
    "**For Class 0 (\"Abnormal\"):**\n",
    "- **Precision:** The precision score for predicting Class 0 instances is approximately 0.33, indicating that around 33% of the predicted \"Abnormal\" instances were correct.\n",
    "- **Recall:** The recall rate for Class 0 is roughly 0.41, suggesting that the model identified approximately 41% of the actual \"Abnormal\" instances.\n",
    "- **F1-score:** The F1-score for Class 0 is about 0.36, demonstrating a balance between precision and recall.\n",
    "\n",
    "**For Class 1 (\"Inconclusive\"):**\n",
    "- **Precision:** The precision for Class 1 instances is around 0.28, implying that about 28% of the predicted \"Inconclusive\" instances were correct.\n",
    "- **Recall:** The recall score for Class 1 is approximately 0.28, indicating that the model identified around 28% of the actual \"Inconclusive\" instances.\n",
    "- **F1-score:** The F1-score for Class 1 is roughly 0.28, indicating a balance between precision and recall.\n",
    "\n",
    "**For Class 2 (\"Normal\"):**\n",
    "- **Precision:** The precision score for Class 2 is approximately 0.32, meaning that around 32% of the predicted \"Normal\" instances were correct.\n",
    "- **Recall:** The recall rate for Class 2 is around 0.23, implying that the model identified about 23% of the actual \"Normal\" instances.\n",
    "- **F1-score:** The F1-score for Class 2 is approximately 0.27, demonstrating a balance between precision and recall.\n",
    "\n",
    "**Accuracy:** The overall accuracy across all classes is **31%**, indicating that the model **correctly predicted** the classes for approximately **31%** of the total instances in the dataset. The macro and weighted average metrics for precision, recall, and F1-score are also around 0.31, showing consistent performance across classes."
   ]
  },
  {
   "cell_type": "markdown",
   "id": "9b8a1b49",
   "metadata": {},
   "source": [
    "## ***Hyperparameter Tuning using GridSearchCV***"
   ]
  },
  {
   "cell_type": "code",
   "execution_count": 365,
   "id": "1f6066ce",
   "metadata": {},
   "outputs": [],
   "source": [
    "from sklearn.model_selection import GridSearchCV\n",
    "\n",
    "ADABoost_GridSearchCV = AdaBoostClassifier(random_state=42)\n",
    "\n",
    "param_grid = {\n",
    "                'n_estimators': [50, 100, 200],   # number of estimators\n",
    "                'learning_rate': [0.1, 0.5, 1.0]  # weight applied to each classifier at each boosting iteration\n",
    "}"
   ]
  },
  {
   "cell_type": "markdown",
   "id": "69374c7e",
   "metadata": {},
   "source": [
    "The parameters used for AdaBoostClassifier are 'n_estimators' (representing the number of estimators) and 'learning_rate' (which controls the contribution of each classifier). **'n_estimators'** varied between **50, 100, and 200**, while **'learning_rate'** was tested with values **0.1, 0.5, and 1.0**."
   ]
  },
  {
   "cell_type": "code",
   "execution_count": 366,
   "id": "b9c6ecb7",
   "metadata": {},
   "outputs": [
    {
     "data": {
      "text/plain": [
       "AdaBoostClassifier(learning_rate=0.5, random_state=42)"
      ]
     },
     "execution_count": 366,
     "metadata": {},
     "output_type": "execute_result"
    }
   ],
   "source": [
    "grid_search = GridSearchCV(ADABoost_GridSearchCV, param_grid, cv=3)\n",
    "grid_search.fit(x_train, y_train)\n",
    "\n",
    "best_adaboost_model = grid_search.best_estimator_\n",
    "best_adaboost_model.fit(x_train, y_train)"
   ]
  },
  {
   "cell_type": "code",
   "execution_count": 367,
   "id": "44f61881",
   "metadata": {},
   "outputs": [
    {
     "name": "stdout",
     "output_type": "stream",
     "text": [
      "Best Parameters: {'learning_rate': 0.5, 'n_estimators': 50}\n"
     ]
    }
   ],
   "source": [
    "print(\"Best Parameters:\", grid_search.best_params_)"
   ]
  },
  {
   "cell_type": "markdown",
   "id": "eea3b96a",
   "metadata": {},
   "source": [
    "The best parameters found for the AdaBoostClassifier were **'learning_rate'** set to **0.5** and **'n_estimators'** set to **50** after performing the grid search."
   ]
  },
  {
   "cell_type": "markdown",
   "id": "8d05f6ca",
   "metadata": {},
   "source": [
    "### **Evaluation Metrics**"
   ]
  },
  {
   "cell_type": "code",
   "execution_count": 368,
   "id": "82683186",
   "metadata": {},
   "outputs": [],
   "source": [
    "from sklearn.metrics import confusion_matrix, classification_report\n",
    "y_predict = best_adaboost_model.predict(x_test)\n",
    "\n",
    "# Confusion matrix\n",
    "conf_matrix = confusion_matrix(y_test, y_predict)\n",
    "\n",
    "# Classification report\n",
    "class_report = classification_report(y_test, y_predict)"
   ]
  },
  {
   "cell_type": "code",
   "execution_count": 369,
   "id": "ca4f4f23",
   "metadata": {},
   "outputs": [
    {
     "name": "stdout",
     "output_type": "stream",
     "text": [
      "\n",
      "Confusion Matrix\n",
      "\n",
      "[[362 236 108]\n",
      " [356 176 104]\n",
      " [341 197 120]]\n"
     ]
    }
   ],
   "source": [
    "print('\\nConfusion Matrix\\n')\n",
    "print(conf_matrix)"
   ]
  },
  {
   "cell_type": "markdown",
   "id": "5f93069a",
   "metadata": {},
   "source": [
    "- For the class labeled as **\"Abnormal\" (0)**, the model correctly predicted **362** instances. However, it misclassified **236** instances of \"Inconclusive\" and **108** instances of \"Normal\" as \"Abnormal.\"\n",
    "- Regarding the category denoted as **\"Inconclusive\" (1)**, the model accurately predicted **176** instances. However, it misclassified **356** instances of \"Abnormal\" and **104** instances of \"Normal\" as \"Inconclusive.\"\n",
    "- As for the classification identified as **\"Normal\" (2)**, the model correctly predicted **120** instances. Nonetheless, it misclassified **341** instances of \"Abnormal\" and **197** instances of \"Inconclusive\" as \"Normal.\""
   ]
  },
  {
   "cell_type": "code",
   "execution_count": 370,
   "id": "c0a23d5d",
   "metadata": {},
   "outputs": [
    {
     "name": "stdout",
     "output_type": "stream",
     "text": [
      "\n",
      "Classification Report\n",
      "\n",
      "              precision    recall  f1-score   support\n",
      "\n",
      "           0       0.34      0.51      0.41       706\n",
      "           1       0.29      0.28      0.28       636\n",
      "           2       0.36      0.18      0.24       658\n",
      "\n",
      "    accuracy                           0.33      2000\n",
      "   macro avg       0.33      0.32      0.31      2000\n",
      "weighted avg       0.33      0.33      0.31      2000\n",
      "\n"
     ]
    }
   ],
   "source": [
    "print('\\nClassification Report\\n')\n",
    "print(class_report)"
   ]
  },
  {
   "cell_type": "markdown",
   "id": "739d9b48",
   "metadata": {},
   "source": [
    "**For Class 0 (\"Abnormal\"):**\n",
    "- **Precision:** The precision score for predicting Class 0 instances is approximately 0.34, indicating that around 34% of the predicted \"Abnormal\" instances were correct.\n",
    "- **Recall:** The recall rate for Class 0 is roughly 0.51, suggesting that the model identified approximately 51% of the actual \"Abnormal\" instances.\n",
    "- **F1-score:** The F1-score for Class 0 is about 0.41, demonstrating a balance between precision and recall.\n",
    "\n",
    "**For Class 1 (\"Inconclusive\"):**\n",
    "- **Precision:** The precision for Class 1 instances is around 0.29, implying that about 29% of the predicted \"Inconclusive\" instances were correct.\n",
    "- **Recall:** The recall score for Class 1 is approximately 0.28, indicating that the model identified around 28% of the actual \"Inconclusive\" instances.\n",
    "- **F1-score:** The F1-score for Class 1 is roughly 0.28, indicating a balance between precision and recall.\n",
    "\n",
    "**For Class 2 (\"Normal\"):**\n",
    "- **Precision:** The precision score for Class 2 is approximately 0.36, meaning that around 36% of the predicted \"Normal\" instances were correct.\n",
    "- **Recall:** The recall rate for Class 2 is around 0.18, implying that the model identified about 18% of the actual \"Normal\" instances.\n",
    "- **F1-score:** The F1-score for Class 2 is approximately 0.24, demonstrating a balance between precision and recall.\n",
    "\n",
    "**Accuracy:** The overall accuracy across all classes is **33%**, indicating that the model **correctly predicted** the classes for approximately **33%** of the total instances in the dataset. The macro and weighted average metrics for precision, recall, and F1-score are also around 0.31 to 0.33, showing somewhat consistent performance across classes, albeit with varying precision and recall rates."
   ]
  },
  {
   "cell_type": "markdown",
   "id": "66d598e3",
   "metadata": {},
   "source": [
    "# **| Stacking Classifier|**"
   ]
  },
  {
   "cell_type": "markdown",
   "id": "be5b69fb",
   "metadata": {},
   "source": [
    "Considering the decline in accuracy with boosting from **34% to 33%**, I'm exploring a new approach called stacking. Stacking involves combining models like **Random Forest Classifier and SVC**, both showing promise individually. This strategy aims to leverage their strengths collectively and potentially improve accuracy. This shift aligns with the pursuit of maximizing model performance by amalgamating diverse models to overcome limitations encountered with individual ones."
   ]
  },
  {
   "cell_type": "markdown",
   "id": "b6d745a8",
   "metadata": {},
   "source": [
    "### ***Using Default Random Forest + Support Vector Classifier***"
   ]
  },
  {
   "cell_type": "code",
   "execution_count": 371,
   "id": "c91d4eec",
   "metadata": {},
   "outputs": [
    {
     "data": {
      "text/plain": [
       "StackingClassifier(estimators=[('rf',\n",
       "                                RandomForestClassifier(n_estimators=10,\n",
       "                                                       random_state=42)),\n",
       "                               ('svc',\n",
       "                                Pipeline(steps=[('standardscaler',\n",
       "                                                 StandardScaler()),\n",
       "                                                ('linearsvc',\n",
       "                                                 LinearSVC(random_state=42))]))],\n",
       "                   final_estimator=LogisticRegression())"
      ]
     },
     "execution_count": 371,
     "metadata": {},
     "output_type": "execute_result"
    }
   ],
   "source": [
    "from sklearn.ensemble import RandomForestClassifier\n",
    "from sklearn.svm import LinearSVC\n",
    "from sklearn.linear_model import LogisticRegression\n",
    "from sklearn.preprocessing import StandardScaler\n",
    "from sklearn.pipeline import make_pipeline\n",
    "from sklearn.ensemble import StackingClassifier\n",
    "import warnings\n",
    "warnings.filterwarnings('ignore')\n",
    "\n",
    "estimators = [\n",
    "                ('rf', RandomForestClassifier(n_estimators=10, random_state=42)),\n",
    "                ('svc', make_pipeline(StandardScaler(),LinearSVC(random_state=42)))\n",
    "]\n",
    "\n",
    "stacking_class = StackingClassifier(estimators=estimators, final_estimator=LogisticRegression())\n",
    "stacking_class.fit(x_train, y_train)"
   ]
  },
  {
   "cell_type": "markdown",
   "id": "aed6b71a",
   "metadata": {},
   "source": [
    "### **Evaluation Metrics**"
   ]
  },
  {
   "cell_type": "code",
   "execution_count": 372,
   "id": "7109c506",
   "metadata": {},
   "outputs": [],
   "source": [
    "from sklearn.metrics import confusion_matrix, classification_report\n",
    "y_predict=stacking_class.predict(x_test)\n",
    "\n",
    "# Confusion matrix\n",
    "conf_matrix = confusion_matrix(y_test, y_predict)\n",
    "\n",
    "# Classification report\n",
    "class_report = classification_report(y_test, y_predict)"
   ]
  },
  {
   "cell_type": "code",
   "execution_count": 373,
   "id": "a2b31603",
   "metadata": {},
   "outputs": [
    {
     "name": "stdout",
     "output_type": "stream",
     "text": [
      "\n",
      "Confusion Matrix\n",
      "\n",
      "[[506 137  63]\n",
      " [442 131  63]\n",
      " [461 138  59]]\n"
     ]
    }
   ],
   "source": [
    "print('\\nConfusion Matrix\\n')\n",
    "print(conf_matrix)"
   ]
  },
  {
   "cell_type": "markdown",
   "id": "556f59bb",
   "metadata": {},
   "source": [
    "- For the class labeled as **\"Abnormal\" (0)**, the model correctly predicted **506** instances. However, it misclassified **137** instances of \"Inconclusive\" and **63** instances of \"Normal\" as \"Abnormal.\"\n",
    "- Regarding the category denoted as **\"Inconclusive\" (1)**, the model accurately predicted **131** instances. However, it misclassified **442** instances of \"Abnormal\" and **63** instances of \"Normal\" as \"Inconclusive.\"\n",
    "- As for the classification identified as **\"Normal\" (2)**, the model correctly predicted **59** instances. Nonetheless, it misclassified **461** instances of \"Abnormal\" and **138** instances of \"Inconclusive\" as \"Normal.\""
   ]
  },
  {
   "cell_type": "code",
   "execution_count": 374,
   "id": "759c148d",
   "metadata": {},
   "outputs": [
    {
     "name": "stdout",
     "output_type": "stream",
     "text": [
      "\n",
      "Classification Report\n",
      "\n",
      "              precision    recall  f1-score   support\n",
      "\n",
      "           0       0.36      0.72      0.48       706\n",
      "           1       0.32      0.21      0.25       636\n",
      "           2       0.32      0.09      0.14       658\n",
      "\n",
      "    accuracy                           0.35      2000\n",
      "   macro avg       0.33      0.34      0.29      2000\n",
      "weighted avg       0.33      0.35      0.29      2000\n",
      "\n"
     ]
    }
   ],
   "source": [
    "print('\\nClassification Report\\n')\n",
    "print(class_report)"
   ]
  },
  {
   "cell_type": "markdown",
   "id": "55e5688a",
   "metadata": {},
   "source": [
    "**For Class 0 (\"Abnormal\"):**\n",
    "- **Precision:** The precision score for predicting Class 0 instances is approximately 0.36, indicating that around 36% of the predicted \"Abnormal\" instances were correct.\n",
    "- **Recall:** The recall rate for Class 0 is roughly 0.72, suggesting that the model identified approximately 72% of the actual \"Abnormal\" instances.\n",
    "- **F1-score:** The F1-score for Class 0 is about 0.48, demonstrating a balance between precision and recall.\n",
    "\n",
    "**For Class 1 (\"Inconclusive\"):**\n",
    "- **Precision:** The precision for Class 1 instances is around 0.32, implying that about 32% of the predicted \"Inconclusive\" instances were correct.\n",
    "- **Recall:** The recall score for Class 1 is approximately 0.21, indicating that the model identified around 21% of the actual \"Inconclusive\" instances.\n",
    "- **F1-score:** The F1-score for Class 1 is roughly 0.25, indicating a balance between precision and recall.\n",
    "\n",
    "**For Class 2 (\"Normal\"):**\n",
    "- **Precision:** The precision score for Class 2 is approximately 0.32, meaning that around 32% of the predicted \"Normal\" instances were correct.\n",
    "- **Recall:** The recall rate for Class 2 is around 0.09, implying that the model identified about 9% of the actual \"Normal\" instances.\n",
    "- **F1-score:** The F1-score for Class 2 is approximately 0.14, demonstrating a balance between precision and recall.\n",
    "\n",
    "**Accuracy:** The overall accuracy across all classes is **35%**, indicating that the model **correctly predicted** the classes for approximately **35%** of the total instances in the dataset. The macro and weighted average metrics for precision, recall, and F1-score vary, averaging around 0.29 to 0.35, showing different levels of performance across classes. The model performed best in identifying \"Abnormal\" instances (Class 0) compared to the other classes."
   ]
  },
  {
   "cell_type": "markdown",
   "id": "b3f58c2a",
   "metadata": {},
   "source": [
    "### ***Using GridSearchCV for Random Forest + Support Vector Classifier Tuning***"
   ]
  },
  {
   "cell_type": "code",
   "execution_count": 375,
   "id": "30871562",
   "metadata": {},
   "outputs": [],
   "source": [
    "from sklearn.ensemble import RandomForestClassifier\n",
    "from sklearn.svm import LinearSVC\n",
    "from sklearn.linear_model import LogisticRegression\n",
    "from sklearn.preprocessing import StandardScaler\n",
    "from sklearn.pipeline import make_pipeline\n",
    "from sklearn.ensemble import StackingClassifier\n",
    "from sklearn.model_selection import GridSearchCV\n",
    "import warnings\n",
    "warnings.filterwarnings('ignore')\n",
    "\n",
    "estimators = [\n",
    "                ('rf', RandomForestClassifier(n_estimators=10)),\n",
    "                ('svc', make_pipeline(StandardScaler(), LinearSVC()))\n",
    "]"
   ]
  },
  {
   "cell_type": "code",
   "execution_count": 376,
   "id": "543da86a",
   "metadata": {},
   "outputs": [],
   "source": [
    "stacking_class = StackingClassifier(estimators=estimators, final_estimator=LogisticRegression())\n",
    "\n",
    "param_grid = {\n",
    "                'final_estimator__C': [1.0, 10.0],   # Parameters for final estimator (Default: Logistic Regression)\n",
    "                'rf__n_estimators'  : [50, 100],     # Parameters for RandomForestClassifier\n",
    "                'svc__linearsvc__C' : [1.0, 10.0]    # Parameters for LinearSVC\n",
    "}"
   ]
  },
  {
   "cell_type": "code",
   "execution_count": 377,
   "id": "97ebcaca",
   "metadata": {},
   "outputs": [
    {
     "data": {
      "text/plain": [
       "StackingClassifier(estimators=[('rf', RandomForestClassifier()),\n",
       "                               ('svc',\n",
       "                                Pipeline(steps=[('standardscaler',\n",
       "                                                 StandardScaler()),\n",
       "                                                ('linearsvc',\n",
       "                                                 LinearSVC(C=10.0))]))],\n",
       "                   final_estimator=LogisticRegression(C=10.0))"
      ]
     },
     "execution_count": 377,
     "metadata": {},
     "output_type": "execute_result"
    }
   ],
   "source": [
    "grid_search = GridSearchCV(stacking_class, param_grid, cv=3)\n",
    "grid_search.fit(x_train, y_train)\n",
    "\n",
    "best_stacking_model = grid_search.best_estimator_\n",
    "best_stacking_model.fit(x_train, y_train)"
   ]
  },
  {
   "cell_type": "code",
   "execution_count": 378,
   "id": "0420e96e",
   "metadata": {},
   "outputs": [
    {
     "name": "stdout",
     "output_type": "stream",
     "text": [
      "Best Parameters: {'final_estimator__C': 10.0, 'rf__n_estimators': 100, 'svc__linearsvc__C': 10.0}\n"
     ]
    }
   ],
   "source": [
    "print(\"Best Parameters:\", grid_search.best_params_)"
   ]
  },
  {
   "cell_type": "markdown",
   "id": "87454e70",
   "metadata": {},
   "source": [
    "### **Evaluation Metrics**"
   ]
  },
  {
   "cell_type": "code",
   "execution_count": 379,
   "id": "27fe236b",
   "metadata": {},
   "outputs": [],
   "source": [
    "from sklearn.metrics import confusion_matrix, classification_report\n",
    "y_predict = best_stacking_model.predict(x_test)\n",
    "\n",
    "# Confusion matrix\n",
    "conf_matrix = confusion_matrix(y_test, y_predict)\n",
    "\n",
    "# Classification report\n",
    "class_report = classification_report(y_test, y_predict)"
   ]
  },
  {
   "cell_type": "code",
   "execution_count": 382,
   "id": "96f1f770",
   "metadata": {},
   "outputs": [
    {
     "name": "stdout",
     "output_type": "stream",
     "text": [
      "\n",
      "Confusion Matrix\n",
      "\n",
      "[[494  78 134]\n",
      " [446  75 115]\n",
      " [438  92 128]]\n"
     ]
    }
   ],
   "source": [
    "print('\\nConfusion Matrix\\n')\n",
    "print(conf_matrix)"
   ]
  },
  {
   "cell_type": "markdown",
   "id": "e0bc0212",
   "metadata": {},
   "source": [
    "- For the class labeled as **\"Abnormal\" (0)**, the model correctly predicted **494** instances. However, it misclassified **78** instances of \"Inconclusive\" and **134** instances of \"Normal\" as \"Abnormal.\"\n",
    "- Regarding the category denoted as **\"Inconclusive\" (1)**, the model accurately predicted **75** instances. However, it misclassified **446** instances of \"Abnormal\" and **115** instances of \"Normal\" as \"Inconclusive.\"\n",
    "- As for the classification identified as **\"Normal\" (2)**, the model correctly predicted **128** instances. Nonetheless, it misclassified **438** instances of \"Abnormal\" and **92** instances of \"Inconclusive\" as \"Normal.\""
   ]
  },
  {
   "cell_type": "code",
   "execution_count": 383,
   "id": "2ef7d106",
   "metadata": {},
   "outputs": [
    {
     "name": "stdout",
     "output_type": "stream",
     "text": [
      "\n",
      "Classification Report\n",
      "\n",
      "              precision    recall  f1-score   support\n",
      "\n",
      "           0       0.36      0.70      0.47       706\n",
      "           1       0.31      0.12      0.17       636\n",
      "           2       0.34      0.19      0.25       658\n",
      "\n",
      "    accuracy                           0.35      2000\n",
      "   macro avg       0.33      0.34      0.30      2000\n",
      "weighted avg       0.34      0.35      0.30      2000\n",
      "\n"
     ]
    }
   ],
   "source": [
    "print('\\nClassification Report\\n')\n",
    "print(class_report)"
   ]
  },
  {
   "cell_type": "markdown",
   "id": "4c95c9b0",
   "metadata": {},
   "source": [
    "**For Class 0 (\"Abnormal\"):**\n",
    "- **Precision:** The precision score for predicting Class 0 instances is approximately 0.36, indicating that around 36% of the predicted \"Abnormal\" instances were correct.\n",
    "- **Recall:** The recall rate for Class 0 is roughly 0.70, suggesting that the model identified approximately 70% of the actual \"Abnormal\" instances.\n",
    "- **F1-score:** The F1-score for Class 0 is about 0.47, demonstrating a balance between precision and recall.\n",
    "\n",
    "**For Class 1 (\"Inconclusive\"):**\n",
    "- **Precision:** The precision for Class 1 instances is around 0.31, implying that about 31% of the predicted \"Inconclusive\" instances were correct.\n",
    "- **Recall:** The recall score for Class 1 is approximately 0.12, indicating that the model identified around 12% of the actual \"Inconclusive\" instances.\n",
    "- **F1-score:** The F1-score for Class 1 is roughly 0.17, indicating a balance between precision and recall.\n",
    "\n",
    "**For Class 2 (\"Normal\"):**\n",
    "- **Precision:** The precision score for Class 2 is approximately 0.34, meaning that around 34% of the predicted \"Normal\" instances were correct.\n",
    "- **Recall:** The recall rate for Class 2 is around 0.19, implying that the model identified about 19% of the actual \"Normal\" instances.\n",
    "- **F1-score:** The F1-score for Class 2 is approximately 0.25, demonstrating a balance between precision and recall.\n",
    "\n",
    "**Accuracy:** The overall accuracy across all classes is **35%**, indicating that the model **correctly predicted** the classes for approximately **35%** of the total instances in the dataset. The macro and weighted average metrics for precision, recall, and F1-score vary, averaging around 0.30 to 0.35, showing different levels of performance across classes. The model performed best in identifying \"Abnormal\" instances (Class 0) compared to the other classes."
   ]
  },
  {
   "cell_type": "markdown",
   "id": "2964f1fa",
   "metadata": {},
   "source": [
    "# **Conclusion**"
   ]
  },
  {
   "cell_type": "markdown",
   "id": "1619f40b",
   "metadata": {},
   "source": [
    "Based on the experimentation conducted, I've observed that both **Bagging Classifier**, utilizing Decision Tree as the base estimator with hyperparameter tuning (n_estimators = 100, max_samples = 0.7, max_features = 0.7), and **Stacking**, incorporating Random Forest and SVC with hyperparameter tuning, yielded the highest accuracy of **0.35** among the various modeling approaches tested. Despite applying **min-max scaling** for normalization, it **didn't notably impact** the models' accuracy. Hence, it appears that normalization isn't a critical factor for enhancing the performance of these models on this dataset.\n",
    "\n",
    "The effectiveness of Bagging Classifier and Stacking in achieving the **highest accuracy** might be attributed to their **ensemble nature**. Bagging, by aggregating multiple models, leverages the diversity of individual estimators to improve overall performance by **reducing variance**. On the other hand, Stacking combines the predictions of diverse base models using a meta-estimator, enabling it to **capture more complex relationships** within the data. The synergy between different models in these ensemble techniques likely contributes to their ability to capture varied patterns and generalize well, **resulting in higher accuracy** compared to standalone models.\n",
    "\n",
    "**In summary**, despite exploring normalization techniques which didn't notably influence model accuracy, ensemble methods such as Bagging Classifier and Stacking, leveraging diverse models and combining their outputs, emerged as the most effective approaches, achieving the highest accuracy of 0.35. These techniques demonstrate their capability to collectively harness the strengths of individual models and produce more robust and accurate predictions for this specific dataset."
   ]
  }
 ],
 "metadata": {
  "kernelspec": {
   "display_name": "Python 3 (ipykernel)",
   "language": "python",
   "name": "python3"
  },
  "language_info": {
   "codemirror_mode": {
    "name": "ipython",
    "version": 3
   },
   "file_extension": ".py",
   "mimetype": "text/x-python",
   "name": "python",
   "nbconvert_exporter": "python",
   "pygments_lexer": "ipython3",
   "version": "3.9.12"
  }
 },
 "nbformat": 4,
 "nbformat_minor": 5
}
